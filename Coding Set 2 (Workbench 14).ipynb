{
 "cells": [
  {
   "cell_type": "code",
   "execution_count": 1,
   "id": "9caeb6b9-2802-4826-a1b7-58b87322bcd1",
   "metadata": {},
   "outputs": [],
   "source": [
    "#Coding Set 2 Hannah Morrison\n",
    "#Algorithm Workbench 14\n",
    "#Using the turtle graphics feature while coding seems to be a fun feature that I look forward to using more. Hopefully I get the hang of it quickly. \n",
    "#Workbench 14 asks for a 100 by 100 pixel square colored blue. \n",
    "#I will first Import turtle graphics to begin"
   ]
  },
  {
   "cell_type": "code",
   "execution_count": 5,
   "id": "c8c6eb0c-ac50-444f-b942-6de968513681",
   "metadata": {},
   "outputs": [],
   "source": [
    "import turtle"
   ]
  },
  {
   "cell_type": "code",
   "execution_count": 7,
   "id": "bc8f3737-7b03-4a04-8442-49c6ed61d5c5",
   "metadata": {},
   "outputs": [],
   "source": [
    "turtle.hideturtle()"
   ]
  },
  {
   "cell_type": "code",
   "execution_count": 9,
   "id": "aa432e4a-16a7-4404-8781-8137837afe3f",
   "metadata": {},
   "outputs": [],
   "source": [
    "#now setting the turtle's fill color"
   ]
  },
  {
   "cell_type": "code",
   "execution_count": 11,
   "id": "83a30287-9801-454f-8e51-87fda4dba1b0",
   "metadata": {},
   "outputs": [],
   "source": [
    "turtle.fillcolor('blue')"
   ]
  },
  {
   "cell_type": "code",
   "execution_count": 13,
   "id": "6be7bc50-fa12-46f7-9766-cdf7a133d04e",
   "metadata": {},
   "outputs": [],
   "source": [
    "turtle.begin_fill()"
   ]
  },
  {
   "cell_type": "code",
   "execution_count": 15,
   "id": "dfaa3c42-cc43-4ae9-a6dc-dfb0a18ff2b5",
   "metadata": {},
   "outputs": [],
   "source": [
    "turtle.forward(100)"
   ]
  },
  {
   "cell_type": "code",
   "execution_count": 17,
   "id": "f1fe6e3e-d0cd-4794-a049-c435cf474d4c",
   "metadata": {},
   "outputs": [],
   "source": [
    "turtle.left(90)"
   ]
  },
  {
   "cell_type": "code",
   "execution_count": 19,
   "id": "b9b40ad7-80b1-4274-86a4-38203dee654a",
   "metadata": {},
   "outputs": [],
   "source": [
    "turtle.forward(100)"
   ]
  },
  {
   "cell_type": "code",
   "execution_count": 21,
   "id": "10426725-e7eb-4f55-81c6-364a7341a10f",
   "metadata": {},
   "outputs": [],
   "source": [
    "turtle.left(90)"
   ]
  },
  {
   "cell_type": "code",
   "execution_count": 23,
   "id": "35a761e9-9c6d-48f5-8265-9000fb5113f0",
   "metadata": {},
   "outputs": [],
   "source": [
    "turtle.forward(100)"
   ]
  },
  {
   "cell_type": "code",
   "execution_count": 25,
   "id": "0db01ad0-fe36-4cc0-88ee-582bc5dd7d1c",
   "metadata": {},
   "outputs": [],
   "source": [
    "turtle.left(90)"
   ]
  },
  {
   "cell_type": "code",
   "execution_count": 27,
   "id": "4a2e7caa-2912-42e5-95f0-e40590799d45",
   "metadata": {},
   "outputs": [],
   "source": [
    "turtle.forward(100)"
   ]
  },
  {
   "cell_type": "code",
   "execution_count": 31,
   "id": "2f1f3662-0296-488e-958c-bed36e2f74f9",
   "metadata": {},
   "outputs": [],
   "source": [
    "turtle.end_fill()"
   ]
  },
  {
   "cell_type": "code",
   "execution_count": 33,
   "id": "94751664-b60f-4cbf-b6c4-561a63147874",
   "metadata": {},
   "outputs": [],
   "source": [
    "#I have now completed a blue square that is 100 by 100 pixels"
   ]
  },
  {
   "cell_type": "code",
   "execution_count": null,
   "id": "757f1bb3-a17f-4a53-a7d2-447e001f55fc",
   "metadata": {},
   "outputs": [],
   "source": []
  }
 ],
 "metadata": {
  "kernelspec": {
   "display_name": "Python 3 (ipykernel)",
   "language": "python",
   "name": "python3"
  },
  "language_info": {
   "codemirror_mode": {
    "name": "ipython",
    "version": 3
   },
   "file_extension": ".py",
   "mimetype": "text/x-python",
   "name": "python",
   "nbconvert_exporter": "python",
   "pygments_lexer": "ipython3",
   "version": "3.11.7"
  }
 },
 "nbformat": 4,
 "nbformat_minor": 5
}

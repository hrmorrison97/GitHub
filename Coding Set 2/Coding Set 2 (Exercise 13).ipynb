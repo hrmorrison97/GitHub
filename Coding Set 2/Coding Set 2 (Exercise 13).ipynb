{
 "cells": [
  {
   "cell_type": "code",
   "execution_count": 1,
   "id": "3a35a414-1082-4fd8-b2a9-768d5b047cda",
   "metadata": {},
   "outputs": [],
   "source": [
    "#Coding set 2 Exercise 13 Planting Grapes\n",
    "#This program will calculate and display the number of grapevines able to fit per row in a field. "
   ]
  },
  {
   "cell_type": "code",
   "execution_count": null,
   "id": "85974367-f630-4fa9-8bbc-674fea9f9ffe",
   "metadata": {},
   "outputs": [],
   "source": [
    "R = float(input(\"Enter the length of the Row in feet: \"))\n",
    "E = float(input(\"Enter the amount of space used by end-post assemply in feet: \"))\n",
    "S = float(input(\"Enter the amount of space used by grapevines in a row: \"))\n",
    "#'V' is the amount of grapevines that will fit per row.\n",
    "V = (R - 2 * E) \n",
    "print(\"The number of grapevines in the row will be:\" , V)"
   ]
  }
 ],
 "metadata": {
  "kernelspec": {
   "display_name": "Python 3 (ipykernel)",
   "language": "python",
   "name": "python3"
  },
  "language_info": {
   "codemirror_mode": {
    "name": "ipython",
    "version": 3
   },
   "file_extension": ".py",
   "mimetype": "text/x-python",
   "name": "python",
   "nbconvert_exporter": "python",
   "pygments_lexer": "ipython3",
   "version": "3.11.7"
  },
  "widgets": {
   "application/vnd.jupyter.widget-state+json": {
    "state": {},
    "version_major": 2,
    "version_minor": 0
   }
  }
 },
 "nbformat": 4,
 "nbformat_minor": 5
}

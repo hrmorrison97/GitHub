{
 "cells": [
  {
   "cell_type": "markdown",
   "id": "4191b8cf-f621-496d-a201-98d7e88f40ed",
   "metadata": {},
   "source": [
    "# Coding Set 3 (Exercise 1. Day of the Week)\n",
    "### To do this problem I used Program 3-6 on pages 140 & 141 in the book for an example. I don't know if I did this exactly correct but it works. Keeping it somewhat simple and going line by line for my day's helped me figure this out. I also had an issue at the end when I wanted my error message to display, I had to create two separate 'else' lines. "
   ]
  },
  {
   "cell_type": "code",
   "execution_count": 6,
   "id": "04e7d843-7a66-4911-b157-ff475b157a2b",
   "metadata": {},
   "outputs": [],
   "source": [
    "#This program will ask a number between 1-7 corresponding with days of the week and display error if number is outside that range"
   ]
  },
  {
   "cell_type": "code",
   "execution_count": 19,
   "id": "149fcbb7-dc86-41d9-8974-5a7548c02b6e",
   "metadata": {},
   "outputs": [
    {
     "name": "stdin",
     "output_type": "stream",
     "text": [
      "Enter number corresponding to the Day of the week 3\n"
     ]
    },
    {
     "name": "stdout",
     "output_type": "stream",
     "text": [
      "Today is Wednesday\n"
     ]
    }
   ],
   "source": [
    "# Named constants for days of the week\n",
    "Monday = 1\n",
    "Tuesday = 2\n",
    "Wednesday = 3\n",
    "Thursday = 4\n",
    "Friday = 5\n",
    "Saturday = 6\n",
    "Sunday = 7\n",
    "\n",
    "# Get number from user\n",
    "Day = int(input('Enter number corresponding to the Day of the week'))\n",
    "\n",
    "# Determine what day it is\n",
    "if Day == 1:\n",
    "    print('Today is Monday')\n",
    "else:\n",
    "    if Day == 2:\n",
    "        print('Today is Tuesday')\n",
    "    else:\n",
    "        if Day == 3:\n",
    "            print('Today is Wednesday')\n",
    "        else:\n",
    "            if Day == 4:\n",
    "                print('Today is Thursday')\n",
    "            else:\n",
    "                if Day == 5:\n",
    "                    print('Today is Friday')\n",
    "                else:\n",
    "                    if Day == 6:\n",
    "                        print('Today is Saturday')\n",
    "                    else: \n",
    "                        if Day == 7: \n",
    "                            print('Today is Sunday')\n",
    "                        else:\n",
    "                            if Day < 1:\n",
    "                                print('Error, invalid number')\n",
    "                            else: \n",
    "                                if Day > 7:\n",
    "                                    print('Error, invalid number')"
   ]
  },
  {
   "cell_type": "code",
   "execution_count": null,
   "id": "a520fc0b-f465-4ca0-b2d4-687f86ff88fd",
   "metadata": {},
   "outputs": [],
   "source": []
  }
 ],
 "metadata": {
  "kernelspec": {
   "display_name": "Python 3 (ipykernel)",
   "language": "python",
   "name": "python3"
  },
  "language_info": {
   "codemirror_mode": {
    "name": "ipython",
    "version": 3
   },
   "file_extension": ".py",
   "mimetype": "text/x-python",
   "name": "python",
   "nbconvert_exporter": "python",
   "pygments_lexer": "ipython3",
   "version": "3.11.7"
  }
 },
 "nbformat": 4,
 "nbformat_minor": 5
}

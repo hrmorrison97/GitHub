{
 "cells": [
  {
   "cell_type": "markdown",
   "id": "b4bbaf8c-1d2f-4c9a-b84d-f58aecb52cd8",
   "metadata": {},
   "source": [
    "# Exercise 13. Population"
   ]
  },
  {
   "cell_type": "code",
   "execution_count": 1,
   "id": "7ab94a2d-2884-4623-a1a3-7608a8bc13e6",
   "metadata": {},
   "outputs": [],
   "source": [
    "#This program will predict approx. size of organism population size\n",
    "#Using text boxes for user to enter starting numbers, avg. daily increase (%), and days left to multiply. "
   ]
  },
  {
   "cell_type": "code",
   "execution_count": null,
   "id": "387afa05-5ef8-4c2c-a48c-dca2aac374d4",
   "metadata": {},
   "outputs": [],
   "source": [
    "#Input starting number of organisms. \n",
    "start_number = int(input(\"\\nStarting number of organisms: \"))\n",
    "\n",
    "#Error message for negative numbers.\n",
    "while start_number < 0:\n",
    "    start_number = int(input(\"Error: Enter a positive number: \"))\n",
    "\n",
    "#Input average daily increase percentage.\n",
    "avg_increase = float(input(\"Average daily increase: \"))\n",
    "\n",
    "#Error message.\n",
    "while avg_increase < 0:\n",
    "    avg_increase = float(input(\"Error: Enter a positive number: \"))\n",
    "\n",
    "#Turn percentage into whole number. \n",
    "avg_increase /= 100\n",
    "\n"
   ]
  }
 ],
 "metadata": {
  "kernelspec": {
   "display_name": "Python 3 (ipykernel)",
   "language": "python",
   "name": "python3"
  },
  "language_info": {
   "codemirror_mode": {
    "name": "ipython",
    "version": 3
   },
   "file_extension": ".py",
   "mimetype": "text/x-python",
   "name": "python",
   "nbconvert_exporter": "python",
   "pygments_lexer": "ipython3",
   "version": "3.11.7"
  },
  "widgets": {
   "application/vnd.jupyter.widget-state+json": {
    "state": {},
    "version_major": 2,
    "version_minor": 0
   }
  }
 },
 "nbformat": 4,
 "nbformat_minor": 5
}

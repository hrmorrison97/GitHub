{
 "cells": [
  {
   "cell_type": "markdown",
   "id": "834d8b38-1b54-459c-a70f-2aa908bc47b1",
   "metadata": {},
   "source": [
    "# Exercise 1. Kilometer Converter\n",
    "#### "
   ]
  },
  {
   "cell_type": "code",
   "execution_count": 21,
   "id": "59ad22f1-a667-49e1-a3e5-10067bf7ecda",
   "metadata": {},
   "outputs": [],
   "source": [
    "#This program will ask user to enter a distance in kilometers and convert that into miles. "
   ]
  },
  {
   "cell_type": "code",
   "execution_count": null,
   "id": "a1c2c912-ac18-4eac-a06c-226a641db7dd",
   "metadata": {},
   "outputs": [],
   "source": [
    "def main():                                                           #display intro screen\n",
    "    intro()                                                           #display intro screen\n",
    "    kilometers = int(input('Enter how many kilometers traveled:'))    #ask user for Kilometers traveled\n",
    "    miles = kilometers_to_miles(kilometers)                           #define miles\n",
    "    print(f'That converts to: {miles} miles.')                        #message for miles conversion\n",
    "\n",
    "def intro():                                                          #defines intro messages, adds space before conversion\n",
    "    print('This program converts distances')\n",
    "    print('in kilometers to miles. For your')\n",
    "    print('reference the formula is:')\n",
    "    print('1 mile = 1 kilometer * 0.6214')\n",
    "    print()\n",
    "\n"
   ]
  }
 ],
 "metadata": {
  "kernelspec": {
   "display_name": "Python 3 (ipykernel)",
   "language": "python",
   "name": "python3"
  },
  "language_info": {
   "codemirror_mode": {
    "name": "ipython",
    "version": 3
   },
   "file_extension": ".py",
   "mimetype": "text/x-python",
   "name": "python",
   "nbconvert_exporter": "python",
   "pygments_lexer": "ipython3",
   "version": "3.11.7"
  },
  "widgets": {
   "application/vnd.jupyter.widget-state+json": {
    "state": {},
    "version_major": 2,
    "version_minor": 0
   }
  }
 },
 "nbformat": 4,
 "nbformat_minor": 5
}

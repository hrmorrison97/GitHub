{
 "cells": [
  {
   "cell_type": "markdown",
   "id": "3eca4afd-e851-4a38-ae90-93921346aa9e",
   "metadata": {},
   "source": [
    "# Coding Set 3 (Exercise 5. Mass and Weight)\n",
    "### By using 3-4 on page 134 I was able to somewhat figure out how to code this program. I had a few errors at first, my formula was at the beginning instead of after defining Mass, I then had some character misplacements. After my corrections and a random newton amount, I actually got it to work. "
   ]
  },
  {
   "cell_type": "code",
   "execution_count": 2,
   "id": "d8416be0-cede-4815-ad5a-5663218877a5",
   "metadata": {},
   "outputs": [],
   "source": [
    "#This program will promt user to enter an object's mass and will calculate the weight of said object."
   ]
  },
  {
   "cell_type": "code",
   "execution_count": 4,
   "id": "b160d9cb-2d03-4428-a286-a8f73f2f8f60",
   "metadata": {},
   "outputs": [],
   "source": [
    "#Objects over 500 newtons will display error and objects under 100 newtons will display an error. "
   ]
  },
  {
   "cell_type": "code",
   "execution_count": 18,
   "id": "2c749265-34b7-48db-9c6e-2355949ef47c",
   "metadata": {},
   "outputs": [
    {
     "name": "stdin",
     "output_type": "stream",
     "text": [
      "Enter newton amount of object 375\n"
     ]
    },
    {
     "name": "stdout",
     "output_type": "stream",
     "text": [
      "Object weighs 3675.0000000000005 kilograms.\n"
     ]
    }
   ],
   "source": [
    "Mass = float(input('Enter newton amount of object'))\n",
    "Weight = Mass * 9.8\n",
    "print('Object weighs' , Weight , 'kilograms.')\n",
    "if Mass > 500:\n",
    "    print('Object too large')\n",
    "else:\n",
    "    if Mass < 100:\n",
    "        print('Object too small')"
   ]
  },
  {
   "cell_type": "code",
   "execution_count": null,
   "id": "cdf55e6b-3ebc-40f4-af57-85499e32ea51",
   "metadata": {},
   "outputs": [],
   "source": []
  }
 ],
 "metadata": {
  "kernelspec": {
   "display_name": "Python 3 (ipykernel)",
   "language": "python",
   "name": "python3"
  },
  "language_info": {
   "codemirror_mode": {
    "name": "ipython",
    "version": 3
   },
   "file_extension": ".py",
   "mimetype": "text/x-python",
   "name": "python",
   "nbconvert_exporter": "python",
   "pygments_lexer": "ipython3",
   "version": "3.11.7"
  }
 },
 "nbformat": 4,
 "nbformat_minor": 5
}

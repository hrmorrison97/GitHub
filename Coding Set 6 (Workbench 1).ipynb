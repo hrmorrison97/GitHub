{
 "cells": [
  {
   "cell_type": "markdown",
   "id": "59d149ea-a685-46cc-b56c-5d07fc61e9ec",
   "metadata": {},
   "source": [
    "# Workbench 1. Open output file, write your name, close file. \n",
    "#### Our book has pretty basic instructions on how to complete this program. I just edited what the variable names were and what the input information was to follow the question directions. "
   ]
  },
  {
   "cell_type": "code",
   "execution_count": 2,
   "id": "8063e299-12ae-47d1-b2d6-e31c2a9dcd6f",
   "metadata": {},
   "outputs": [],
   "source": [
    "#this program will open a file 'my_name', and enter my name into the file, then close the file\n",
    "\n",
    "my_name = open('my_name.txt', \"w\")   #opening/creating the 'my_name' file\n"
   ]
  }
 ],
 "metadata": {
  "kernelspec": {
   "display_name": "Python 3 (ipykernel)",
   "language": "python",
   "name": "python3"
  },
  "language_info": {
   "codemirror_mode": {
    "name": "ipython",
    "version": 3
   },
   "file_extension": ".py",
   "mimetype": "text/x-python",
   "name": "python",
   "nbconvert_exporter": "python",
   "pygments_lexer": "ipython3",
   "version": "3.11.7"
  },
  "widgets": {
   "application/vnd.jupyter.widget-state+json": {
    "state": {},
    "version_major": 2,
    "version_minor": 0
   }
  }
 },
 "nbformat": 4,
 "nbformat_minor": 5
}

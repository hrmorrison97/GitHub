{
 "cells": [
  {
   "cell_type": "markdown",
   "id": "0fc9fe15-b7d6-4243-a2ff-503c6ac58cff",
   "metadata": {},
   "source": [
    "# Workbench 6. Statement to generate random number 1-100 with rand.\n",
    "\n",
    "#### Our book has an example of this with 'randit' (there's no 'rand' in our book???) with 1-10 random number display. I used the books example and changed the parameters to what our problem is and changed the message to be a little fun."
   ]
  },
  {
   "cell_type": "code",
   "execution_count": 1,
   "id": "04f7d38a-087d-4bdf-a0a8-3718bb705298",
   "metadata": {},
   "outputs": [],
   "source": [
    "#This program will display a random number between 1-100 and assign to a variable named rand"
   ]
  },
  {
   "cell_type": "code",
   "execution_count": 7,
   "id": "fdc3f475-2646-4cf9-8ff9-390b6ceb5573",
   "metadata": {},
   "outputs": [
    {
     "name": "stdout",
     "output_type": "stream",
     "text": [
      "The random number shall be 98.\n"
     ]
    }
   ],
   "source": [
    "import random                                       #Importing module functions\n",
    "\n",
    "def main():                                         #Defining main\n",
    "    number = random.randint(1, 100)                    #Defining number, assigning rand, setting parameters\n",
    "\n",
    "    print(f'The random number shall be {number}.')  #Display the number\n",
    "\n",
    "main()                                              #Call main function\n",
    "    "
   ]
  },
  {
   "cell_type": "code",
   "execution_count": 8,
   "id": "015d282d-50bb-4fa8-88fb-47b97cbc26eb",
   "metadata": {},
   "outputs": [
    {
     "name": "stdout",
     "output_type": "stream",
     "text": [
      "The random number shall be 58.\n"
     ]
    }
   ],
   "source": [
    "main()"
   ]
  },
  {
   "cell_type": "code",
   "execution_count": null,
   "id": "2f71634b-6305-442d-8d4c-a07c2339869f",
   "metadata": {},
   "outputs": [],
   "source": []
  }
 ],
 "metadata": {
  "kernelspec": {
   "display_name": "Python 3 (ipykernel)",
   "language": "python",
   "name": "python3"
  },
  "language_info": {
   "codemirror_mode": {
    "name": "ipython",
    "version": 3
   },
   "file_extension": ".py",
   "mimetype": "text/x-python",
   "name": "python",
   "nbconvert_exporter": "python",
   "pygments_lexer": "ipython3",
   "version": "3.11.7"
  },
  "widgets": {
   "application/vnd.jupyter.widget-state+json": {
    "state": {},
    "version_major": 2,
    "version_minor": 0
   }
  }
 },
 "nbformat": 4,
 "nbformat_minor": 5
}

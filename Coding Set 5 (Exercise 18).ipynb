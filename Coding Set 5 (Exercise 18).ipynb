{
 "cells": [
  {
   "cell_type": "markdown",
   "id": "d6d1f878-c727-4f86-9998-a50782bdb962",
   "metadata": {},
   "source": [
    "# Exercise 18. Prime Number List \n",
    "#### See problem 17 for most of the explination. To finish the code I just added another main function and a for to cause a loop. "
   ]
  },
  {
   "cell_type": "code",
   "execution_count": 1,
   "id": "7731fdfc-400b-43b3-9af8-b393b343988c",
   "metadata": {},
   "outputs": [],
   "source": [
    "#This program will display all prime numbers from 1 - 100 witha loop calling is_prime function. "
   ]
  },
  {
   "cell_type": "code",
   "execution_count": null,
   "id": "c9873ca8-a76f-46e3-976d-8263a3b48d9b",
   "metadata": {},
   "outputs": [],
   "source": [
    "#Copied code from exercise 17 to start prime number list with is_prime function.\n",
    "import math                                                                   #Importing math functions from module\n",
    "\n",
    "def main():\n",
    "    num = int(input(\"Please enter an integer to test for prime: \"))           #Asking user to enter integer for prime number test/added int\n",
    "\n",
    "    if is_prime(num):\n",
    "        print(\"Hooray, you found a prime number!\")                            #If statement for message with prime number\n",
    "    else:\n",
    "        print(\"Gross, that's just a normal number. Better luck next time.\")   #Else statement for message without prime number\n",
    "    \n",
    "def is_prime(num):                                                            #Defining function\n",
    "    for i in range(2, math.floor(math.sqrt(num)) + 1):                        #Didn't have colon for range statement/added math function\n",
    "        if num % i == 0:                                                      #Creating 'if' statement\n",
    "            return False                                                      #Displaying error message for non-prime numbers\n",
    "    return True\n",
    "\n",
    "def main():\n",
    "    for CurrentNumber in range (1, 101):                         #Defining range for prime numbers to display\n",
    "        print(CurrentNumber)\n",
    "\n",
    "main()"
   ]
  },
  {
   "cell_type": "code",
   "execution_count": null,
   "id": "325bb08c-cce5-475d-8f8b-22d4140287bc",
   "metadata": {},
   "outputs": [],
   "source": []
  }
 ],
 "metadata": {
  "kernelspec": {
   "display_name": "Python 3 (ipykernel)",
   "language": "python",
   "name": "python3"
  },
  "language_info": {
   "codemirror_mode": {
    "name": "ipython",
    "version": 3
   },
   "file_extension": ".py",
   "mimetype": "text/x-python",
   "name": "python",
   "nbconvert_exporter": "python",
   "pygments_lexer": "ipython3",
   "version": "3.11.7"
  },
  "widgets": {
   "application/vnd.jupyter.widget-state+json": {
    "state": {},
    "version_major": 2,
    "version_minor": 0
   }
  }
 },
 "nbformat": 4,
 "nbformat_minor": 5
}

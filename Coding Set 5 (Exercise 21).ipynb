{
 "cells": [
  {
   "cell_type": "markdown",
   "id": "d444332d-49e5-476d-a4dd-a4fc09927536",
   "metadata": {},
   "source": [
    "# Exercise 21. Rock, Paper, Scissors Game"
   ]
  },
  {
   "cell_type": "code",
   "execution_count": null,
   "id": "23067870-31ff-4f92-b6bd-a47fed16293c",
   "metadata": {},
   "outputs": [],
   "source": [
    "#This program will let user play a game of Rock, Paper, Scissors against the computer."
   ]
  },
  {
   "cell_type": "code",
   "execution_count": 32,
   "id": "f77f19f4-bb1b-4ead-8ee8-be57588dc464",
   "metadata": {},
   "outputs": [
    {
     "ename": "NameError",
     "evalue": "name 'while_tie' is not defined",
     "output_type": "error",
     "traceback": [
      "\u001b[0;31m---------------------------------------------------------------------------\u001b[0m",
      "\u001b[0;31mNameError\u001b[0m                                 Traceback (most recent call last)",
      "Cell \u001b[0;32mIn[32], line 40\u001b[0m\n\u001b[1;32m     37\u001b[0m             \u001b[38;5;28mprint\u001b[39m(\u001b[38;5;124m\"\u001b[39m\u001b[38;5;124mYou lose. Rock beats Scissors.\u001b[39m\u001b[38;5;124m\"\u001b[39m, \u001b[38;5;124m\"\u001b[39m\u001b[38;5;130;01m\\n\u001b[39;00m\u001b[38;5;124m\"\u001b[39m)\n\u001b[1;32m     38\u001b[0m             tie \u001b[38;5;241m=\u001b[39m \u001b[38;5;28;01mFalse\u001b[39;00m                                      \u001b[38;5;66;03m#If both play same, tie\u001b[39;00m\n\u001b[0;32m---> 40\u001b[0m main()\n",
      "Cell \u001b[0;32mIn[32], line 5\u001b[0m, in \u001b[0;36mmain\u001b[0;34m()\u001b[0m\n\u001b[1;32m      3\u001b[0m \u001b[38;5;28;01mdef\u001b[39;00m \u001b[38;5;21mmain\u001b[39m():                                                  \u001b[38;5;66;03m#Defining 'main' function/added colon\u001b[39;00m\n\u001b[1;32m      4\u001b[0m     tie \u001b[38;5;241m=\u001b[39m \u001b[38;5;28;01mTrue\u001b[39;00m                                               \u001b[38;5;66;03m#Defining 'tie' value\u001b[39;00m\n\u001b[0;32m----> 5\u001b[0m     while_tie                                                \u001b[38;5;66;03m#'while' statement for 'tie' values\u001b[39;00m\n\u001b[1;32m      6\u001b[0m     number \u001b[38;5;241m=\u001b[39m random\u001b[38;5;241m.\u001b[39mrandint(\u001b[38;5;241m1\u001b[39m,\u001b[38;5;241m3\u001b[39m)                             \u001b[38;5;66;03m#'Random.randit' statement for input of 1-3 from computer\u001b[39;00m\n\u001b[1;32m      7\u001b[0m     computer \u001b[38;5;241m=\u001b[39m \u001b[38;5;124m\"\u001b[39m\u001b[38;5;124m\"\u001b[39m\n",
      "\u001b[0;31mNameError\u001b[0m: name 'while_tie' is not defined"
     ]
    }
   ],
   "source": [
    "import random                                                #Importing random module\n",
    "\n",
    "def main():                                                  #Defining 'main' function/added colon\n",
    "    tie = True                                               #Defining 'tie' value\n",
    "    while_tie                                                #'while' statement for 'tie' values\n",
    "    number = random.randint(1,3)                             #'Random.randit' statement for input of 1-3 from computer\n",
    "    computer = \"\"\n",
    "    if number == 1:\n",
    "        computer = \"rock\"\n",
    "    if number == 2:\n",
    "        computer = \"paper\"\n",
    "    if number == 3:                                          #added colon, fixed indentation for lines 4-13\n",
    "        computer = \"scissors\"                                #Lines 7-13, defining each 'if' statment for numbers 1-3\n",
    "\n",
    "        player = input(\"Enter rock, paper, or scissors: \")   #Defining player value, asking user to input play value\n",
    "        print(\"computer played\", computer, \"\\n\")             #Message displaying what computer played\n",
    "\n",
    "        if computer == player:                               #Begin game with computer, if computer and user played same they tie\n",
    "            print(\"It's a tie!\\n\")\n",
    "            number = random.randint(1,3)\n",
    "        if computer == \"rock\" and player == \"paper\":         #Computer plays 'rock' to users 'paper', user wins\n",
    "            print(\"You win! Paper beats Rock.\", \"\\n\")\n",
    "            tie = False                                      #If both play same, tie\n",
    "        if computer == \"paper\" and player == \"rock\":         #Computer plays 'paper' to users 'rock', computer wins\n",
    "            print(\"You lose. Paper beats Rock!\", \"\\n\")\n",
    "            tie = False                                      #If both play same, tie\n",
    "        if computer == \"paper\" and player == \"scissors\":     #Computer plays 'paper' to users 'scissors', user wins\n",
    "            print(\"You win! Scissors beat Paper.\", \"\\n\")\n",
    "            tie = False                                      #If both play same, tie\n",
    "        if computer == \"scissors\" and player == \"paper\":     #Computer plays 'scissors' to users 'paper', computer wins\n",
    "            print(\"You lose. Scissors beat Paper.\", \"\\n\")\n",
    "            tie = False                                      #If both play same, tie\n",
    "        if computer == \"scissors\" and player == \"rock\":      #Computer plays 'scissors' to users 'paper', user wins\n",
    "            print(\"You win! Rock beats Scissors\", \"\\n\")\n",
    "            tie = False                                      #If both play same, tie\n",
    "        if computer == \"rock\" and player == \"scissors\":      #Computer plays 'rock' to users 'scissors', computer wins\n",
    "            print(\"You lose. Rock beats Scissors.\", \"\\n\")\n",
    "            tie = False                                      #If both play same, tie\n",
    "\n",
    "main()                                                       #Recalling 'main' function"
   ]
  },
  {
   "cell_type": "code",
   "execution_count": null,
   "id": "d61f0efd-a842-43dc-a0b2-28c88ae5ffec",
   "metadata": {},
   "outputs": [],
   "source": []
  }
 ],
 "metadata": {
  "kernelspec": {
   "display_name": "Python 3 (ipykernel)",
   "language": "python",
   "name": "python3"
  },
  "language_info": {
   "codemirror_mode": {
    "name": "ipython",
    "version": 3
   },
   "file_extension": ".py",
   "mimetype": "text/x-python",
   "name": "python",
   "nbconvert_exporter": "python",
   "pygments_lexer": "ipython3",
   "version": "3.11.7"
  },
  "widgets": {
   "application/vnd.jupyter.widget-state+json": {
    "state": {},
    "version_major": 2,
    "version_minor": 0
   }
  }
 },
 "nbformat": 4,
 "nbformat_minor": 5
}

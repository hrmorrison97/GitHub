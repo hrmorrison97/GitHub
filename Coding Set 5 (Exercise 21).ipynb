{
 "cells": [
  {
   "cell_type": "markdown",
   "id": "d444332d-49e5-476d-a4dd-a4fc09927536",
   "metadata": {},
   "source": [
    "# Exercise 21. Rock, Paper, Scissors Game"
   ]
  },
  {
   "cell_type": "code",
   "execution_count": null,
   "id": "23067870-31ff-4f92-b6bd-a47fed16293c",
   "metadata": {},
   "outputs": [],
   "source": [
    "#This program will let user play a game of Rock, Paper, Scissors against the computer."
   ]
  },
  {
   "cell_type": "code",
   "execution_count": 7,
   "id": "f77f19f4-bb1b-4ead-8ee8-be57588dc464",
   "metadata": {},
   "outputs": [
    {
     "ename": "SyntaxError",
     "evalue": "expected ':' (2540183667.py, line 3)",
     "output_type": "error",
     "traceback": [
      "\u001b[0;36m  Cell \u001b[0;32mIn[7], line 3\u001b[0;36m\u001b[0m\n\u001b[0;31m    def main()                              #Defining main function\u001b[0m\n\u001b[0m                                            ^\u001b[0m\n\u001b[0;31mSyntaxError\u001b[0m\u001b[0;31m:\u001b[0m expected ':'\n"
     ]
    }
   ],
   "source": [
    "import random                           #Importing random module\n",
    "\n",
    "def main()                              #Defining main function\n",
    "    tie = True                          #Defining tie value\n",
    "    while_tie:                          #While statement for tie values\n",
    "        number = random.randint(1,3)    #Random.randit statement for input of 1-3 from computer\n",
    "        computer = \"\"\n",
    "        if number == 1:\n",
    "            computer = \"rock\"\n",
    "        if number == 2:\n",
    "            computer = \"paper\"\n",
    "        if number == 3\n",
    "            computer = \"scissors\"       #Lines 7-13, defining each if statment for numbers 1-3\n",
    "\n",
    "        player = input(\"Enter rock, paper, or scissors: \")   #Defining player value, asking user to input play value\n",
    "        print(\"computer played\", computer, \"\\n\")             #Message displaying what computer played\n",
    "            pass\n"
   ]
  },
  {
   "cell_type": "code",
   "execution_count": null,
   "id": "d61f0efd-a842-43dc-a0b2-28c88ae5ffec",
   "metadata": {},
   "outputs": [],
   "source": []
  }
 ],
 "metadata": {
  "kernelspec": {
   "display_name": "Python 3 (ipykernel)",
   "language": "python",
   "name": "python3"
  },
  "language_info": {
   "codemirror_mode": {
    "name": "ipython",
    "version": 3
   },
   "file_extension": ".py",
   "mimetype": "text/x-python",
   "name": "python",
   "nbconvert_exporter": "python",
   "pygments_lexer": "ipython3",
   "version": "3.11.7"
  },
  "widgets": {
   "application/vnd.jupyter.widget-state+json": {
    "state": {},
    "version_major": 2,
    "version_minor": 0
   }
  }
 },
 "nbformat": 4,
 "nbformat_minor": 5
}

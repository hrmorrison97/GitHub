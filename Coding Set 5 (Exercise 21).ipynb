{
 "cells": [
  {
   "cell_type": "markdown",
   "id": "d444332d-49e5-476d-a4dd-a4fc09927536",
   "metadata": {},
   "source": [
    "# Exercise 21. Rock, Paper, Scissors Game"
   ]
  },
  {
   "cell_type": "code",
   "execution_count": null,
   "id": "23067870-31ff-4f92-b6bd-a47fed16293c",
   "metadata": {},
   "outputs": [],
   "source": [
    "#This program will let user play a game of Rock, Paper, Scissors against the computer."
   ]
  },
  {
   "cell_type": "code",
   "execution_count": 27,
   "id": "f77f19f4-bb1b-4ead-8ee8-be57588dc464",
   "metadata": {},
   "outputs": [],
   "source": [
    "import random                                                #Importing random module\n",
    "\n",
    "def main():                                                  #Defining 'main' function/added colon\n",
    "    tie = True                                               #Defining 'tie' value\n",
    "    while_tie                                                #'while' statement for 'tie' values\n",
    "    number = random.randint(1,3)                             #'Random.randit' statement for input of 1-3 from computer\n",
    "    computer = \"\"\n",
    "    if number == 1:\n",
    "        computer = \"rock\"\n",
    "    if number == 2:\n",
    "        computer = \"paper\"\n",
    "    if number == 3:                                          #added colon, fixed indentation for lines 4-13\n",
    "        computer = \"scissors\"                                #Lines 7-13, defining each 'if' statment for numbers 1-3\n",
    "\n",
    "        player = input(\"Enter rock, paper, or scissors: \")   #Defining player value, asking user to input play value\n",
    "        print(\"computer played\", computer, \"\\n\")             #Message displaying what computer played\n",
    "\n",
    "        if computer == player:                               #Begin game with computer, if computer and user played same they tie\n",
    "            print(\"It's a tie!\\n\")\n",
    "            number = random.randint(1,3)\n",
    "        if computer == \"rock\" and player == \"paper\":         #Computer loses with 'rock' to users 'paper'\n",
    "            print(\"You win! Paper beats Rock.\", \"\\n\")\n",
    "            tie = False\n",
    "        pass"
   ]
  },
  {
   "cell_type": "code",
   "execution_count": null,
   "id": "d61f0efd-a842-43dc-a0b2-28c88ae5ffec",
   "metadata": {},
   "outputs": [],
   "source": []
  }
 ],
 "metadata": {
  "kernelspec": {
   "display_name": "Python 3 (ipykernel)",
   "language": "python",
   "name": "python3"
  },
  "language_info": {
   "codemirror_mode": {
    "name": "ipython",
    "version": 3
   },
   "file_extension": ".py",
   "mimetype": "text/x-python",
   "name": "python",
   "nbconvert_exporter": "python",
   "pygments_lexer": "ipython3",
   "version": "3.11.7"
  },
  "widgets": {
   "application/vnd.jupyter.widget-state+json": {
    "state": {},
    "version_major": 2,
    "version_minor": 0
   }
  }
 },
 "nbformat": 4,
 "nbformat_minor": 5
}

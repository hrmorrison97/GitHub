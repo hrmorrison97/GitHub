{
 "cells": [
  {
   "cell_type": "markdown",
   "id": "cb9cd96b-60c2-418c-b058-5bdd751f9bc4",
   "metadata": {},
   "source": [
    "# Exercise 1. Bug Collector\n",
    "#### Section 4.4, Calculating a Running Total has a wonderful example in 4-12 on how to set up a running total program. I had to do some adjusting to the wording and what they used for their program to get this one to work. "
   ]
  },
  {
   "cell_type": "code",
   "execution_count": 1,
   "id": "54fff79e-df8e-4878-8e7b-adb83f229e40",
   "metadata": {},
   "outputs": [],
   "source": [
    "#This program will keep a running total for 5 days of bug collection. "
   ]
  },
  {
   "cell_type": "code",
   "execution_count": 2,
   "id": "863de45e-e296-4c98-845a-a8b457b5078f",
   "metadata": {},
   "outputs": [],
   "source": [
    "#Program will ask user for number of bugs collected each day, and display the total collected when finished. "
   ]
  },
  {
   "cell_type": "code",
   "execution_count": null,
   "id": "3b5ccbf1-5f03-4313-b3d6-c76f937b94f7",
   "metadata": {},
   "outputs": [],
   "source": [
    "#Initialize accumulator variable for amount of bugs.\n",
    "bugs_collected = 0"
   ]
  }
 ],
 "metadata": {
  "kernelspec": {
   "display_name": "Python 3 (ipykernel)",
   "language": "python",
   "name": "python3"
  },
  "language_info": {
   "codemirror_mode": {
    "name": "ipython",
    "version": 3
   },
   "file_extension": ".py",
   "mimetype": "text/x-python",
   "name": "python",
   "nbconvert_exporter": "python",
   "pygments_lexer": "ipython3",
   "version": "3.11.7"
  },
  "widgets": {
   "application/vnd.jupyter.widget-state+json": {
    "state": {},
    "version_major": 2,
    "version_minor": 0
   }
  }
 },
 "nbformat": 4,
 "nbformat_minor": 5
}

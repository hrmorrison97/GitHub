{
 "cells": [
  {
   "cell_type": "markdown",
   "id": "190f3aea-69d1-46f1-b60e-38f81a6970dd",
   "metadata": {},
   "source": [
    "# Workbench 4. Count number of lowercase letters with loop "
   ]
  },
  {
   "cell_type": "code",
   "execution_count": 2,
   "id": "e5542f2d-40be-4dfb-b523-ae9dbf0d9b6e",
   "metadata": {},
   "outputs": [],
   "source": [
    "#this program will count the number of lowercase letters in a string"
   ]
  },
  {
   "cell_type": "code",
   "execution_count": null,
   "id": "cd3b969d-099f-4042-a08e-a294a2a0a725",
   "metadata": {},
   "outputs": [],
   "source": [
    "def main()                                        #defining main\n",
    "    count = 0                                     #variable to hold the count, must start at 0\n",
    "\n",
    "    my_string = input('Enter some words:')        #get some words from user to create string"
   ]
  }
 ],
 "metadata": {
  "kernelspec": {
   "display_name": "Python 3 (ipykernel)",
   "language": "python",
   "name": "python3"
  },
  "language_info": {
   "codemirror_mode": {
    "name": "ipython",
    "version": 3
   },
   "file_extension": ".py",
   "mimetype": "text/x-python",
   "name": "python",
   "nbconvert_exporter": "python",
   "pygments_lexer": "ipython3",
   "version": "3.11.7"
  },
  "widgets": {
   "application/vnd.jupyter.widget-state+json": {
    "state": {},
    "version_major": 2,
    "version_minor": 0
   }
  }
 },
 "nbformat": 4,
 "nbformat_minor": 5
}

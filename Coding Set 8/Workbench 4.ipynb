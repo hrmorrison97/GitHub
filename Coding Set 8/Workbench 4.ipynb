{
 "cells": [
  {
   "cell_type": "markdown",
   "id": "190f3aea-69d1-46f1-b60e-38f81a6970dd",
   "metadata": {},
   "source": [
    "# Workbench 4. Count number of lowercase letters with loop \n",
    "#### In the beginning of our chapter, we learned about basic string operations and one of the first examples showed counting the number of lowercase and uppercase 'T's' in a sentence. I modified that to count the lowercase letters in a sentence given by a user. (hopefully the Supernatural references have shown through now.)"
   ]
  },
  {
   "cell_type": "code",
   "execution_count": 2,
   "id": "e5542f2d-40be-4dfb-b523-ae9dbf0d9b6e",
   "metadata": {},
   "outputs": [],
   "source": [
    "#this program will count the number of lowercase letters in a string"
   ]
  },
  {
   "cell_type": "code",
   "execution_count": 12,
   "id": "cd3b969d-099f-4042-a08e-a294a2a0a725",
   "metadata": {},
   "outputs": [],
   "source": [
    "def main():                                       #defining main\n",
    "    count = 0                                     #variable to hold the count, must start at 0\n",
    "\n",
    "    my_string = input('Enter some words:')        #get some words from user to create string\n",
    "\n",
    "    for char in my_string:                        #count the lowercase letters\n",
    "        if char.islower():\n",
    "            count += 1 \n",
    "\n",
    "    print(f'There are, {count} lowercase letters in your sentence.')"
   ]
  }
 ],
 "metadata": {
  "kernelspec": {
   "display_name": "Python 3 (ipykernel)",
   "language": "python",
   "name": "python3"
  },
  "language_info": {
   "codemirror_mode": {
    "name": "ipython",
    "version": 3
   },
   "file_extension": ".py",
   "mimetype": "text/x-python",
   "name": "python",
   "nbconvert_exporter": "python",
   "pygments_lexer": "ipython3",
   "version": "3.11.7"
  },
  "widgets": {
   "application/vnd.jupyter.widget-state+json": {
    "state": {},
    "version_major": 2,
    "version_minor": 0
   }
  }
 },
 "nbformat": 4,
 "nbformat_minor": 5
}

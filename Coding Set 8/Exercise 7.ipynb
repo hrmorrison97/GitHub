{
 "cells": [
  {
   "cell_type": "markdown",
   "id": "9e37fc80-7582-4c65-b8d5-b3420957ec63",
   "metadata": {},
   "source": [
    "# Exercise 7. Character Analysis\n",
    "#### Using what we've learned about file reading and taking data from files, I started with that. Then, in 8.3 of our book, I pulled from the chart of testing methods and character testing with strings. I had one minor hiccup with my file.readlines being incorrect but once I fixed that this program worked flawlessly"
   ]
  },
  {
   "cell_type": "code",
   "execution_count": 1,
   "id": "839ade2e-0b87-4f73-a984-1458dac7bd7e",
   "metadata": {},
   "outputs": [],
   "source": [
    "#this program will read a file and determine the number of uppercase, lowercase, digits, and whitespace in file. "
   ]
  },
  {
   "cell_type": "code",
   "execution_count": null,
   "id": "cf828e34-7e0f-42c7-8be9-892648737c75",
   "metadata": {},
   "outputs": [],
   "source": [
    "#removed 'lines' from file.read() to make program function properly"
   ]
  },
  {
   "cell_type": "code",
   "execution_count": 43,
   "id": "0034410a-d4d9-4199-99e9-9c804f34b671",
   "metadata": {},
   "outputs": [
    {
     "name": "stdout",
     "output_type": "stream",
     "text": [
      "Amount of uppercase letters: \u001b[1m29\u001b[0m\n",
      "Amount of lowercase letters: \u001b[1m1228\u001b[0m\n",
      "Amount of digits: \u001b[1m30\u001b[0m\n",
      "Amount of whitespaces: \u001b[1m260\u001b[0m\n"
     ]
    }
   ],
   "source": [
    "    file = open('text.txt', 'r')                 #opening text file for extraction\n",
    "    file_content = file.read()                   #reading lines into strings\n",
    "\n",
    "    uppercase_count = 0                          #creating counters for characters\n",
    "    lowercase_count = 0\n",
    "    digit_count = 0\n",
    "    whitespace_count = 0 \n",
    "\n",
    "    for char in file_content:                    #iterate over each character in file\n",
    "        if char.isupper():                       #check if character is uppercase, lowercase, digit, or whitespace\n",
    "            uppercase_count += 1\n",
    "        elif char.islower():\n",
    "            lowercase_count += 1\n",
    "        elif char.isdigit():\n",
    "            digit_count += 1 \n",
    "        elif char.isspace():\n",
    "            whitespace_count += 1\n",
    "                                                 #print counts with bold formatting for easier reading\n",
    "    print('Amount of uppercase letters:', f'\\033[1m{uppercase_count}\\033[0m')     \n",
    "    print('Amount of lowercase letters:', f'\\033[1m{lowercase_count}\\033[0m')\n",
    "    print('Amount of digits:', f'\\033[1m{digit_count}\\033[0m')\n",
    "    print('Amount of whitespaces:', f'\\033[1m{whitespace_count}\\033[0m')"
   ]
  },
  {
   "cell_type": "code",
   "execution_count": null,
   "id": "ed152f68-79dd-4dec-b648-172b785b78b4",
   "metadata": {},
   "outputs": [],
   "source": [
    "#program below shows '0' for counts, changed above to fix. "
   ]
  },
  {
   "cell_type": "code",
   "execution_count": 42,
   "id": "077ee4e2-c835-4cdf-8847-6e5c3f35eb7f",
   "metadata": {},
   "outputs": [
    {
     "name": "stdout",
     "output_type": "stream",
     "text": [
      "Amount of uppercase letters: \u001b[1m0\u001b[0m\n",
      "Amount of lowercase letters: \u001b[1m0\u001b[0m\n",
      "Amount of digits: \u001b[1m0\u001b[0m\n",
      "Amount of whitespaces: \u001b[1m0\u001b[0m\n"
     ]
    }
   ],
   "source": [
    "    file = open('text.txt', 'r')                 #opening text file for extraction\n",
    "    file_content = file.readlines()              #reading lines into strings\n",
    "\n",
    "    uppercase_count = 0                          #creating counters for characters\n",
    "    lowercase_count = 0\n",
    "    digit_count = 0\n",
    "    whitespace_count = 0 \n",
    "\n",
    "    for char in file_content:                    #iterate over each character in file\n",
    "        if char.isupper():                       #check if character is uppercase, lowercase, digit, or whitespace\n",
    "            uppercase_count += 1\n",
    "        elif char.islower():\n",
    "            lowercase_count += 1\n",
    "        elif char.isdigit():\n",
    "            digit_count += 1 \n",
    "        elif char.isspace():\n",
    "            whitespace_count += 1\n",
    "                                                 #print counts with bold formatting for easier reading\n",
    "    print('Amount of uppercase letters:', f'\\033[1m{uppercase_count}\\033[0m')     \n",
    "    print('Amount of lowercase letters:', f'\\033[1m{lowercase_count}\\033[0m')\n",
    "    print('Amount of digits:', f'\\033[1m{digit_count}\\033[0m')\n",
    "    print('Amount of whitespaces:', f'\\033[1m{whitespace_count}\\033[0m')"
   ]
  },
  {
   "cell_type": "code",
   "execution_count": null,
   "id": "285752ea-73bf-4e4d-905e-851aec91e7ae",
   "metadata": {},
   "outputs": [],
   "source": []
  }
 ],
 "metadata": {
  "kernelspec": {
   "display_name": "Python 3 (ipykernel)",
   "language": "python",
   "name": "python3"
  },
  "language_info": {
   "codemirror_mode": {
    "name": "ipython",
    "version": 3
   },
   "file_extension": ".py",
   "mimetype": "text/x-python",
   "name": "python",
   "nbconvert_exporter": "python",
   "pygments_lexer": "ipython3",
   "version": "3.11.7"
  },
  "widgets": {
   "application/vnd.jupyter.widget-state+json": {
    "state": {},
    "version_major": 2,
    "version_minor": 0
   }
  }
 },
 "nbformat": 4,
 "nbformat_minor": 5
}

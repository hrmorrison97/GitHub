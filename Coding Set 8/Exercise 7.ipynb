{
 "cells": [
  {
   "cell_type": "markdown",
   "id": "9e37fc80-7582-4c65-b8d5-b3420957ec63",
   "metadata": {},
   "source": [
    "# Exercise 7. Character Analysis"
   ]
  },
  {
   "cell_type": "code",
   "execution_count": 1,
   "id": "839ade2e-0b87-4f73-a984-1458dac7bd7e",
   "metadata": {},
   "outputs": [],
   "source": [
    "#this program will read a file and determine the number of uppercase, lowercase, digits, and whitespace in file. "
   ]
  },
  {
   "cell_type": "code",
   "execution_count": 41,
   "id": "077ee4e2-c835-4cdf-8847-6e5c3f35eb7f",
   "metadata": {},
   "outputs": [],
   "source": [
    "    file = open('text.txt', 'r')                 #opening text file for extraction\n",
    "    file_content = file.readlines()              #reading lines into strings\n",
    "\n",
    "    uppercase_count = 0                          #creating counters for characters\n",
    "    lowercase_count = 0\n",
    "    digit_count = 0\n",
    "    whitespace_count = 0 "
   ]
  }
 ],
 "metadata": {
  "kernelspec": {
   "display_name": "Python 3 (ipykernel)",
   "language": "python",
   "name": "python3"
  },
  "language_info": {
   "codemirror_mode": {
    "name": "ipython",
    "version": 3
   },
   "file_extension": ".py",
   "mimetype": "text/x-python",
   "name": "python",
   "nbconvert_exporter": "python",
   "pygments_lexer": "ipython3",
   "version": "3.11.7"
  },
  "widgets": {
   "application/vnd.jupyter.widget-state+json": {
    "state": {},
    "version_major": 2,
    "version_minor": 0
   }
  }
 },
 "nbformat": 4,
 "nbformat_minor": 5
}

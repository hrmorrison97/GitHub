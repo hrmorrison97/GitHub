{
 "cells": [
  {
   "cell_type": "markdown",
   "id": "362ff37b-a3b4-4226-9e4d-eac90d68307b",
   "metadata": {},
   "source": [
    "# Exercise 11. Word Separator"
   ]
  },
  {
   "cell_type": "code",
   "execution_count": 1,
   "id": "67c823d0-eed7-41d6-b74d-f8d532a6f055",
   "metadata": {},
   "outputs": [],
   "source": [
    "#this program will accept an input sentence with no spaces and put spaces between words, where they belong"
   ]
  },
  {
   "cell_type": "code",
   "execution_count": 11,
   "id": "0ffa88d4-3f5b-453b-b0e5-9a2b75d1a5d3",
   "metadata": {},
   "outputs": [],
   "source": [
    "#in line 6, needed to have += to make program work correctly. "
   ]
  },
  {
   "cell_type": "code",
   "execution_count": 10,
   "id": "1d199675-ef0e-4493-95d9-e3c49094aab1",
   "metadata": {},
   "outputs": [
    {
     "name": "stdin",
     "output_type": "stream",
     "text": [
      "Enter some capitalized words with no spaces: CarryOnMyWaywordSon\n"
     ]
    },
    {
     "name": "stdout",
     "output_type": "stream",
     "text": [
      "Formatted sentence is:  son\n"
     ]
    }
   ],
   "source": [
    "    sentence = input('Enter some capitalized words with no spaces:')  #asking user for words\n",
    "    formatted_sentence = ''                                           #creating empty string\n",
    "    \n",
    "    for i in range(len(sentence)):                                    #iterate over each character in given words\n",
    "        if i > 0 and sentence[i].isupper():                           #if char is uppercase and not first, add space before\n",
    "            formatted_sentence = ' '                                  #add space to separate words\n",
    "        \n",
    "        formatted_sentence += sentence[i]                             #add current char to to formatted sentence                   \n",
    "        formatted_sentence = formatted_sentence.capitalize()          #capitalize first letter of formatted sentence\n",
    "\n",
    "    print('Formatted sentence is:', formatted_sentence)               #print formatted sentence"
   ]
  }
 ],
 "metadata": {
  "kernelspec": {
   "display_name": "Python 3 (ipykernel)",
   "language": "python",
   "name": "python3"
  },
  "language_info": {
   "codemirror_mode": {
    "name": "ipython",
    "version": 3
   },
   "file_extension": ".py",
   "mimetype": "text/x-python",
   "name": "python",
   "nbconvert_exporter": "python",
   "pygments_lexer": "ipython3",
   "version": "3.11.7"
  },
  "widgets": {
   "application/vnd.jupyter.widget-state+json": {
    "state": {},
    "version_major": 2,
    "version_minor": 0
   }
  }
 },
 "nbformat": 4,
 "nbformat_minor": 5
}

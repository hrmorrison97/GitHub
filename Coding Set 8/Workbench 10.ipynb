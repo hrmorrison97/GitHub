{
 "cells": [
  {
   "cell_type": "markdown",
   "id": "6cef7130-2ec5-45a8-ab2e-8f766069b050",
   "metadata": {},
   "source": [
    "# Workbench 10. Cookies, Milk, Fudge, Cake, Ice Cream\n",
    "#### The examples given in the \"splitting a string\" section of chapter 8 gave me the starting point for this code and then removing the > characters was after the code example. I first ran the code without removing the > symbol and it obviously didn't come out right, so I fixed that. "
   ]
  },
  {
   "cell_type": "code",
   "execution_count": 2,
   "id": "c2e153d5-7bae-4839-a23f-9bfbe764a826",
   "metadata": {},
   "outputs": [],
   "source": [
    "#this code will take a string and split it to create a list"
   ]
  },
  {
   "cell_type": "code",
   "execution_count": 18,
   "id": "134915b5-74ca-4b87-98ad-44e28914c6c8",
   "metadata": {},
   "outputs": [
    {
     "name": "stdout",
     "output_type": "stream",
     "text": [
      "\u001b[35m ['cookies', 'milk', 'fudge', 'cake', 'ice cream']\n"
     ]
    }
   ],
   "source": [
    "def main():\n",
    "    my_string = 'cookies>milk>fudge>cake>ice cream'           #creating my_string\n",
    "\n",
    "    word_list = my_string.split('>')                          #split that string, removing '>' symbol\n",
    "\n",
    "    print(\"\\033[35m\" , word_list)                             #print split string, added pretty color to output\n",
    "\n",
    "main()"
   ]
  },
  {
   "cell_type": "code",
   "execution_count": null,
   "id": "0f41037f-72ed-4845-9cf8-ae851df89f28",
   "metadata": {},
   "outputs": [],
   "source": [
    "#list did not print correctly, need to add separator removal to the split function"
   ]
  },
  {
   "cell_type": "code",
   "execution_count": 17,
   "id": "1519edec-fb6c-4506-aaa9-7d134d4c4e8d",
   "metadata": {},
   "outputs": [
    {
     "name": "stdout",
     "output_type": "stream",
     "text": [
      "\u001b[35m ['cookies>milk>fudge>cake>ice', 'cream']\n"
     ]
    }
   ],
   "source": [
    "def main():\n",
    "    my_string = 'cookies>milk>fudge>cake>ice cream'           #creating my_string\n",
    "\n",
    "    word_list = my_string.split()                             #split that string\n",
    "\n",
    "    print(\"\\033[35m\" , word_list)                             #print split string, added pretty color to output\n",
    "\n",
    "main()"
   ]
  }
 ],
 "metadata": {
  "kernelspec": {
   "display_name": "Python 3 (ipykernel)",
   "language": "python",
   "name": "python3"
  },
  "language_info": {
   "codemirror_mode": {
    "name": "ipython",
    "version": 3
   },
   "file_extension": ".py",
   "mimetype": "text/x-python",
   "name": "python",
   "nbconvert_exporter": "python",
   "pygments_lexer": "ipython3",
   "version": "3.11.7"
  },
  "widgets": {
   "application/vnd.jupyter.widget-state+json": {
    "state": {},
    "version_major": 2,
    "version_minor": 0
   }
  }
 },
 "nbformat": 4,
 "nbformat_minor": 5
}

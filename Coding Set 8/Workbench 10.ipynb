{
 "cells": [
  {
   "cell_type": "markdown",
   "id": "6cef7130-2ec5-45a8-ab2e-8f766069b050",
   "metadata": {},
   "source": [
    "# Workbench 10. Cookies, Milk, Fudge, Cake, Ice Cream"
   ]
  },
  {
   "cell_type": "code",
   "execution_count": 2,
   "id": "c2e153d5-7bae-4839-a23f-9bfbe764a826",
   "metadata": {},
   "outputs": [],
   "source": [
    "#this code will take a string and split it to create a list"
   ]
  },
  {
   "cell_type": "code",
   "execution_count": null,
   "id": "1519edec-fb6c-4506-aaa9-7d134d4c4e8d",
   "metadata": {},
   "outputs": [],
   "source": [
    "    my_string = 'cookies>milk>fudge>cake>ice cream'           #creating my_string\n",
    "\n",
    "    word_list = my_string.split()                             #split that string"
   ]
  }
 ],
 "metadata": {
  "kernelspec": {
   "display_name": "Python 3 (ipykernel)",
   "language": "python",
   "name": "python3"
  },
  "language_info": {
   "codemirror_mode": {
    "name": "ipython",
    "version": 3
   },
   "file_extension": ".py",
   "mimetype": "text/x-python",
   "name": "python",
   "nbconvert_exporter": "python",
   "pygments_lexer": "ipython3",
   "version": "3.11.7"
  },
  "widgets": {
   "application/vnd.jupyter.widget-state+json": {
    "state": {},
    "version_major": 2,
    "version_minor": 0
   }
  }
 },
 "nbformat": 4,
 "nbformat_minor": 5
}

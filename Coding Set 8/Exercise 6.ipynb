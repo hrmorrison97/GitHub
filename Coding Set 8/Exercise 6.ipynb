{
 "cells": [
  {
   "cell_type": "markdown",
   "id": "225fddc7-3b81-40c9-869f-015970c2ed0c",
   "metadata": {},
   "source": [
    "# Exercise 6. Average Number of Words"
   ]
  },
  {
   "cell_type": "code",
   "execution_count": 2,
   "id": "a30c94a5-720b-4a03-8710-84664d1e1e14",
   "metadata": {},
   "outputs": [],
   "source": [
    "#this program will read a file's contents and calculate the average number of words per sentence"
   ]
  },
  {
   "cell_type": "code",
   "execution_count": 4,
   "id": "8d600936-8ec1-4efa-ba12-8ac0ad489dd6",
   "metadata": {},
   "outputs": [],
   "source": [
    "    file = open('text.txt', 'r')                  #open file for extration\n",
    "    lines = file.readline()                       #read lines to store in list\n",
    "    \n",
    "    total_sentences = len(lines)                  #initialize variables for total sentences\n",
    "    total_words = 0                               #set variable for total words\n",
    "\n",
    "    for line in lines:                            #iterate over each line in 'lines' list\n",
    "        words = line.split()                      #split current line into list of words using whitespace as delimiter\n",
    "        total_words += len(words)                 #increment total word count by amount of words in current line"
   ]
  }
 ],
 "metadata": {
  "kernelspec": {
   "display_name": "Python 3 (ipykernel)",
   "language": "python",
   "name": "python3"
  },
  "language_info": {
   "codemirror_mode": {
    "name": "ipython",
    "version": 3
   },
   "file_extension": ".py",
   "mimetype": "text/x-python",
   "name": "python",
   "nbconvert_exporter": "python",
   "pygments_lexer": "ipython3",
   "version": "3.11.7"
  },
  "widgets": {
   "application/vnd.jupyter.widget-state+json": {
    "state": {},
    "version_major": 2,
    "version_minor": 0
   }
  }
 },
 "nbformat": 4,
 "nbformat_minor": 5
}

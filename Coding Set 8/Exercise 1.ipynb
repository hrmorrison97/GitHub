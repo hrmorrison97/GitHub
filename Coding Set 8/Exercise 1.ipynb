{
 "cells": [
  {
   "cell_type": "markdown",
   "id": "9041b0dd-f686-4669-a565-13e26edba86a",
   "metadata": {},
   "source": [
    "# Exercise 1. Initials\n",
    "####"
   ]
  },
  {
   "cell_type": "code",
   "execution_count": 1,
   "id": "2eb57fcc-3f88-4542-b809-298635e8c92f",
   "metadata": {},
   "outputs": [],
   "source": [
    "#this program will retrieve user's full name a return their first, middle, and last initials. "
   ]
  },
  {
   "cell_type": "code",
   "execution_count": null,
   "id": "5c91f850-3b98-435c-9845-0b03b3c7ffbc",
   "metadata": {},
   "outputs": [],
   "source": [
    "def main():                                          #defining main, ask user to input first, middle, last name\n",
    "    first = input('Enter your first name:')\n",
    "    middle = input('Enter your middle name:')\n",
    "    last = input('Enter your last name:')"
   ]
  }
 ],
 "metadata": {
  "kernelspec": {
   "display_name": "Python 3 (ipykernel)",
   "language": "python",
   "name": "python3"
  },
  "language_info": {
   "codemirror_mode": {
    "name": "ipython",
    "version": 3
   },
   "file_extension": ".py",
   "mimetype": "text/x-python",
   "name": "python",
   "nbconvert_exporter": "python",
   "pygments_lexer": "ipython3",
   "version": "3.11.7"
  },
  "widgets": {
   "application/vnd.jupyter.widget-state+json": {
    "state": {},
    "version_major": 2,
    "version_minor": 0
   }
  }
 },
 "nbformat": 4,
 "nbformat_minor": 5
}

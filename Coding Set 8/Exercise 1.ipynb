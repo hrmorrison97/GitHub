{
 "cells": [
  {
   "cell_type": "markdown",
   "id": "9041b0dd-f686-4669-a565-13e26edba86a",
   "metadata": {},
   "source": [
    "# Exercise 1. Initials\n",
    "####"
   ]
  },
  {
   "cell_type": "code",
   "execution_count": 1,
   "id": "2eb57fcc-3f88-4542-b809-298635e8c92f",
   "metadata": {},
   "outputs": [],
   "source": [
    "#this program will retrieve user's full name a return their first, middle, and last initials. "
   ]
  },
  {
   "cell_type": "code",
   "execution_count": 2,
   "id": "5c91f850-3b98-435c-9845-0b03b3c7ffbc",
   "metadata": {},
   "outputs": [
    {
     "name": "stdin",
     "output_type": "stream",
     "text": [
      "Enter your first name: Dean\n",
      "Enter your middle name: Henry\n",
      "Enter your last name: Winchester\n"
     ]
    },
    {
     "name": "stdout",
     "output_type": "stream",
     "text": [
      "Your initials are:\n"
     ]
    },
    {
     "ename": "NameError",
     "evalue": "name 'initials' is not defined",
     "output_type": "error",
     "traceback": [
      "\u001b[0;31m---------------------------------------------------------------------------\u001b[0m",
      "\u001b[0;31mNameError\u001b[0m                                 Traceback (most recent call last)",
      "Cell \u001b[0;32mIn[2], line 16\u001b[0m\n\u001b[1;32m     13\u001b[0m     \u001b[38;5;28mprint\u001b[39m(\u001b[38;5;124m'\u001b[39m\u001b[38;5;124mYour initials are:\u001b[39m\u001b[38;5;124m'\u001b[39m)                     \u001b[38;5;66;03m#get initials \u001b[39;00m\n\u001b[1;32m     14\u001b[0m     \u001b[38;5;28mprint\u001b[39m(initials\u001b[38;5;241m.\u001b[39mget_full_name(first, middle, last))\n\u001b[0;32m---> 16\u001b[0m main()\n",
      "Cell \u001b[0;32mIn[2], line 14\u001b[0m, in \u001b[0;36mmain\u001b[0;34m()\u001b[0m\n\u001b[1;32m     11\u001b[0m last \u001b[38;5;241m=\u001b[39m \u001b[38;5;28minput\u001b[39m(\u001b[38;5;124m'\u001b[39m\u001b[38;5;124mEnter your last name:\u001b[39m\u001b[38;5;124m'\u001b[39m)\n\u001b[1;32m     13\u001b[0m \u001b[38;5;28mprint\u001b[39m(\u001b[38;5;124m'\u001b[39m\u001b[38;5;124mYour initials are:\u001b[39m\u001b[38;5;124m'\u001b[39m)                     \u001b[38;5;66;03m#get initials \u001b[39;00m\n\u001b[0;32m---> 14\u001b[0m \u001b[38;5;28mprint\u001b[39m(initials\u001b[38;5;241m.\u001b[39mget_full_name(first, middle, last))\n",
      "\u001b[0;31mNameError\u001b[0m: name 'initials' is not defined"
     ]
    }
   ],
   "source": [
    "def get_full_name(first, middle, last):             #defining get full name, nabbing first letter (initial) \n",
    "    set1 = first[:0]                                \n",
    "    set2 = middle[:0]\n",
    "    set3 = last[:0]\n",
    "    initials = set1 + set2 + set3                   #puts set of characters (initials) together\n",
    "    return initials                                 #returns initials\n",
    "\n",
    "def main():                                         #defining main, ask user to input first, middle, last name\n",
    "    first = input('Enter your first name:')\n",
    "    middle = input('Enter your middle name:')\n",
    "    last = input('Enter your last name:')\n",
    "\n",
    "    print('Your initials are:')                     #get initials \n",
    "    print(initials.get_full_name(first, middle, last))\n",
    "\n",
    "main()"
   ]
  },
  {
   "cell_type": "code",
   "execution_count": null,
   "id": "4400c145-08e3-4d39-8d69-a9e0cc63d70b",
   "metadata": {},
   "outputs": [],
   "source": []
  }
 ],
 "metadata": {
  "kernelspec": {
   "display_name": "Python 3 (ipykernel)",
   "language": "python",
   "name": "python3"
  },
  "language_info": {
   "codemirror_mode": {
    "name": "ipython",
    "version": 3
   },
   "file_extension": ".py",
   "mimetype": "text/x-python",
   "name": "python",
   "nbconvert_exporter": "python",
   "pygments_lexer": "ipython3",
   "version": "3.11.7"
  },
  "widgets": {
   "application/vnd.jupyter.widget-state+json": {
    "state": {},
    "version_major": 2,
    "version_minor": 0
   }
  }
 },
 "nbformat": 4,
 "nbformat_minor": 5
}

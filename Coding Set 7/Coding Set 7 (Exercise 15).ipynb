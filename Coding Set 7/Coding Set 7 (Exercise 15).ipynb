{
 "cells": [
  {
   "cell_type": "markdown",
   "id": "27823913-caa1-482b-b7d2-99510d1ef1df",
   "metadata": {},
   "source": [
    "# Exercise 7. 1994 Weekly Gas Graph\n",
    "#### The question asks to pick between a line graph or a bar chart, I did both for the practice. The book really doesn't give great examples for reading from files to make these but I copied the first few lines of code from the pie chart problem into this one to start my programs. "
   ]
  },
  {
   "cell_type": "code",
   "execution_count": 1,
   "id": "3d3926fe-b8d9-4b52-bdb4-89fff1eacbed",
   "metadata": {},
   "outputs": [],
   "source": [
    "#this program will read a file and input the data into a line graph "
   ]
  },
  {
   "cell_type": "code",
   "execution_count": 38,
   "id": "1c5e64d5-9f65-4560-bece-f18d87071940",
   "metadata": {},
   "outputs": [],
   "source": [
    "import matplotlib.pyplot as plt                         #import thinger for charting\n",
    " \n",
    "file_path = '1994_Weekly_Gas_Averages.txt'              #read data from file \n",
    "\n",
    "with open(file_path, 'r') as file:                      #convert data into floaters\n",
    "    data = [float(line.strip()) for line in file]\n",
    "    \n",
    "plt.plot(data, marker='s')                              #set marker style\n",
    "\n",
    "plt.title('Weekly Averages')                            #set title \n",
    "plt.xlabel('Week')                                      #label x-axis\n",
    "plt.ylabel('Average')                                   #label Y-axis\n",
    "\n",
    "plt.grid()                                              #add grid to the line graph\n",
    "plt.show()                                              #show the line graph"
   ]
  },
  {
   "cell_type": "code",
   "execution_count": null,
   "id": "5ce1c6dc-5f1a-411b-bb2a-105212648881",
   "metadata": {},
   "outputs": [],
   "source": [
    "#this program will read a file and input the data into a bar chart"
   ]
  },
  {
   "cell_type": "code",
   "execution_count": 39,
   "id": "3ede47d6-ef2d-42f2-b382-366d95f3618f",
   "metadata": {},
   "outputs": [],
   "source": [
    "import matplotlib.pyplot as plt                         #import thinger for charting\n",
    "\n",
    "file_path = '1994_Weekly_Gas_Averages.txt'              #read data from file \n",
    "\n",
    "with open(file_path, 'r') as file:                      #convert data into floaters\n",
    "    data = [float(line.strip()) for line in file]\n",
    "        \n",
    "    weeks = list(range(1, 53))                          #create list of weeks \n",
    "    \n",
    "plt.bar(weeks, data)                                    #create bar chart with x-axis, weeks and y-axis, data\n",
    "\n",
    "plt.ylim(0.90, 1.20)                                    #set y-axis limit to display best range of data\n",
    " \n",
    "plt.title('Weekly Averages')                            #set title \n",
    "plt.xlabel('Week')                                      #label x-axis\n",
    "plt.ylabel('Average')                                   #label Y-axis\n",
    "\n",
    "plt.show()                                              #show the bar chart "
   ]
  }
 ],
 "metadata": {
  "kernelspec": {
   "display_name": "Python 3 (ipykernel)",
   "language": "python",
   "name": "python3"
  },
  "language_info": {
   "codemirror_mode": {
    "name": "ipython",
    "version": 3
   },
   "file_extension": ".py",
   "mimetype": "text/x-python",
   "name": "python",
   "nbconvert_exporter": "python",
   "pygments_lexer": "ipython3",
   "version": "3.11.7"
  },
  "widgets": {
   "application/vnd.jupyter.widget-state+json": {
    "state": {},
    "version_major": 2,
    "version_minor": 0
   }
  }
 },
 "nbformat": 4,
 "nbformat_minor": 5
}

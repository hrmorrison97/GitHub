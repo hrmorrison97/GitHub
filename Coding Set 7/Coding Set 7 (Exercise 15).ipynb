{
 "cells": [
  {
   "cell_type": "markdown",
   "id": "27823913-caa1-482b-b7d2-99510d1ef1df",
   "metadata": {},
   "source": [
    "# Exercise 7. 1994 Weekly Gas Graph\n",
    "#### The question asks to pick between a line graph or a bar chart, I did both for the practice. The book really doesn't give great examples for reading from files to make these but I copied the first few lines of code from the pie chart problem into this one to start my programs. "
   ]
  },
  {
   "cell_type": "code",
   "execution_count": 1,
   "id": "3d3926fe-b8d9-4b52-bdb4-89fff1eacbed",
   "metadata": {},
   "outputs": [],
   "source": [
    "#this program will read a file and input the data into a line graph "
   ]
  },
  {
   "cell_type": "code",
   "execution_count": 38,
   "id": "1c5e64d5-9f65-4560-bece-f18d87071940",
   "metadata": {},
   "outputs": [],
   "source": [
    "import matplotlib.pyplot as plt                         #import thinger for charting\n",
    " \n",
    "file_path = '1994_Weekly_Gas_Averages.txt'              #read data from file \n",
    "\n",
    "with open(file_path, 'r') as file:                      #convert data into floaters\n",
    "    data = [float(line.strip()) for line in file]"
   ]
  },
  {
   "cell_type": "code",
   "execution_count": null,
   "id": "5ce1c6dc-5f1a-411b-bb2a-105212648881",
   "metadata": {},
   "outputs": [],
   "source": [
    "#this program will read a file and input the data into a bar chart"
   ]
  },
  {
   "cell_type": "code",
   "execution_count": 39,
   "id": "3ede47d6-ef2d-42f2-b382-366d95f3618f",
   "metadata": {},
   "outputs": [],
   "source": [
    "import matplotlib.pyplot as plt                         #import thinger for charting\n",
    "\n",
    "file_path = '1994_Weekly_Gas_Averages.txt'              #read data from file \n",
    "\n",
    "with open(file_path, 'r') as file:                      #convert data into floaters\n",
    "    data = [float(line.strip()) for line in file]"
   ]
  }
 ],
 "metadata": {
  "kernelspec": {
   "display_name": "Python 3 (ipykernel)",
   "language": "python",
   "name": "python3"
  },
  "language_info": {
   "codemirror_mode": {
    "name": "ipython",
    "version": 3
   },
   "file_extension": ".py",
   "mimetype": "text/x-python",
   "name": "python",
   "nbconvert_exporter": "python",
   "pygments_lexer": "ipython3",
   "version": "3.11.7"
  },
  "widgets": {
   "application/vnd.jupyter.widget-state+json": {
    "state": {},
    "version_major": 2,
    "version_minor": 0
   }
  }
 },
 "nbformat": 4,
 "nbformat_minor": 5
}

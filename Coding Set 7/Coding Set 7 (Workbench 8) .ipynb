{
 "cells": [
  {
   "cell_type": "markdown",
   "id": "4addcb5e-3516-4483-a36e-bcee1b6d6ce8",
   "metadata": {},
   "source": [
    "# Workbench 8. Write a statement using a list comprehension to create second list\n",
    "#### In the 'List Comprehensions' section of our book, they give us an example starting with list1 and appending items in list one into list2 but contains the squard of elements from list1. The second list then contains the squared numbers from list1. "
   ]
  },
  {
   "cell_type": "code",
   "execution_count": 1,
   "id": "60223ad3-bc30-475d-8efc-d5f1aa3255cd",
   "metadata": {},
   "outputs": [],
   "source": [
    "#this code will take integers from list1, square them, and then input them with a comprehension into list2"
   ]
  },
  {
   "cell_type": "code",
   "execution_count": null,
   "id": "31218d74-c052-421c-afb7-4f3c3e621ab5",
   "metadata": {},
   "outputs": [],
   "source": [
    "list1 = [3, 9, 11, 13]                #setting values for list1\n",
    "list2 = [item**2 for item in list1]   #using for statement to comprehend list1 into list2 "
   ]
  }
 ],
 "metadata": {
  "kernelspec": {
   "display_name": "Python 3 (ipykernel)",
   "language": "python",
   "name": "python3"
  },
  "language_info": {
   "codemirror_mode": {
    "name": "ipython",
    "version": 3
   },
   "file_extension": ".py",
   "mimetype": "text/x-python",
   "name": "python",
   "nbconvert_exporter": "python",
   "pygments_lexer": "ipython3",
   "version": "3.11.7"
  },
  "widgets": {
   "application/vnd.jupyter.widget-state+json": {
    "state": {},
    "version_major": 2,
    "version_minor": 0
   }
  }
 },
 "nbformat": 4,
 "nbformat_minor": 5
}

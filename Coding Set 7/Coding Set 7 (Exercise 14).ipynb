{
 "cells": [
  {
   "cell_type": "markdown",
   "id": "f2f337e5-2882-4532-a5bd-aca1d64bcbef",
   "metadata": {},
   "source": [
    "# Exercise 14. Expense Pie Chart\n",
    "#### The very small section on pie charts in our book gave a good example for entering data and then turning that into a pie chart. After creating a new file I had to add the extra step of importing data from the new file, and then labeling each 'slice' accordingly. "
   ]
  },
  {
   "cell_type": "code",
   "execution_count": 1,
   "id": "5b7db1ef-5fc3-4c91-a251-d17c04c12992",
   "metadata": {},
   "outputs": [],
   "source": [
    "#this program will display a pie chart of my June expenses with labels. "
   ]
  },
  {
   "cell_type": "code",
   "execution_count": 16,
   "id": "312b426d-349b-4618-9e4e-3fe4f1ad18b5",
   "metadata": {
    "scrolled": true
   },
   "outputs": [],
   "source": [
    "import matplotlib.pyplot as plt                                #import pie chart thingie\n",
    "\n",
    "def main():                                                    #read contents from file into list\n",
    "    with open('JuneExpenses.txt', 'r') as infile:\n",
    "        expenses = infile.readlines()                          #define expenses with file contents\n",
    "\n",
    "    for index in range(len(expenses)):                         #strip file contents, turn into floaters\n",
    "        expenses[index] = float(expenses[index].rstrip('\\n'))\n"
   ]
  }
 ],
 "metadata": {
  "kernelspec": {
   "display_name": "Python 3 (ipykernel)",
   "language": "python",
   "name": "python3"
  },
  "language_info": {
   "codemirror_mode": {
    "name": "ipython",
    "version": 3
   },
   "file_extension": ".py",
   "mimetype": "text/x-python",
   "name": "python",
   "nbconvert_exporter": "python",
   "pygments_lexer": "ipython3",
   "version": "3.11.7"
  },
  "widgets": {
   "application/vnd.jupyter.widget-state+json": {
    "state": {},
    "version_major": 2,
    "version_minor": 0
   }
  }
 },
 "nbformat": 4,
 "nbformat_minor": 5
}

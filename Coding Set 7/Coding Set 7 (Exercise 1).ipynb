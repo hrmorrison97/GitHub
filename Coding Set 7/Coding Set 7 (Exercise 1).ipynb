{
 "cells": [
  {
   "cell_type": "markdown",
   "id": "872556f6-1765-4821-9ae6-b9d00b813195",
   "metadata": {},
   "source": [
    "# Exercise 1. Total Sales\n",
    "#### Lists are mutable, and in that section of our book we get an example of having a user enter the sales amount for 5 days and create a list from those inputs. I then had to jump to the processing lists section for the math expression portion of this code. I added to their example by changed days to 7 and then adding the statement to add the total amount of sales for the week. "
   ]
  },
  {
   "cell_type": "code",
   "execution_count": 1,
   "id": "c4b03e8c-1eaa-43e0-944e-5bc57c82231a",
   "metadata": {},
   "outputs": [],
   "source": [
    "#this code will ask user for sales during 7 days and then compute the total of those sales and display both"
   ]
  },
  {
   "cell_type": "code",
   "execution_count": 6,
   "id": "e2f4efb3-ab76-48a2-825b-ed3cf5af87ef",
   "metadata": {},
   "outputs": [],
   "source": [
    "num_days = 7                                           #defining constant for days to gather sales data  \n",
    "\n",
    "def main():\n",
    "    sales = [0] * num_days                             #create list to hold sales for each day\n",
    "\n",
    "    print('Enter the sales for each day.')             \n",
    "\n",
    "    for index in range(len(sales)):                    #have user input each day's total sales\n",
    "        sales[index] = float(input(f'Sales total for day #{index + 1}: '))\n",
    "        \n",
    "    print('Here are the daily sales totals:')          #display values entered by user\n",
    "    for value in sales:                                \n",
    "        print(value)\n",
    "\n",
    "    total_sales = sum(sales)                           #calculate total sales for 7 days\n",
    "    print(f'Total sales for the week: {total_sales}')\n",
    "    \n",
    "main()                                                 #call main to display data entered"
   ]
  }
 ],
 "metadata": {
  "kernelspec": {
   "display_name": "Python 3 (ipykernel)",
   "language": "python",
   "name": "python3"
  },
  "language_info": {
   "codemirror_mode": {
    "name": "ipython",
    "version": 3
   },
   "file_extension": ".py",
   "mimetype": "text/x-python",
   "name": "python",
   "nbconvert_exporter": "python",
   "pygments_lexer": "ipython3",
   "version": "3.11.7"
  },
  "widgets": {
   "application/vnd.jupyter.widget-state+json": {
    "state": {},
    "version_major": 2,
    "version_minor": 0
   }
  }
 },
 "nbformat": 4,
 "nbformat_minor": 5
}

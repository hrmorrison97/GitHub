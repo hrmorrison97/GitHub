{
 "cells": [
  {
   "cell_type": "markdown",
   "id": "e1ee02c9-d05f-4e25-b4aa-8998bfff79d6",
   "metadata": {},
   "source": [
    "# Exercise 9. Population Data\n",
    "#### Lot's of flipping back and forth through the book and my notes, along with copying some lines of code from previous exercises got me this program. I also found a way to change the color of output characters and did that to more easily read the responses. "
   ]
  },
  {
   "cell_type": "code",
   "execution_count": 33,
   "id": "9beacfcc-7815-490c-9c13-e0940515ff02",
   "metadata": {},
   "outputs": [],
   "source": [
    "def read_file_to_list(file_path):                              #reads file into list \n",
    "    with open('USPopulation.txt', 'r') as infile:\n",
    "        data = infile.readlines()                        \n",
    "\n",
    "    return [float(line.strip()) for line in data]              #creates list of floats from file contents\n",
    "\n",
    "def calculate_changes(data):                                   #calculate annual changes from data list\n",
    "\n",
    "    return [data[i+1] - data[i] for i in range(len(data)-1)]   #returns list of changes \n",
    "\n",
    "def main():\n",
    "    file_path = 'USPopulation.txt'  \n",
    "    population = read_file_to_list(file_path)                  #read data from file into list\n",
    "    \n",
    "    if len(population) < 2:                                    #ensure enough data to detect changes\n",
    "        print(\"Not enough data to calculate changes.\")\n",
    "        return"
   ]
  }
 ],
 "metadata": {
  "kernelspec": {
   "display_name": "Python 3 (ipykernel)",
   "language": "python",
   "name": "python3"
  },
  "language_info": {
   "codemirror_mode": {
    "name": "ipython",
    "version": 3
   },
   "file_extension": ".py",
   "mimetype": "text/x-python",
   "name": "python",
   "nbconvert_exporter": "python",
   "pygments_lexer": "ipython3",
   "version": "3.11.7"
  },
  "widgets": {
   "application/vnd.jupyter.widget-state+json": {
    "state": {},
    "version_major": 2,
    "version_minor": 0
   }
  }
 },
 "nbformat": 4,
 "nbformat_minor": 5
}

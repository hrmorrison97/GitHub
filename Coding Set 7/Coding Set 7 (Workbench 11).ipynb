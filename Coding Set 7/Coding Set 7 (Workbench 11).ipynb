{
 "cells": [
  {
   "cell_type": "markdown",
   "id": "26a2421f-89a0-4a12-9792-350cd18bb270",
   "metadata": {},
   "source": [
    "# Workbench 11. Create a two-dimensional list\n",
    "#### I had to go through the two-dimensional list creation section along with the indexing section to get the information I needed for this. The question was quite vague in what it wanted inputted for certain elements, so I took some creative liberties with this one. "
   ]
  },
  {
   "cell_type": "code",
   "execution_count": 1,
   "id": "fde4fa8c-fd39-416b-994d-da7de74774d2",
   "metadata": {},
   "outputs": [],
   "source": [
    "#this code will display a two-dimensional list with 5 rows, 3 columns, and user input integers for data"
   ]
  },
  {
   "cell_type": "code",
   "execution_count": 16,
   "id": "57ab11f0-73e6-45ed-a916-d55cffe60558",
   "metadata": {},
   "outputs": [
    {
     "name": "stdin",
     "output_type": "stream",
     "text": [
      "Enter bites taken during breakfast on day 1:  53\n",
      "Enter bites taken during lunch on day 1:  35\n",
      "Enter bites taken during dinner on day 1:  70\n",
      "Enter bites taken during breakfast on day 2:  45\n",
      "Enter bites taken during lunch on day 2:  54\n",
      "Enter bites taken during dinner on day 2:  90\n",
      "Enter bites taken during breakfast on day 3:  27\n",
      "Enter bites taken during lunch on day 3:  72\n",
      "Enter bites taken during dinner on day 3:  54\n",
      "Enter bites taken during breakfast on day 4:  13\n",
      "Enter bites taken during lunch on day 4:  31\n",
      "Enter bites taken during dinner on day 4:  26\n",
      "Enter bites taken during breakfast on day 5:  29\n",
      "Enter bites taken during lunch on day 5:  92\n",
      "Enter bites taken during dinner on day 5:  58\n"
     ]
    },
    {
     "name": "stdout",
     "output_type": "stream",
     "text": [
      "Here's how many bites you took during meals for 5 days:\n",
      "Day 1: [53, 35, 70]\n",
      "Day 2: [45, 54, 90]\n",
      "Day 3: [27, 72, 54]\n",
      "Day 4: [13, 31, 26]\n",
      "Day 5: [29, 92, 58]\n"
     ]
    }
   ],
   "source": [
    "#setting constants for rows/columns (days/meals)\n",
    "days = 5                                                      \n",
    "meals = 3 \n",
    "\n",
    "#setting value for rows/columns with bites taken during meals each day\n",
    "bites_taken = [[0 for _ in range(meals)] for _ in range(days)]   \n",
    "\n",
    "#setting value for column names\n",
    "meal_names = [\"breakfast\", \"lunch\", \"dinner\"] \n",
    "\n",
    "#for/in statement to start nested loops for integer value input from user for data \n",
    "for day in range(days):                      \n",
    "    for meal in range(meals):\n",
    "        bites_taken[day][meal] = int(input(f\"Enter bites taken during {meal_names[meal]} on day {day + 1}: \"))\n",
    "        \n",
    "#print list with elements to ensure data and code is written correctly\n",
    "print(\"Here's how many bites you took during meals for 5 days:\")\n",
    "for day in range(days):\n",
    "    print(f\"Day {day + 1}: {bites_taken[day]}\") "
   ]
  },
  {
   "cell_type": "code",
   "execution_count": null,
   "id": "937f864e-6593-493d-8184-f30179d28638",
   "metadata": {},
   "outputs": [],
   "source": []
  }
 ],
 "metadata": {
  "kernelspec": {
   "display_name": "Python 3 (ipykernel)",
   "language": "python",
   "name": "python3"
  },
  "language_info": {
   "codemirror_mode": {
    "name": "ipython",
    "version": 3
   },
   "file_extension": ".py",
   "mimetype": "text/x-python",
   "name": "python",
   "nbconvert_exporter": "python",
   "pygments_lexer": "ipython3",
   "version": "3.11.7"
  },
  "widgets": {
   "application/vnd.jupyter.widget-state+json": {
    "state": {},
    "version_major": 2,
    "version_minor": 0
   }
  }
 },
 "nbformat": 4,
 "nbformat_minor": 5
}

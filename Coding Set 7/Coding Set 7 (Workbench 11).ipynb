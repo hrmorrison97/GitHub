{
 "cells": [
  {
   "cell_type": "markdown",
   "id": "26a2421f-89a0-4a12-9792-350cd18bb270",
   "metadata": {},
   "source": [
    "# Workbench 11. Create a two-dimensional list\n",
    "#### I had to go through the two-dimensional list creation section along with the indexing section to get the information I needed for this. The question was quite vague in what it wanted inputted for certain elements, so I took some creative liberties with this one. "
   ]
  },
  {
   "cell_type": "code",
   "execution_count": 1,
   "id": "fde4fa8c-fd39-416b-994d-da7de74774d2",
   "metadata": {},
   "outputs": [],
   "source": [
    "#this code will display a two-dimensional list with 5 rows, 3 columns, and user input integers for data"
   ]
  },
  {
   "cell_type": "code",
   "execution_count": null,
   "id": "57ab11f0-73e6-45ed-a916-d55cffe60558",
   "metadata": {},
   "outputs": [],
   "source": [
    "ROWS = 5                                   #setting constants for rows/columns\n",
    "COLS = 3 "
   ]
  }
 ],
 "metadata": {
  "kernelspec": {
   "display_name": "Python 3 (ipykernel)",
   "language": "python",
   "name": "python3"
  },
  "language_info": {
   "codemirror_mode": {
    "name": "ipython",
    "version": 3
   },
   "file_extension": ".py",
   "mimetype": "text/x-python",
   "name": "python",
   "nbconvert_exporter": "python",
   "pygments_lexer": "ipython3",
   "version": "3.11.7"
  },
  "widgets": {
   "application/vnd.jupyter.widget-state+json": {
    "state": {},
    "version_major": 2,
    "version_minor": 0
   }
  }
 },
 "nbformat": 4,
 "nbformat_minor": 5
}

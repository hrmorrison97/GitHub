{
 "cells": [
  {
   "cell_type": "markdown",
   "id": "26a2421f-89a0-4a12-9792-350cd18bb270",
   "metadata": {},
   "source": [
    "# Workbench 11. Create a two-dimensional list\n",
    "#### I had to go through the two-dimensional list creation section along with the indexing section to get the information I needed for this. The question was quite vague in what it wanted inputted for certain elements, so I took some creative liberties with this one. "
   ]
  },
  {
   "cell_type": "code",
   "execution_count": 1,
   "id": "fde4fa8c-fd39-416b-994d-da7de74774d2",
   "metadata": {},
   "outputs": [],
   "source": [
    "#this code will display a two-dimensional list with 5 rows, 3 columns, and user input integers for data"
   ]
  },
  {
   "cell_type": "code",
   "execution_count": 15,
   "id": "57ab11f0-73e6-45ed-a916-d55cffe60558",
   "metadata": {},
   "outputs": [],
   "source": [
    "#setting constants for rows/columns (days/meals)\n",
    "days = 5                                                      \n",
    "meals = 3 \n",
    "\n",
    "#setting value for rows/columns with bites taken during meals each day\n",
    "bites_taken = [[0 for _ in range(meals)] for _ in range(days)]   \n",
    "\n",
    "#setting value for column names\n",
    "meal_names = [\"breakfast\", \"lunch\", \"dinner\"] \n",
    "\n",
    "#for/in statement to start nested loops for integer value input from user for data \n",
    "for day in range(days):                      \n",
    "    for meal in range(meals):\n",
    "        bites_taken[day][meal] = int(input(f\"Enter bites taken during {meal_names[meal]} on day {day + 1}: \"))"
   ]
  }
 ],
 "metadata": {
  "kernelspec": {
   "display_name": "Python 3 (ipykernel)",
   "language": "python",
   "name": "python3"
  },
  "language_info": {
   "codemirror_mode": {
    "name": "ipython",
    "version": 3
   },
   "file_extension": ".py",
   "mimetype": "text/x-python",
   "name": "python",
   "nbconvert_exporter": "python",
   "pygments_lexer": "ipython3",
   "version": "3.11.7"
  },
  "widgets": {
   "application/vnd.jupyter.widget-state+json": {
    "state": {},
    "version_major": 2,
    "version_minor": 0
   }
  }
 },
 "nbformat": 4,
 "nbformat_minor": 5
}

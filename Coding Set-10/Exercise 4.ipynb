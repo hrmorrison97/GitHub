{
 "cells": [
  {
   "cell_type": "markdown",
   "id": "27b4a4b7-608f-4ddc-b657-5fc461bbe4ec",
   "metadata": {},
   "source": [
    "# Exercise 4. Employee Class\n",
    "#### I used the same program for an example to start this program and then to get the information to display I used a dictionary method. Thankfully it worked correctly and came out just fine. "
   ]
  },
  {
   "cell_type": "code",
   "execution_count": 42,
   "id": "a65e9513-7f7c-4721-9339-6cc3a5d2e9ed",
   "metadata": {},
   "outputs": [],
   "source": [
    "#this program will store data into three objects and then display that data"
   ]
  },
  {
   "cell_type": "code",
   "execution_count": 46,
   "id": "57a56d95-6c61-4e68-aea3-7dc8e78b2a3b",
   "metadata": {},
   "outputs": [
    {
     "name": "stdout",
     "output_type": "stream",
     "text": [
      "Name: Susan Meyers\n",
      "ID Number: 47899\n",
      "Department: Accounting\n",
      "Job Title: Vice President\n",
      "\n",
      "Name: Mark Jones\n",
      "ID Number: 319119\n",
      "Department: IT\n",
      "Job Title: Programmer\n",
      "\n",
      "Name: Joy Rogers\n",
      "ID Number: 81774\n",
      "Department: Manufacturing\n",
      "Job Title: Engineer\n",
      "\n"
     ]
    }
   ],
   "source": [
    "class Employee:                                      #initialize attributes\n",
    "    def __init__(self, name, ID_number, department, job_title):\n",
    "        self.__name = name\n",
    "        self.__ID_number = ID_number\n",
    "        self.__department = department\n",
    "        self.__job_title = job_title\n",
    "\n",
    "    def set_name(self, name):\n",
    "        self.__name = name\n",
    "\n",
    "    def set_ID_number(self, ID_number):\n",
    "        self.__ID_number = ID_number \n",
    "\n",
    "    def set_department(self, department):\n",
    "        self.__department = department\n",
    "\n",
    "    def set_job_title(self, job_title):\n",
    "        self.__job_title = job_title\n",
    "\n",
    "    def get_name(self):\n",
    "        return self.__name\n",
    "\n",
    "    def get_ID_number(self):\n",
    "        return self.__ID_number\n",
    "\n",
    "    def get_department(self):\n",
    "        return self.__department\n",
    "\n",
    "    def get_job_title(self):\n",
    "        return self.__job_title\n",
    "\n",
    "    def __str__(self):\n",
    "        return 'Name: ' + self.__name + \\\n",
    "               '\\nID Number: ' + self.__ID_number + \\\n",
    "               '\\nDepartment: ' + self.__department + \\\n",
    "               '\\nJob Title: ' + self.__job_title + \\\n",
    "               '\\n'\n",
    "def main():\n",
    "    emp1 = Employee('Susan Meyers', '47899', 'Accounting', 'Vice President')\n",
    "    emp2 = Employee('Mark Jones', '319119', 'IT', 'Programmer')\n",
    "    emp3 = Employee('Joy Rogers', '81774', 'Manufacturing', 'Engineer')\n",
    "\n",
    "    print(emp1)\n",
    "    print(emp2)\n",
    "    print(emp3)\n",
    "\n",
    "main()"
   ]
  },
  {
   "cell_type": "code",
   "execution_count": null,
   "id": "cc7a565d-845d-47dd-bd62-e2dc91e965aa",
   "metadata": {},
   "outputs": [],
   "source": []
  }
 ],
 "metadata": {
  "kernelspec": {
   "display_name": "Python 3 (ipykernel)",
   "language": "python",
   "name": "python3"
  },
  "language_info": {
   "codemirror_mode": {
    "name": "ipython",
    "version": 3
   },
   "file_extension": ".py",
   "mimetype": "text/x-python",
   "name": "python",
   "nbconvert_exporter": "python",
   "pygments_lexer": "ipython3",
   "version": "3.11.7"
  },
  "widgets": {
   "application/vnd.jupyter.widget-state+json": {
    "state": {},
    "version_major": 2,
    "version_minor": 0
   }
  }
 },
 "nbformat": 4,
 "nbformat_minor": 5
}

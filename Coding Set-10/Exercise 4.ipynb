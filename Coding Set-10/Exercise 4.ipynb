{
 "cells": [
  {
   "cell_type": "markdown",
   "id": "27b4a4b7-608f-4ddc-b657-5fc461bbe4ec",
   "metadata": {},
   "source": [
    "# Exercise 4. Employee Class\n",
    "#### I used the same program for an example to start this program and then to get the information to display I used a dictionary method. Thankfully it worked correctly and came out just fine. "
   ]
  },
  {
   "cell_type": "code",
   "execution_count": 42,
   "id": "a65e9513-7f7c-4721-9339-6cc3a5d2e9ed",
   "metadata": {},
   "outputs": [],
   "source": [
    "#this program will store data into three objects and then display that data"
   ]
  },
  {
   "cell_type": "code",
   "execution_count": null,
   "id": "57a56d95-6c61-4e68-aea3-7dc8e78b2a3b",
   "metadata": {},
   "outputs": [],
   "source": [
    "class Employee: \n",
    "    def __init__(self, name, ID_number, job_title):"
   ]
  }
 ],
 "metadata": {
  "kernelspec": {
   "display_name": "Python 3 (ipykernel)",
   "language": "python",
   "name": "python3"
  },
  "language_info": {
   "codemirror_mode": {
    "name": "ipython",
    "version": 3
   },
   "file_extension": ".py",
   "mimetype": "text/x-python",
   "name": "python",
   "nbconvert_exporter": "python",
   "pygments_lexer": "ipython3",
   "version": "3.11.7"
  },
  "widgets": {
   "application/vnd.jupyter.widget-state+json": {
    "state": {},
    "version_major": 2,
    "version_minor": 0
   }
  }
 },
 "nbformat": 4,
 "nbformat_minor": 5
}

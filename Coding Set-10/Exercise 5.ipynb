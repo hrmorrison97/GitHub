{
 "cells": [
  {
   "cell_type": "markdown",
   "id": "d225a4c5-d7ad-4b02-bb08-3b613bc29f35",
   "metadata": {},
   "source": [
    "# Exercise 5. RetailItem Class\n",
    "#### This program I used our books example 'Creating the CellPhone Class' and just edited it for what the problem asked us to do. I had to add the 'ask for three items option' instead of just running it for one. "
   ]
  },
  {
   "cell_type": "code",
   "execution_count": 22,
   "id": "31bd4b3d-f1df-4565-befd-9693456d0169",
   "metadata": {},
   "outputs": [],
   "source": [
    "#this program will store data in a 'retailitem' class and ask user to input data for three items"
   ]
  },
  {
   "cell_type": "code",
   "execution_count": 23,
   "id": "cbca6d0d-e917-4297-936f-d62abf0a6e9e",
   "metadata": {},
   "outputs": [],
   "source": [
    "class RetailItem:                                                #RetailItem class holds data about retail items\n",
    "                                                         \n",
    "    def __init__(self, description, units_in_inventory, price):  #__init__ method initializes the attributes\n",
    "        self.__description = description\n",
    "        self.__units_in_inventory = units_in_inventory\n",
    "        self.__price = price\n",
    "\n",
    "    def set_description(self, description):                      #set_(thing) method accepts argument for retail item\n",
    "        self.__description = description\n",
    "\n",
    "    def set_units_in_inventory(self, units_in_inventory):\n",
    "        self.__units_in_inventory = units_in_inventory\n",
    "\n",
    "    def set_price(self, price):\n",
    "        self.__price = price\n",
    "\n",
    "    def get_description(self):                                   #get_(thing) method returns the retail item details\n",
    "        return self.__description\n",
    "\n",
    "    def get_units_in_inventory(self):\n",
    "        return self.__units_in_inventory\n",
    "\n",
    "    def get_price(self):\n",
    "        return self.__price"
   ]
  },
  {
   "cell_type": "code",
   "execution_count": 24,
   "id": "da386076-6ffb-462a-9700-874745685c21",
   "metadata": {},
   "outputs": [],
   "source": [
    "#for part two of this program, it will now ask user to input item details and return a list of those items"
   ]
  },
  {
   "cell_type": "code",
   "execution_count": 41,
   "id": "5a4d6d11-c9a2-4d79-bc93-b5a0d239d40a",
   "metadata": {},
   "outputs": [
    {
     "name": "stdout",
     "output_type": "stream",
     "text": [
      "Enter details for item 1:\n"
     ]
    },
    {
     "name": "stdin",
     "output_type": "stream",
     "text": [
      "Enter description: Jacket\n",
      "Enter how many units: 12\n",
      "Enter the price: 59.95\n"
     ]
    },
    {
     "name": "stdout",
     "output_type": "stream",
     "text": [
      "Enter details for item 2:\n"
     ]
    },
    {
     "name": "stdin",
     "output_type": "stream",
     "text": [
      "Enter description: Designer Jeans\n",
      "Enter how many units: 40\n",
      "Enter the price: 34.95\n"
     ]
    },
    {
     "name": "stdout",
     "output_type": "stream",
     "text": [
      "Enter details for item 3:\n"
     ]
    },
    {
     "name": "stdin",
     "output_type": "stream",
     "text": [
      "Enter description: Shirt\n",
      "Enter how many units: 20\n",
      "Enter the price: 24.95\n"
     ]
    },
    {
     "name": "stdout",
     "output_type": "stream",
     "text": [
      "\n",
      "Here are the details of the items you entered:\n",
      "\n",
      "Item 1:\n",
      "Description: Jacket\n",
      "Units in Inventory: 12\n",
      "Price of Item: 59.95\n",
      "\n",
      "Item 2:\n",
      "Description: Designer Jeans\n",
      "Units in Inventory: 40\n",
      "Price of Item: 34.95\n",
      "\n",
      "Item 3:\n",
      "Description: Shirt\n",
      "Units in Inventory: 20\n",
      "Price of Item: 24.95\n"
     ]
    }
   ],
   "source": [
    "class RetailItem:                                                #RetailItem class holds data about retail items\n",
    "                                                         \n",
    "    def __init__(self, description, units_in_inventory, price):  #__init__ method initializes the attributes\n",
    "        self.__description = description\n",
    "        self.__units_in_inventory = units_in_inventory\n",
    "        self.__price = price\n",
    "\n",
    "    def set_description(self, description):                      #set_(thing) method accepts argument for retail item\n",
    "        self.__description = description\n",
    "\n",
    "    def set_units_in_inventory(self, units_in_inventory):\n",
    "        self.__units_in_inventory = units_in_inventory\n",
    "\n",
    "    def set_price(self, price):\n",
    "        self.__price = price\n",
    "\n",
    "    def get_description(self):                                   #get_(thing) method returns the retail item details\n",
    "        return self.__description\n",
    "\n",
    "    def get_units_in_inventory(self):\n",
    "        return self.__units_in_inventory\n",
    "\n",
    "    def get_price(self):\n",
    "        return self.__price\n",
    "\n",
    "\n",
    "def main():\n",
    "    items = []                                                   #get the item data\n",
    "\n",
    "    for i in range (3):                                          #set number of items to get data from \n",
    "        print(f'Enter details for item {i + 1}:')\n",
    "        desc = input('Enter description:')\n",
    "        units = input('Enter how many units:')\n",
    "        price = float(input('Enter the price:'))\n",
    "\n",
    "        item = RetailItem(desc, units, price)                    #create list for items entered to be stored in\n",
    "        items.append(item)\n",
    "\n",
    "    print('\\nHere are the details of the items you entered:')\n",
    "\n",
    "    for i, item in enumerate(items, start = 1):                  #print details of all the items\n",
    "        print(f'\\nItem {i}:')\n",
    "        print(f'Description: {item.get_description()}')\n",
    "        print(f'Units in Inventory: {item.get_units_in_inventory()}')\n",
    "        print(f'Price of Item: {item.get_price()}')\n",
    "\n",
    "if __name__ == '__main__':\n",
    "    main()"
   ]
  },
  {
   "cell_type": "code",
   "execution_count": null,
   "id": "0e50ca1b-067f-4dc9-9aa9-21700a5dad15",
   "metadata": {},
   "outputs": [],
   "source": []
  }
 ],
 "metadata": {
  "kernelspec": {
   "display_name": "Python 3 (ipykernel)",
   "language": "python",
   "name": "python3"
  },
  "language_info": {
   "codemirror_mode": {
    "name": "ipython",
    "version": 3
   },
   "file_extension": ".py",
   "mimetype": "text/x-python",
   "name": "python",
   "nbconvert_exporter": "python",
   "pygments_lexer": "ipython3",
   "version": "3.11.7"
  },
  "widgets": {
   "application/vnd.jupyter.widget-state+json": {
    "state": {},
    "version_major": 2,
    "version_minor": 0
   }
  }
 },
 "nbformat": 4,
 "nbformat_minor": 5
}

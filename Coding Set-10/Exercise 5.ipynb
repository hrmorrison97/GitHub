{
 "cells": [
  {
   "cell_type": "markdown",
   "id": "d225a4c5-d7ad-4b02-bb08-3b613bc29f35",
   "metadata": {},
   "source": [
    "# Exercise 5. RetailItem Class"
   ]
  },
  {
   "cell_type": "code",
   "execution_count": 22,
   "id": "31bd4b3d-f1df-4565-befd-9693456d0169",
   "metadata": {},
   "outputs": [],
   "source": [
    "#this program will store data in a 'retailitem' class and ask user to input data for three items"
   ]
  },
  {
   "cell_type": "code",
   "execution_count": 23,
   "id": "cbca6d0d-e917-4297-936f-d62abf0a6e9e",
   "metadata": {},
   "outputs": [],
   "source": [
    "class RetailItem:                                                #RetailItem class holds data about retail items\n",
    "                                                         \n",
    "    def __init__(self, description, units_in_inventory, price):  #__init__ method initializes the attributes\n",
    "        self.__description = description\n",
    "        self.__units_in_inventory = units_in_inventory\n",
    "        self.__price = price\n",
    "\n",
    "    def set_description(self, description):                      #set_(thing) method accepts argument for retail item\n",
    "        self.__description = description\n",
    "\n",
    "    def set_units_in_inventory(self, units_in_inventory):\n",
    "        self.__units_in_inventory = units_in_inventory\n",
    "\n",
    "    def set_price(self, price):\n",
    "        self.__price = price\n",
    "\n",
    "    def get_description(self):                                   #get_(thing) method returns the retail item details\n",
    "        return self.__description\n",
    "\n",
    "    def get_units_in_inventory(self):\n",
    "        return self.__units_in_inventory\n",
    "\n",
    "    def get_price(self):\n",
    "        return self.__price"
   ]
  },
  {
   "cell_type": "code",
   "execution_count": 24,
   "id": "da386076-6ffb-462a-9700-874745685c21",
   "metadata": {},
   "outputs": [],
   "source": [
    "#for part two of this program, it will now ask user to input item details and return a list of those items"
   ]
  },
  {
   "cell_type": "code",
   "execution_count": null,
   "id": "5a4d6d11-c9a2-4d79-bc93-b5a0d239d40a",
   "metadata": {},
   "outputs": [],
   "source": [
    "def main():\n",
    "    items = []                                                   #get the item data\n",
    "\n",
    "    for i in range (3):                                          #set number of items to get data from \n",
    "        print(f'Enter details for item {i + 1}:')\n",
    "        desc = input('Enter description:')\n",
    "        units = input('Enter how many units:')\n",
    "        price = float(input('Enter the price:')\n",
    "\n",
    "        item = RetailItem(desc, units, price)                    #create list for items entered to be stored in\n",
    "        items.append(item)"
   ]
  }
 ],
 "metadata": {
  "kernelspec": {
   "display_name": "Python 3 (ipykernel)",
   "language": "python",
   "name": "python3"
  },
  "language_info": {
   "codemirror_mode": {
    "name": "ipython",
    "version": 3
   },
   "file_extension": ".py",
   "mimetype": "text/x-python",
   "name": "python",
   "nbconvert_exporter": "python",
   "pygments_lexer": "ipython3",
   "version": "3.11.7"
  },
  "widgets": {
   "application/vnd.jupyter.widget-state+json": {
    "state": {},
    "version_major": 2,
    "version_minor": 0
   }
  }
 },
 "nbformat": 4,
 "nbformat_minor": 5
}

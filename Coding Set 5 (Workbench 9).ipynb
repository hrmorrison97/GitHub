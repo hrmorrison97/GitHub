{
 "cells": [
  {
   "cell_type": "markdown",
   "id": "77ce10c6-0e4f-450e-8364-f343e3da581d",
   "metadata": {},
   "source": [
    "# Workbench 9. Write times_ten function with argument returning number multiplied by 10."
   ]
  },
  {
   "cell_type": "code",
   "execution_count": 1,
   "id": "64d73d3e-fd34-49df-a6cb-68935701400b",
   "metadata": {},
   "outputs": [],
   "source": [
    "#This program will as user for a number and multipy it by ten then give result as message. "
   ]
  },
  {
   "cell_type": "code",
   "execution_count": 5,
   "id": "32082ae0-a675-4e19-8446-fa571ac2a03a",
   "metadata": {},
   "outputs": [
    {
     "name": "stdout",
     "output_type": "stream",
     "text": [
      "70\n"
     ]
    }
   ],
   "source": [
    "#Testing the times_ten function before continuing with code writing\n",
    "def times_10(number):\n",
    "    return number * 10\n",
    "    \n",
    "print(times_10(7))\n"
   ]
  },
  {
   "cell_type": "code",
   "execution_count": null,
   "id": "3f30ff3c-1e9e-455d-8aaa-c1c50d79994e",
   "metadata": {},
   "outputs": [],
   "source": [
    "def main():\n",
    "    number = int(input('Enter number to be multiplied by 10'))                #Ask user for number"
   ]
  }
 ],
 "metadata": {
  "kernelspec": {
   "display_name": "Python 3 (ipykernel)",
   "language": "python",
   "name": "python3"
  },
  "language_info": {
   "codemirror_mode": {
    "name": "ipython",
    "version": 3
   },
   "file_extension": ".py",
   "mimetype": "text/x-python",
   "name": "python",
   "nbconvert_exporter": "python",
   "pygments_lexer": "ipython3",
   "version": "3.11.7"
  },
  "widgets": {
   "application/vnd.jupyter.widget-state+json": {
    "state": {},
    "version_major": 2,
    "version_minor": 0
   }
  }
 },
 "nbformat": 4,
 "nbformat_minor": 5
}

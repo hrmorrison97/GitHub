{
 "cells": [
  {
   "cell_type": "markdown",
   "id": "77ce10c6-0e4f-450e-8364-f343e3da581d",
   "metadata": {},
   "source": [
    "# Workbench 9. Write times_ten function with argument returning number multiplied by 10.\n",
    "#### This was just a basic math function with a return statement. I used our book along with the 'prime number' probl"
   ]
  },
  {
   "cell_type": "code",
   "execution_count": 1,
   "id": "64d73d3e-fd34-49df-a6cb-68935701400b",
   "metadata": {},
   "outputs": [],
   "source": [
    "#This program will as user for a number and multipy it by ten then give result as message. "
   ]
  },
  {
   "cell_type": "code",
   "execution_count": 5,
   "id": "32082ae0-a675-4e19-8446-fa571ac2a03a",
   "metadata": {},
   "outputs": [
    {
     "name": "stdout",
     "output_type": "stream",
     "text": [
      "70\n"
     ]
    }
   ],
   "source": [
    "#defining times_10\n",
    "def times_10(number):\n",
    "    return number * 10            #Defining return function\n",
    "    \n",
    "print(times_10(7))                #Printing value times 10\n"
   ]
  },
  {
   "cell_type": "markdown",
   "id": "afea0037-4f86-4a34-860a-e6d2c9013f1e",
   "metadata": {},
   "source": []
  }
 ],
 "metadata": {
  "kernelspec": {
   "display_name": "Python 3 (ipykernel)",
   "language": "python",
   "name": "python3"
  },
  "language_info": {
   "codemirror_mode": {
    "name": "ipython",
    "version": 3
   },
   "file_extension": ".py",
   "mimetype": "text/x-python",
   "name": "python",
   "nbconvert_exporter": "python",
   "pygments_lexer": "ipython3",
   "version": "3.11.7"
  },
  "widgets": {
   "application/vnd.jupyter.widget-state+json": {
    "state": {},
    "version_major": 2,
    "version_minor": 0
   }
  }
 },
 "nbformat": 4,
 "nbformat_minor": 5
}

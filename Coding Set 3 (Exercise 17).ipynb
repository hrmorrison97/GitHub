{
 "cells": [
  {
   "cell_type": "markdown",
   "id": "d451e60e-cd48-4be8-ab66-f1c18c40011e",
   "metadata": {},
   "source": [
    "# Coding Set 3 (Exercise 17. Wi-Fi Diagnostic Tree)\n",
    "### This problem was fun to solve, because I've worked in tech support before. Just basically have to program the system to ask the questions for you, and then respond to the basic answer. I had one issue with indentation, which now I'll be sure to double check before running programs. "
   ]
  },
  {
   "cell_type": "code",
   "execution_count": 2,
   "id": "40b8d2fc-de46-40a1-ac41-43b9bbc3e39d",
   "metadata": {},
   "outputs": [],
   "source": [
    "#Program to lead user through troubleshooting through a bad Wi-Fi connection."
   ]
  },
  {
   "cell_type": "code",
   "execution_count": 4,
   "id": "3b15bddf-1bc9-469c-9c80-e4346239b5bd",
   "metadata": {},
   "outputs": [],
   "source": [
    "#Every answer will either end the program or continue the troubleshoot. "
   ]
  },
  {
   "cell_type": "code",
   "execution_count": 8,
   "id": "77ccf686-9ed9-4ddf-a92e-23cafa0fc189",
   "metadata": {},
   "outputs": [
    {
     "name": "stdout",
     "output_type": "stream",
     "text": [
      "Try rebooting your device and reconnecting to the network.\n"
     ]
    },
    {
     "name": "stdin",
     "output_type": "stream",
     "text": [
      "Did that fix your issue? No\n"
     ]
    },
    {
     "name": "stdout",
     "output_type": "stream",
     "text": [
      "Try rebooting your router and reconnecting to the network.\n"
     ]
    },
    {
     "name": "stdin",
     "output_type": "stream",
     "text": [
      "Did that fix your issue? No\n"
     ]
    },
    {
     "name": "stdout",
     "output_type": "stream",
     "text": [
      "Check that the cable connections are secure between the router, modem and wall plug.\n"
     ]
    },
    {
     "name": "stdin",
     "output_type": "stream",
     "text": [
      "Did that fix your issue? No\n"
     ]
    },
    {
     "name": "stdout",
     "output_type": "stream",
     "text": [
      "Relocate router to alternate location and try reconnecting to the network.\n"
     ]
    },
    {
     "name": "stdin",
     "output_type": "stream",
     "text": [
      "Did that fix your issue? No\n"
     ]
    },
    {
     "name": "stdout",
     "output_type": "stream",
     "text": [
      "You will need to replace your router or modem to fix this issue.\n"
     ]
    }
   ],
   "source": [
    "print('Try rebooting your device and reconnecting to the network.')\n",
    "answer = input('Did that fix your issue?')\n",
    "if answer != 'Yes':\n",
    "    print('Try rebooting your router and reconnecting to the network.')\n",
    "    answer = input('Did that fix your issue?')\n",
    "    if answer != 'Yes':\n",
    "        print('Check that the cable connections are secure between the router, modem and wall plug.')\n",
    "        answer = input('Did that fix your issue?')\n",
    "        if answer != 'Yes':\n",
    "            print('Relocate router to alternate location and try reconnecting to the network.')\n",
    "            answer = input('Did that fix your issue?')\n",
    "            if answer != 'Yes':\n",
    "                print('You will need to replace your router or modem to fix this issue.')"
   ]
  },
  {
   "cell_type": "code",
   "execution_count": null,
   "id": "caaa4ed7-d069-4763-9c4c-cc19a4f7dc0d",
   "metadata": {},
   "outputs": [],
   "source": []
  }
 ],
 "metadata": {
  "kernelspec": {
   "display_name": "Python 3 (ipykernel)",
   "language": "python",
   "name": "python3"
  },
  "language_info": {
   "codemirror_mode": {
    "name": "ipython",
    "version": 3
   },
   "file_extension": ".py",
   "mimetype": "text/x-python",
   "name": "python",
   "nbconvert_exporter": "python",
   "pygments_lexer": "ipython3",
   "version": "3.11.7"
  }
 },
 "nbformat": 4,
 "nbformat_minor": 5
}

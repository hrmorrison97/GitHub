{
 "cells": [
  {
   "cell_type": "markdown",
   "id": "a0bcd2c0-b463-4730-9b04-46ad9d0136d9",
   "metadata": {},
   "source": [
    "# Exercise 9. Capital Quiz\n",
    "#### "
   ]
  },
  {
   "cell_type": "code",
   "execution_count": 1,
   "id": "e5dce6d8-f3b3-4ab6-a7fc-22379422b94a",
   "metadata": {},
   "outputs": [],
   "source": [
    "#"
   ]
  },
  {
   "cell_type": "code",
   "execution_count": 9,
   "id": "36b0375b-f6a2-447a-9a8c-1d51d5eb103a",
   "metadata": {},
   "outputs": [],
   "source": [
    "def main():\n",
    "    states_and_capitals = create_states_and_capitals()        #naming states and capitals dictionary\n",
    "    quiz(states_and_capitals)                                 #defining 'quiz' "
   ]
  },
  {
   "cell_type": "code",
   "execution_count": null,
   "id": "0995ba12-a82e-458f-99f9-12dc6da1a5d7",
   "metadata": {},
   "outputs": [],
   "source": []
  }
 ],
 "metadata": {
  "kernelspec": {
   "display_name": "Python 3 (ipykernel)",
   "language": "python",
   "name": "python3"
  },
  "language_info": {
   "codemirror_mode": {
    "name": "ipython",
    "version": 3
   },
   "file_extension": ".py",
   "mimetype": "text/x-python",
   "name": "python",
   "nbconvert_exporter": "python",
   "pygments_lexer": "ipython3",
   "version": "3.11.7"
  },
  "widgets": {
   "application/vnd.jupyter.widget-state+json": {
    "state": {},
    "version_major": 2,
    "version_minor": 0
   }
  }
 },
 "nbformat": 4,
 "nbformat_minor": 5
}

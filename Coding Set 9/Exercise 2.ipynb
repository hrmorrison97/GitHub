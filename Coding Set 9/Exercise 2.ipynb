{
 "cells": [
  {
   "cell_type": "markdown",
   "id": "a0bcd2c0-b463-4730-9b04-46ad9d0136d9",
   "metadata": {},
   "source": [
    "# Exercise 9. Capital Quiz\n",
    "#### This one took quite some time due to typing every single state and capital with the correct symbols and everything. I ended up with a few small errors that I went to chatGPT for help with (eyes didn't want to focus on all that red), she gave me a few of my spelling errors and some code mistakes that I fixed. I then asked her to help me make the states asked be random. (I'll add those screen shots into this folder too)"
   ]
  },
  {
   "cell_type": "code",
   "execution_count": 14,
   "id": "e5dce6d8-f3b3-4ab6-a7fc-22379422b94a",
   "metadata": {},
   "outputs": [],
   "source": [
    "#this program will ask user to name the capital of a state the program asks for, then tally's the right and wrong answers"
   ]
  },
  {
   "cell_type": "code",
   "execution_count": 53,
   "id": "36b0375b-f6a2-447a-9a8c-1d51d5eb103a",
   "metadata": {},
   "outputs": [
    {
     "name": "stdout",
     "output_type": "stream",
     "text": [
      "What is the capital of this state?: \u001b[1mWyoming\u001b[0m\n"
     ]
    },
    {
     "name": "stdin",
     "output_type": "stream",
     "text": [
      "Your entry: Cheyenne\n"
     ]
    },
    {
     "name": "stdout",
     "output_type": "stream",
     "text": [
      "\u001b[1m\u001b[92mCorrect!\u001b[0m\n",
      "What is the capital of this state?: \u001b[1mMissouri\u001b[0m\n"
     ]
    },
    {
     "name": "stdin",
     "output_type": "stream",
     "text": [
      "Your entry: Jefferson City\n"
     ]
    },
    {
     "name": "stdout",
     "output_type": "stream",
     "text": [
      "\u001b[1m\u001b[92mCorrect!\u001b[0m\n",
      "What is the capital of this state?: \u001b[1mWisconsin\u001b[0m\n"
     ]
    },
    {
     "name": "stdin",
     "output_type": "stream",
     "text": [
      "Your entry: Madison\n"
     ]
    },
    {
     "name": "stdout",
     "output_type": "stream",
     "text": [
      "\u001b[1m\u001b[92mCorrect!\u001b[0m\n",
      "What is the capital of this state?: \u001b[1mMississippi\u001b[0m\n"
     ]
    },
    {
     "name": "stdin",
     "output_type": "stream",
     "text": [
      "Your entry: Jackson\n"
     ]
    },
    {
     "name": "stdout",
     "output_type": "stream",
     "text": [
      "\u001b[1m\u001b[92mCorrect!\u001b[0m\n",
      "What is the capital of this state?: \u001b[1mWest Virginia\u001b[0m\n"
     ]
    },
    {
     "name": "stdin",
     "output_type": "stream",
     "text": [
      "Your entry: Charleston\n"
     ]
    },
    {
     "name": "stdout",
     "output_type": "stream",
     "text": [
      "\u001b[1m\u001b[92mCorrect!\u001b[0m\n",
      "What is the capital of this state?: \u001b[1mMinnesota\u001b[0m\n"
     ]
    },
    {
     "name": "stdin",
     "output_type": "stream",
     "text": [
      "Your entry: Saint Paul\n"
     ]
    },
    {
     "name": "stdout",
     "output_type": "stream",
     "text": [
      "\u001b[1m\u001b[92mCorrect!\u001b[0m\n",
      "What is the capital of this state?: \u001b[1mWashington\u001b[0m\n"
     ]
    },
    {
     "name": "stdin",
     "output_type": "stream",
     "text": [
      "Your entry: Olympia\n"
     ]
    },
    {
     "name": "stdout",
     "output_type": "stream",
     "text": [
      "\u001b[1m\u001b[92mCorrect!\u001b[0m\n",
      "What is the capital of this state?: \u001b[1mMichigan\u001b[0m\n"
     ]
    },
    {
     "name": "stdin",
     "output_type": "stream",
     "text": [
      "Your entry: Lansing\n"
     ]
    },
    {
     "name": "stdout",
     "output_type": "stream",
     "text": [
      "\u001b[1m\u001b[92mCorrect!\u001b[0m\n",
      "What is the capital of this state?: \u001b[1mVirginia\u001b[0m\n"
     ]
    },
    {
     "name": "stdin",
     "output_type": "stream",
     "text": [
      "Your entry: Richmond\n"
     ]
    },
    {
     "name": "stdout",
     "output_type": "stream",
     "text": [
      "\u001b[1m\u001b[92mCorrect!\u001b[0m\n",
      "What is the capital of this state?: \u001b[1mMassachusetts\u001b[0m\n"
     ]
    },
    {
     "name": "stdin",
     "output_type": "stream",
     "text": [
      "Your entry: Boston\n"
     ]
    },
    {
     "name": "stdout",
     "output_type": "stream",
     "text": [
      "\u001b[1m\u001b[92mCorrect!\u001b[0m\n",
      "What is the capital of this state?: \u001b[1mVermont\u001b[0m\n"
     ]
    },
    {
     "name": "stdin",
     "output_type": "stream",
     "text": [
      "Your entry: Montpelier\n"
     ]
    },
    {
     "name": "stdout",
     "output_type": "stream",
     "text": [
      "\u001b[1m\u001b[92mCorrect!\u001b[0m\n",
      "What is the capital of this state?: \u001b[1mMaryland\u001b[0m\n"
     ]
    },
    {
     "name": "stdin",
     "output_type": "stream",
     "text": [
      "Your entry: Annapolis\n"
     ]
    },
    {
     "name": "stdout",
     "output_type": "stream",
     "text": [
      "\u001b[1m\u001b[92mCorrect!\u001b[0m\n",
      "What is the capital of this state?: \u001b[1mUtah\u001b[0m\n"
     ]
    },
    {
     "name": "stdin",
     "output_type": "stream",
     "text": [
      "Your entry: Salt Lake City\n"
     ]
    },
    {
     "name": "stdout",
     "output_type": "stream",
     "text": [
      "\u001b[1m\u001b[92mCorrect!\u001b[0m\n",
      "What is the capital of this state?: \u001b[1mMaine\u001b[0m\n"
     ]
    },
    {
     "name": "stdin",
     "output_type": "stream",
     "text": [
      "Your entry: Agusta\n"
     ]
    },
    {
     "name": "stdout",
     "output_type": "stream",
     "text": [
      "\u001b[1m\u001b[92mCorrect!\u001b[0m\n",
      "What is the capital of this state?: \u001b[1mTexas\u001b[0m\n"
     ]
    },
    {
     "name": "stdin",
     "output_type": "stream",
     "text": [
      "Your entry: Houston\n"
     ]
    },
    {
     "name": "stdout",
     "output_type": "stream",
     "text": [
      "\u001b[1m\u001b[91mIncorrect\u001b[0m\n",
      "What is the capital of this state?: \u001b[1mLouisiana\u001b[0m\n"
     ]
    },
    {
     "name": "stdin",
     "output_type": "stream",
     "text": [
      "Your entry: Baton Rouge\n"
     ]
    },
    {
     "name": "stdout",
     "output_type": "stream",
     "text": [
      "\u001b[1m\u001b[92mCorrect!\u001b[0m\n",
      "What is the capital of this state?: \u001b[1mTennessee\u001b[0m\n"
     ]
    },
    {
     "name": "stdin",
     "output_type": "stream",
     "text": [
      "Your entry: Nashville\n"
     ]
    },
    {
     "name": "stdout",
     "output_type": "stream",
     "text": [
      "\u001b[1m\u001b[92mCorrect!\u001b[0m\n",
      "What is the capital of this state?: \u001b[1mKentucky\u001b[0m\n"
     ]
    },
    {
     "name": "stdin",
     "output_type": "stream",
     "text": [
      "Your entry: Louisville\n"
     ]
    },
    {
     "name": "stdout",
     "output_type": "stream",
     "text": [
      "\u001b[1m\u001b[91mIncorrect\u001b[0m\n",
      "What is the capital of this state?: \u001b[1mSouth Dakota\u001b[0m\n"
     ]
    },
    {
     "name": "stdin",
     "output_type": "stream",
     "text": [
      "Your entry: Pierre\n"
     ]
    },
    {
     "name": "stdout",
     "output_type": "stream",
     "text": [
      "\u001b[1m\u001b[92mCorrect!\u001b[0m\n",
      "What is the capital of this state?: \u001b[1mKansas\u001b[0m\n"
     ]
    },
    {
     "name": "stdin",
     "output_type": "stream",
     "text": [
      "Your entry: Topeka\n"
     ]
    },
    {
     "name": "stdout",
     "output_type": "stream",
     "text": [
      "\u001b[1m\u001b[92mCorrect!\u001b[0m\n",
      "What is the capital of this state?: \u001b[1mSouth Carolina\u001b[0m\n"
     ]
    },
    {
     "name": "stdin",
     "output_type": "stream",
     "text": [
      "Your entry: Columbia\n"
     ]
    },
    {
     "name": "stdout",
     "output_type": "stream",
     "text": [
      "\u001b[1m\u001b[92mCorrect!\u001b[0m\n",
      "What is the capital of this state?: \u001b[1mIowa\u001b[0m\n"
     ]
    },
    {
     "name": "stdin",
     "output_type": "stream",
     "text": [
      "Your entry: Boise\n"
     ]
    },
    {
     "name": "stdout",
     "output_type": "stream",
     "text": [
      "\u001b[1m\u001b[91mIncorrect\u001b[0m\n",
      "What is the capital of this state?: \u001b[1mRhode Island\u001b[0m\n"
     ]
    },
    {
     "name": "stdin",
     "output_type": "stream",
     "text": [
      "Your entry: Providence\n"
     ]
    },
    {
     "name": "stdout",
     "output_type": "stream",
     "text": [
      "\u001b[1m\u001b[92mCorrect!\u001b[0m\n",
      "What is the capital of this state?: \u001b[1mIndiana\u001b[0m\n"
     ]
    },
    {
     "name": "stdin",
     "output_type": "stream",
     "text": [
      "Your entry: Indianapolis\n"
     ]
    },
    {
     "name": "stdout",
     "output_type": "stream",
     "text": [
      "\u001b[1m\u001b[92mCorrect!\u001b[0m\n",
      "What is the capital of this state?: \u001b[1mPennsylvania\u001b[0m\n"
     ]
    },
    {
     "name": "stdin",
     "output_type": "stream",
     "text": [
      "Your entry: Harrisburg\n"
     ]
    },
    {
     "name": "stdout",
     "output_type": "stream",
     "text": [
      "\u001b[1m\u001b[92mCorrect!\u001b[0m\n",
      "What is the capital of this state?: \u001b[1mIllinois\u001b[0m\n"
     ]
    },
    {
     "name": "stdin",
     "output_type": "stream",
     "text": [
      "Your entry: Springfield\n"
     ]
    },
    {
     "name": "stdout",
     "output_type": "stream",
     "text": [
      "\u001b[1m\u001b[92mCorrect!\u001b[0m\n",
      "What is the capital of this state?: \u001b[1mOregon\u001b[0m\n"
     ]
    },
    {
     "name": "stdin",
     "output_type": "stream",
     "text": [
      "Your entry: Salem\n"
     ]
    },
    {
     "name": "stdout",
     "output_type": "stream",
     "text": [
      "\u001b[1m\u001b[92mCorrect!\u001b[0m\n",
      "What is the capital of this state?: \u001b[1mIdaho\u001b[0m\n"
     ]
    },
    {
     "name": "stdin",
     "output_type": "stream",
     "text": [
      "Your entry: Boise\n"
     ]
    },
    {
     "name": "stdout",
     "output_type": "stream",
     "text": [
      "\u001b[1m\u001b[92mCorrect!\u001b[0m\n",
      "What is the capital of this state?: \u001b[1mOklahoma\u001b[0m\n"
     ]
    },
    {
     "name": "stdin",
     "output_type": "stream",
     "text": [
      "Your entry: Oklahoma City\n"
     ]
    },
    {
     "name": "stdout",
     "output_type": "stream",
     "text": [
      "\u001b[1m\u001b[92mCorrect!\u001b[0m\n",
      "What is the capital of this state?: \u001b[1mHawaii\u001b[0m\n"
     ]
    },
    {
     "name": "stdin",
     "output_type": "stream",
     "text": [
      "Your entry: Honolulu\n"
     ]
    },
    {
     "name": "stdout",
     "output_type": "stream",
     "text": [
      "\u001b[1m\u001b[92mCorrect!\u001b[0m\n",
      "What is the capital of this state?: \u001b[1mOhio\u001b[0m\n"
     ]
    },
    {
     "name": "stdin",
     "output_type": "stream",
     "text": [
      "Your entry: Columbus\n"
     ]
    },
    {
     "name": "stdout",
     "output_type": "stream",
     "text": [
      "\u001b[1m\u001b[92mCorrect!\u001b[0m\n",
      "What is the capital of this state?: \u001b[1mGeorgia\u001b[0m\n"
     ]
    },
    {
     "name": "stdin",
     "output_type": "stream",
     "text": [
      "Your entry: Atlanta\n"
     ]
    },
    {
     "name": "stdout",
     "output_type": "stream",
     "text": [
      "\u001b[1m\u001b[92mCorrect!\u001b[0m\n",
      "What is the capital of this state?: \u001b[1mNorth Dakota\u001b[0m\n"
     ]
    },
    {
     "name": "stdin",
     "output_type": "stream",
     "text": [
      "Your entry: Bismark\n"
     ]
    },
    {
     "name": "stdout",
     "output_type": "stream",
     "text": [
      "\u001b[1m\u001b[92mCorrect!\u001b[0m\n",
      "What is the capital of this state?: \u001b[1mFlorida\u001b[0m\n"
     ]
    },
    {
     "name": "stdin",
     "output_type": "stream",
     "text": [
      "Your entry: Tallahasee\n"
     ]
    },
    {
     "name": "stdout",
     "output_type": "stream",
     "text": [
      "\u001b[1m\u001b[91mIncorrect\u001b[0m\n",
      "What is the capital of this state?: \u001b[1mNorth Carolina\u001b[0m\n"
     ]
    },
    {
     "name": "stdin",
     "output_type": "stream",
     "text": [
      "Your entry: Raleigh\n"
     ]
    },
    {
     "name": "stdout",
     "output_type": "stream",
     "text": [
      "\u001b[1m\u001b[92mCorrect!\u001b[0m\n",
      "What is the capital of this state?: \u001b[1mDelaware\u001b[0m\n"
     ]
    },
    {
     "name": "stdin",
     "output_type": "stream",
     "text": [
      "Your entry: Dover\n"
     ]
    },
    {
     "name": "stdout",
     "output_type": "stream",
     "text": [
      "\u001b[1m\u001b[92mCorrect!\u001b[0m\n",
      "What is the capital of this state?: \u001b[1mNew York\u001b[0m\n"
     ]
    },
    {
     "name": "stdin",
     "output_type": "stream",
     "text": [
      "Your entry: Albany\n"
     ]
    },
    {
     "name": "stdout",
     "output_type": "stream",
     "text": [
      "\u001b[1m\u001b[92mCorrect!\u001b[0m\n",
      "What is the capital of this state?: \u001b[1mConnecticut\u001b[0m\n"
     ]
    },
    {
     "name": "stdin",
     "output_type": "stream",
     "text": [
      "Your entry: Hartford\n"
     ]
    },
    {
     "name": "stdout",
     "output_type": "stream",
     "text": [
      "\u001b[1m\u001b[92mCorrect!\u001b[0m\n",
      "What is the capital of this state?: \u001b[1mNew Mexico\u001b[0m\n"
     ]
    },
    {
     "name": "stdin",
     "output_type": "stream",
     "text": [
      "Your entry: Santa Fe\n"
     ]
    },
    {
     "name": "stdout",
     "output_type": "stream",
     "text": [
      "\u001b[1m\u001b[92mCorrect!\u001b[0m\n",
      "What is the capital of this state?: \u001b[1mColorado\u001b[0m\n"
     ]
    },
    {
     "name": "stdin",
     "output_type": "stream",
     "text": [
      "Your entry: Denver\n"
     ]
    },
    {
     "name": "stdout",
     "output_type": "stream",
     "text": [
      "\u001b[1m\u001b[92mCorrect!\u001b[0m\n",
      "What is the capital of this state?: \u001b[1mNew Jersey\u001b[0m\n"
     ]
    },
    {
     "name": "stdin",
     "output_type": "stream",
     "text": [
      "Your entry: Trenton\n"
     ]
    },
    {
     "name": "stdout",
     "output_type": "stream",
     "text": [
      "\u001b[1m\u001b[92mCorrect!\u001b[0m\n",
      "What is the capital of this state?: \u001b[1mCalifornia\u001b[0m\n"
     ]
    },
    {
     "name": "stdin",
     "output_type": "stream",
     "text": [
      "Your entry: Sacramento\n"
     ]
    },
    {
     "name": "stdout",
     "output_type": "stream",
     "text": [
      "\u001b[1m\u001b[92mCorrect!\u001b[0m\n",
      "What is the capital of this state?: \u001b[1mNew Hampshire\u001b[0m\n"
     ]
    },
    {
     "name": "stdin",
     "output_type": "stream",
     "text": [
      "Your entry: Concord\n"
     ]
    },
    {
     "name": "stdout",
     "output_type": "stream",
     "text": [
      "\u001b[1m\u001b[92mCorrect!\u001b[0m\n",
      "What is the capital of this state?: \u001b[1mArkansas\u001b[0m\n"
     ]
    },
    {
     "name": "stdin",
     "output_type": "stream",
     "text": [
      "Your entry: Little Rock\n"
     ]
    },
    {
     "name": "stdout",
     "output_type": "stream",
     "text": [
      "\u001b[1m\u001b[92mCorrect!\u001b[0m\n",
      "What is the capital of this state?: \u001b[1mNevada\u001b[0m\n"
     ]
    },
    {
     "name": "stdin",
     "output_type": "stream",
     "text": [
      "Your entry: Carson City\n"
     ]
    },
    {
     "name": "stdout",
     "output_type": "stream",
     "text": [
      "\u001b[1m\u001b[92mCorrect!\u001b[0m\n",
      "What is the capital of this state?: \u001b[1mArizona\u001b[0m\n"
     ]
    },
    {
     "name": "stdin",
     "output_type": "stream",
     "text": [
      "Your entry: Phoenix\n"
     ]
    },
    {
     "name": "stdout",
     "output_type": "stream",
     "text": [
      "\u001b[1m\u001b[92mCorrect!\u001b[0m\n",
      "What is the capital of this state?: \u001b[1mNebraska\u001b[0m\n"
     ]
    },
    {
     "name": "stdin",
     "output_type": "stream",
     "text": [
      "Your entry: Lincoln\n"
     ]
    },
    {
     "name": "stdout",
     "output_type": "stream",
     "text": [
      "\u001b[1m\u001b[92mCorrect!\u001b[0m\n",
      "What is the capital of this state?: \u001b[1mAlaska\u001b[0m\n"
     ]
    },
    {
     "name": "stdin",
     "output_type": "stream",
     "text": [
      "Your entry: Juneau\n"
     ]
    },
    {
     "name": "stdout",
     "output_type": "stream",
     "text": [
      "\u001b[1m\u001b[92mCorrect!\u001b[0m\n",
      "What is the capital of this state?: \u001b[1mMontana\u001b[0m\n"
     ]
    },
    {
     "name": "stdin",
     "output_type": "stream",
     "text": [
      "Your entry: Helena\n"
     ]
    },
    {
     "name": "stdout",
     "output_type": "stream",
     "text": [
      "\u001b[1m\u001b[92mCorrect!\u001b[0m\n",
      "What is the capital of this state?: \u001b[1mAlabama\u001b[0m\n"
     ]
    },
    {
     "name": "stdin",
     "output_type": "stream",
     "text": [
      "Your entry: Montgomery\n"
     ]
    },
    {
     "name": "stdout",
     "output_type": "stream",
     "text": [
      "\u001b[1m\u001b[92mCorrect!\u001b[0m\n"
     ]
    },
    {
     "ename": "TypeError",
     "evalue": "can only concatenate str (not \"int\") to str",
     "output_type": "error",
     "traceback": [
      "\u001b[0;31m---------------------------------------------------------------------------\u001b[0m",
      "\u001b[0;31mTypeError\u001b[0m                                 Traceback (most recent call last)",
      "Cell \u001b[0;32mIn[53], line 52\u001b[0m\n\u001b[1;32m     49\u001b[0m     \u001b[38;5;28mprint\u001b[39m(\u001b[38;5;124m'\u001b[39m\u001b[38;5;124mThe number of correct answers is:\u001b[39m\u001b[38;5;124m'\u001b[39m, \u001b[38;5;124m\"\u001b[39m\u001b[38;5;130;01m\\033\u001b[39;00m\u001b[38;5;124m[1m\u001b[39m\u001b[38;5;124m\"\u001b[39m \u001b[38;5;241m+\u001b[39m \u001b[38;5;124m\"\u001b[39m\u001b[38;5;130;01m\\033\u001b[39;00m\u001b[38;5;124m[92m\u001b[39m\u001b[38;5;124m\"\u001b[39m \u001b[38;5;241m+\u001b[39m count \u001b[38;5;241m+\u001b[39m \u001b[38;5;124m\"\u001b[39m\u001b[38;5;130;01m\\033\u001b[39;00m\u001b[38;5;124m[0m\u001b[39m\u001b[38;5;124m\"\u001b[39m)\n\u001b[1;32m     50\u001b[0m     \u001b[38;5;28mprint\u001b[39m(\u001b[38;5;124m'\u001b[39m\u001b[38;5;124mThe nubmer of incorrect answers is:\u001b[39m\u001b[38;5;124m'\u001b[39m, \u001b[38;5;124m\"\u001b[39m\u001b[38;5;130;01m\\033\u001b[39;00m\u001b[38;5;124m[1m\u001b[39m\u001b[38;5;124m\"\u001b[39m \u001b[38;5;241m+\u001b[39m \u001b[38;5;124m\"\u001b[39m\u001b[38;5;130;01m\\033\u001b[39;00m\u001b[38;5;124m[91m\u001b[39m\u001b[38;5;124m\"\u001b[39m \u001b[38;5;241m+\u001b[39m \u001b[38;5;241m50\u001b[39m \u001b[38;5;241m-\u001b[39m count \u001b[38;5;241m+\u001b[39m \u001b[38;5;124m\"\u001b[39m\u001b[38;5;130;01m\\033\u001b[39;00m\u001b[38;5;124m[0m\u001b[39m\u001b[38;5;124m\"\u001b[39m)\n\u001b[0;32m---> 52\u001b[0m main()\n",
      "Cell \u001b[0;32mIn[53], line 3\u001b[0m, in \u001b[0;36mmain\u001b[0;34m()\u001b[0m\n\u001b[1;32m      1\u001b[0m \u001b[38;5;28;01mdef\u001b[39;00m \u001b[38;5;21mmain\u001b[39m():\n\u001b[1;32m      2\u001b[0m     states_and_capitals \u001b[38;5;241m=\u001b[39m create_states_and_capitals()        \u001b[38;5;66;03m#create dictionary for states and capitals\u001b[39;00m\n\u001b[0;32m----> 3\u001b[0m     quiz(states_and_capitals)\n",
      "Cell \u001b[0;32mIn[53], line 49\u001b[0m, in \u001b[0;36mquiz\u001b[0;34m(states_and_capitals)\u001b[0m\n\u001b[1;32m     46\u001b[0m         count \u001b[38;5;241m+\u001b[39m\u001b[38;5;241m=\u001b[39m \u001b[38;5;241m0\u001b[39m\n\u001b[1;32m     47\u001b[0m         \u001b[38;5;28mprint\u001b[39m(\u001b[38;5;124m\"\u001b[39m\u001b[38;5;130;01m\\033\u001b[39;00m\u001b[38;5;124m[1m\u001b[39m\u001b[38;5;124m\"\u001b[39m \u001b[38;5;241m+\u001b[39m \u001b[38;5;124m\"\u001b[39m\u001b[38;5;130;01m\\033\u001b[39;00m\u001b[38;5;124m[91m\u001b[39m\u001b[38;5;124m\"\u001b[39m \u001b[38;5;241m+\u001b[39m \u001b[38;5;124m\"\u001b[39m\u001b[38;5;124mIncorrect\u001b[39m\u001b[38;5;124m\"\u001b[39m \u001b[38;5;241m+\u001b[39m \u001b[38;5;124m\"\u001b[39m\u001b[38;5;130;01m\\033\u001b[39;00m\u001b[38;5;124m[0m\u001b[39m\u001b[38;5;124m\"\u001b[39m)\n\u001b[0;32m---> 49\u001b[0m \u001b[38;5;28mprint\u001b[39m(\u001b[38;5;124m'\u001b[39m\u001b[38;5;124mThe number of correct answers is:\u001b[39m\u001b[38;5;124m'\u001b[39m, \u001b[38;5;124m\"\u001b[39m\u001b[38;5;130;01m\\033\u001b[39;00m\u001b[38;5;124m[1m\u001b[39m\u001b[38;5;124m\"\u001b[39m \u001b[38;5;241m+\u001b[39m \u001b[38;5;124m\"\u001b[39m\u001b[38;5;130;01m\\033\u001b[39;00m\u001b[38;5;124m[92m\u001b[39m\u001b[38;5;124m\"\u001b[39m \u001b[38;5;241m+\u001b[39m count \u001b[38;5;241m+\u001b[39m \u001b[38;5;124m\"\u001b[39m\u001b[38;5;130;01m\\033\u001b[39;00m\u001b[38;5;124m[0m\u001b[39m\u001b[38;5;124m\"\u001b[39m)\n\u001b[1;32m     50\u001b[0m \u001b[38;5;28mprint\u001b[39m(\u001b[38;5;124m'\u001b[39m\u001b[38;5;124mThe nubmer of incorrect answers is:\u001b[39m\u001b[38;5;124m'\u001b[39m, \u001b[38;5;124m\"\u001b[39m\u001b[38;5;130;01m\\033\u001b[39;00m\u001b[38;5;124m[1m\u001b[39m\u001b[38;5;124m\"\u001b[39m \u001b[38;5;241m+\u001b[39m \u001b[38;5;124m\"\u001b[39m\u001b[38;5;130;01m\\033\u001b[39;00m\u001b[38;5;124m[91m\u001b[39m\u001b[38;5;124m\"\u001b[39m \u001b[38;5;241m+\u001b[39m \u001b[38;5;241m50\u001b[39m \u001b[38;5;241m-\u001b[39m count \u001b[38;5;241m+\u001b[39m \u001b[38;5;124m\"\u001b[39m\u001b[38;5;130;01m\\033\u001b[39;00m\u001b[38;5;124m[0m\u001b[39m\u001b[38;5;124m\"\u001b[39m)\n",
      "\u001b[0;31mTypeError\u001b[0m: can only concatenate str (not \"int\") to str"
     ]
    }
   ],
   "source": [
    "import random\n",
    "\n",
    "def main():\n",
    "    states_and_capitals = create_states_and_capitals()        #create dictionary for states and capitals\n",
    "    quiz(states_and_capitals)                                 #defining 'quiz' \n",
    "    \n",
    "def create_states_and_capitals():                             #create dictionary with each state and their capital for key-values\n",
    "    states = {'Alabama':'Montgomery',      'Montana':'Helena',\n",
    "              'Alaska':'Juneau',           'Nebraska':'Lincoln', \n",
    "              'Arizona':'Phoenix',         'Nevada':'Carson City',\n",
    "              'Arkansas':'Little Rock',    'New Hampshire':'Concord',\n",
    "              'California':'Sacramento',   'New Jersey':'Trenton',\n",
    "              'Colorado':'Denver',         'New Mexico':'Santa Fe',\n",
    "              'Connecticut':'Hartford',    'New York':'Albany',\n",
    "              'Delaware':'Dover',          'North Carolina':'Raleigh',\n",
    "              'Florida':'Tallahassee',     'North Dakota':'Bismarck',\n",
    "              'Georgia':'Atlanta',         'Ohio':'Columbus',\n",
    "              'Hawaii':'Honolulu',         'Oklahoma':'Oklahoma City',\n",
    "              'Idaho':'Boise',             'Oregon':'Salem',\n",
    "              'Illinois':'Springfield',    'Pennsylvania':'Harrisburg', \n",
    "              'Indiana':'Indianapolis',    'Rhode Island':'Providence',\n",
    "              'Iowa':'Des Moines',         'South Carolina':'Columbia',\n",
    "              'Kansas':'Topeka',           'South Dakota':'Pierre',\n",
    "              'Kentucky':'Frankfort',      'Tennessee':'Nashville',\n",
    "              'Louisiana':'Baton Rouge',   'Texas':'Austin',\n",
    "              'Maine':'Augusta',            'Utah':'Salt Lake City',\n",
    "              'Maryland':'Annapolis',      'Vermont':'Montpelier',\n",
    "              'Massachusetts':'Boston',    'Virginia':'Richmond',\n",
    "              'Michigan':'Lansing',        'Washington':'Olympia',\n",
    "              'Minnesota':'Saint Paul',    'West Virginia':'Charleston',\n",
    "              'Mississippi':'Jackson',     'Wisconsin':'Madison',\n",
    "              'Missouri':'Jefferson City', 'Wyoming':'Cheyenne'}\n",
    "    return states\n",
    "\n",
    "def quiz(states_and_capitals):                                         #defining 'quiz' for program\n",
    "    count = 0\n",
    "\n",
    "    while states_and_capitals:                                         #ensuring all states used\n",
    "        key, value = states_and_capitals.popitem()\n",
    "        print('What is the capital of this state?:', \"\\033[1m\" + key + \"\\033[0m\")\n",
    "        capital = input('Your entry:')\n",
    "\n",
    "        if capital == value:                                           #values count and correct/incorrect messages\n",
    "            count += 1\n",
    "            print(\"\\033[1m\" + \"\\033[92m\" + 'Correct!' + \"\\033[0m\")\n",
    "\n",
    "        else:\n",
    "            print(\"\\033[1m\" + \"\\033[91m\" + \"Incorrect\" + \"\\033[0m\")\n",
    "\n",
    "    print('The number of correct answers is:', \"\\033[1m\" + \"\\033[92m\" + str(count) + \"\\033[0m\")\n",
    "    print('The nubmer of incorrect answers is:', \"\\033[1m\" + \"\\033[91m\" + str(50 - count) + \"\\033[0m\")\n",
    "\n",
    "main()"
   ]
  },
  {
   "cell_type": "code",
   "execution_count": null,
   "id": "f9c0e453-12bb-475e-970e-d07082f729c6",
   "metadata": {},
   "outputs": [],
   "source": []
  }
 ],
 "metadata": {
  "kernelspec": {
   "display_name": "Python 3 (ipykernel)",
   "language": "python",
   "name": "python3"
  },
  "language_info": {
   "codemirror_mode": {
    "name": "ipython",
    "version": 3
   },
   "file_extension": ".py",
   "mimetype": "text/x-python",
   "name": "python",
   "nbconvert_exporter": "python",
   "pygments_lexer": "ipython3",
   "version": "3.11.7"
  },
  "widgets": {
   "application/vnd.jupyter.widget-state+json": {
    "state": {},
    "version_major": 2,
    "version_minor": 0
   }
  }
 },
 "nbformat": 4,
 "nbformat_minor": 5
}

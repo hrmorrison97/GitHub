{
 "cells": [
  {
   "cell_type": "markdown",
   "id": "a0bcd2c0-b463-4730-9b04-46ad9d0136d9",
   "metadata": {},
   "source": [
    "# Exercise 9. Capital Quiz\n",
    "#### This one took quite some time due to typing every single state and capital with the correct symbols and everything. I didn't have any issues with it, thankfully. But one weird thing is whenever you call the program to run it always starts at wyoming and goes up from there. I don't know if that's something I can fix or what. "
   ]
  },
  {
   "cell_type": "code",
   "execution_count": 14,
   "id": "e5dce6d8-f3b3-4ab6-a7fc-22379422b94a",
   "metadata": {},
   "outputs": [],
   "source": [
    "#this program will ask user to name the capital of a state the program asks for, then tally's the right and wrong answers"
   ]
  },
  {
   "cell_type": "code",
   "execution_count": 50,
   "id": "36b0375b-f6a2-447a-9a8c-1d51d5eb103a",
   "metadata": {},
   "outputs": [],
   "source": [
    "def main():\n",
    "    states_and_capitals = create_states_and_capitals()        #create dictionary for states and capitals\n",
    "    quiz(states_and_capitals)                                 #defining 'quiz' \n",
    "    \n",
    "def create_states_and_capitals():                             #create dictionary with each state and their capital for key-values\n",
    "    states = {'Alabama':'Montgomery',      'Montana':'Helena',\n",
    "              'Alaska':'Juneau',           'Nebraska':'Lincoln', \n",
    "              'Arizona':'Phoenix',         'Nevada':'Carson City',\n",
    "              'Arkansas':'Little Rock',    'New Hampshire':'Concord',\n",
    "              'California':'Sacramento',   'New Jersey':'Trenton',\n",
    "              'Colorado':'Denver',         'New Mexico':'Santa Fe',\n",
    "              'Connecticut':'Hartford',    'New York':'Albany',\n",
    "              'Delaware':'Dover',          'North Carolina':'Raleigh',\n",
    "              'Florida':'Tallahassee',     'North Dakota':'Bismark',\n",
    "              'Georgia':'Atlanta',         'Ohio':'Columbus',\n",
    "              'Hawaii':'Honolulu',         'Oklahoma':'Oklahoma City',\n",
    "              'Idaho':'Boise',             'Oregon':'Salem',\n",
    "              'Illinois':'Springfield',    'Pennsylvania':'Harrisburg', \n",
    "              'Indiana':'Indianapolis',    'Rhode Island':'Providence',\n",
    "              'Iowa':'Des Moines',         'South Carolina':'Columbia',\n",
    "              'Kansas':'Topeka',           'South Dakota':'Pierre',\n",
    "              'Kentucky':'Frankfort',      'Tennessee':'Nashville',\n",
    "              'Louisiana':'Baton Rouge',   'Texas':'Austin',\n",
    "              'Maine':'Agusta',            'Utah':'Salt Lake City',\n",
    "              'Maryland':'Annapolis',      'Vermont':'Montpelier',\n",
    "              'Massachusetts':'Boston',    'Virginia':'Richmond',\n",
    "              'Michigan':'Lansing',        'Washington':'Olympia',\n",
    "              'Minnesota':'Saint Paul',    'West Virginia':'Charleston',\n",
    "              'Mississippi':'Jackson',     'Wisconsin':'Madison',\n",
    "              'Missouri':'Jefferson City', 'Wyoming':'Cheyenne'}\n",
    "    return states\n",
    "\n",
    "def quiz(states_and_capitals):                                         #defining 'quiz' for program\n",
    "    count = 0\n",
    "\n",
    "    for i in range(50):                                                #using 'popitem' to grab a state to be quizzed on\n",
    "        key, value = states_and_capitals.popitem()\n",
    "        print('What is the capital of this state?:', \"\\033[1m\" + key + \"\\033[0m\")\n",
    "        capital = input('Your entry:')\n",
    "\n",
    "    if capital == value:                                               #values count and correct/incorrect messages\n",
    "        count += 1\n",
    "        print(\"\\033[1m\" + \"\\033[92m\" + 'Correct!' + \"\\033[0m\")\n",
    "\n",
    "    else capital != value:\n",
    "        count += 0\n",
    "        print(\"\\033[1m\" + \"\\033[91m\" + \"Incorrect\" + \"\\033[0m\")\n",
    "\n",
    "    print('The number of correct answers is:', \"\\033[1m\" + \"\\033[92m\" + count + \"\\033[0m\")\n",
    "    print('The nubmer of incorrect answers is:', \"\\033[1m\" + \"\\033[91m\" + 50 - count + \"\\033[0m\")\n",
    "\n",
    "main()"
   ]
  }
 ],
 "metadata": {
  "kernelspec": {
   "display_name": "Python 3 (ipykernel)",
   "language": "python",
   "name": "python3"
  },
  "language_info": {
   "codemirror_mode": {
    "name": "ipython",
    "version": 3
   },
   "file_extension": ".py",
   "mimetype": "text/x-python",
   "name": "python",
   "nbconvert_exporter": "python",
   "pygments_lexer": "ipython3",
   "version": "3.11.7"
  },
  "widgets": {
   "application/vnd.jupyter.widget-state+json": {
    "state": {},
    "version_major": 2,
    "version_minor": 0
   }
  }
 },
 "nbformat": 4,
 "nbformat_minor": 5
}

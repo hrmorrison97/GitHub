{
 "cells": [
  {
   "cell_type": "markdown",
   "id": "a0bcd2c0-b463-4730-9b04-46ad9d0136d9",
   "metadata": {},
   "source": [
    "# Exercise 9. Capital Quiz\n",
    "#### "
   ]
  },
  {
   "cell_type": "code",
   "execution_count": 14,
   "id": "e5dce6d8-f3b3-4ab6-a7fc-22379422b94a",
   "metadata": {},
   "outputs": [],
   "source": [
    "#this program will ask user to name the capital of a state the program asks for, then tally's the right and wrong answers"
   ]
  },
  {
   "cell_type": "code",
   "execution_count": 15,
   "id": "36b0375b-f6a2-447a-9a8c-1d51d5eb103a",
   "metadata": {},
   "outputs": [
    {
     "name": "stdout",
     "output_type": "stream",
     "text": [
      "50\n"
     ]
    },
    {
     "ename": "NameError",
     "evalue": "name 'quiz' is not defined",
     "output_type": "error",
     "traceback": [
      "\u001b[0;31m---------------------------------------------------------------------------\u001b[0m",
      "\u001b[0;31mNameError\u001b[0m                                 Traceback (most recent call last)",
      "Cell \u001b[0;32mIn[15], line 33\u001b[0m\n\u001b[1;32m     31\u001b[0m     num_items \u001b[38;5;241m=\u001b[39m \u001b[38;5;28mlen\u001b[39m(states)\n\u001b[1;32m     32\u001b[0m     \u001b[38;5;28mprint\u001b[39m(num_items)\n\u001b[0;32m---> 33\u001b[0m main()\n",
      "Cell \u001b[0;32mIn[15], line 3\u001b[0m, in \u001b[0;36mmain\u001b[0;34m()\u001b[0m\n\u001b[1;32m      1\u001b[0m \u001b[38;5;28;01mdef\u001b[39;00m \u001b[38;5;21mmain\u001b[39m():\n\u001b[1;32m      2\u001b[0m     states_and_capitals \u001b[38;5;241m=\u001b[39m create_states_and_capitals()        \u001b[38;5;66;03m#create dictionary for states and capitals\u001b[39;00m\n\u001b[0;32m----> 3\u001b[0m     quiz(states_and_capitals)\n",
      "\u001b[0;31mNameError\u001b[0m: name 'quiz' is not defined"
     ]
    }
   ],
   "source": [
    "def main():\n",
    "    states_and_capitals = create_states_and_capitals()        #create dictionary for states and capitals\n",
    "    quiz(states_and_capitals)                                 #defining 'quiz' \n",
    "    \n",
    "def create_states_and_capitals():                             #create dictionary with each state and their capital for key-values\n",
    "    states = {'Alabama':'Montgomery',      'Montana':'Helena',\n",
    "              'Alaska':'Juneau',           'Nebraska':'Lincoln', \n",
    "              'Arizona':'Phoenix',         'Nevada':'Carson City',\n",
    "              'Arkansas':'Little Rock',    'New Hampshire':'Concord',\n",
    "              'California':'Sacramento',   'New Jersey':'Trenton',\n",
    "              'Colorado':'Denver',         'New Mexico':'Santa Fe',\n",
    "              'Connecticut':'Hartford',    'New York':'Albany',\n",
    "              'Delaware':'Dover',          'North Carolina':'Raleigh',\n",
    "              'Florida':'Tallahassee',     'North Dakota':'Bismark',\n",
    "              'Georgia':'Atlanta',         'Ohio':'Columbus',\n",
    "              'Hawaii':'Honolulu',         'Oklahoma':'Oklahoma City',\n",
    "              'Idaho':'Boise',             'Oregon':'Salem',\n",
    "              'Illinois':'Springfield',    'Pennsylvania':'Harrisburg', \n",
    "              'Indiana':'Indianapolis',    'Rhode Island':'Providence',\n",
    "              'Iowa':'Des Moines',         'South Carolina':'Columbia',\n",
    "              'Kansas':'Topeka',           'South Dakota':'Pierre',\n",
    "              'Kentucky':'Frankfort',      'Tennessee':'Nashville',\n",
    "              'Louisiana':'Baton Rouge',   'Texas':'Austin',\n",
    "              'Maine':'Agusta',            'Utah':'Salt Lake City',\n",
    "              'Maryland':'Annapolis',      'Vermont':'Montpelier',\n",
    "              'Massachusetts':'Boston',    'Virginia':'Richmond',\n",
    "              'Michigan':'Lansing',        'Washington':'Olympia',\n",
    "              'Minnesota':'Saint Paul',    'West Virginia':'Charleston',\n",
    "              'Mississippi':'Jackson',     'Wisconsin':'Madison',\n",
    "              'Missouri':'Jefferson City', 'Wyoming':'Cheyenne'}\n",
    "    num_items = len(states)\n",
    "    print(num_items)\n",
    "main()"
   ]
  },
  {
   "cell_type": "code",
   "execution_count": null,
   "id": "b61c0240-7740-4f10-aea8-02f9d5e1d394",
   "metadata": {},
   "outputs": [],
   "source": []
  }
 ],
 "metadata": {
  "kernelspec": {
   "display_name": "Python 3 (ipykernel)",
   "language": "python",
   "name": "python3"
  },
  "language_info": {
   "codemirror_mode": {
    "name": "ipython",
    "version": 3
   },
   "file_extension": ".py",
   "mimetype": "text/x-python",
   "name": "python",
   "nbconvert_exporter": "python",
   "pygments_lexer": "ipython3",
   "version": "3.11.7"
  },
  "widgets": {
   "application/vnd.jupyter.widget-state+json": {
    "state": {},
    "version_major": 2,
    "version_minor": 0
   }
  }
 },
 "nbformat": 4,
 "nbformat_minor": 5
}

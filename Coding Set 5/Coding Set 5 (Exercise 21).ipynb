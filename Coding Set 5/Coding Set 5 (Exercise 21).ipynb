{
 "cells": [
  {
   "cell_type": "markdown",
   "id": "d444332d-49e5-476d-a4dd-a4fc09927536",
   "metadata": {},
   "source": [
    "# Exercise 21. Rock, Paper, Scissors Game\n",
    "\n",
    "#### This was a fun challenging program to write. I used most of this chapter's reading to write this, along with ChatGPT. I'll include that chat link as well. Chat was irritating me because I was inputting a number instead of the word for rock, paper, or scissor and my code was only returning 'computer played' messages. Once I figured that out, it was perfect. \n",
    "##### https://chatgpt.com/share/089db586-b997-407b-98f0-dd34f7537b7f"
   ]
  },
  {
   "cell_type": "code",
   "execution_count": null,
   "id": "23067870-31ff-4f92-b6bd-a47fed16293c",
   "metadata": {},
   "outputs": [],
   "source": [
    "#This program will let user play a game of Rock, Paper, Scissors against the computer."
   ]
  },
  {
   "cell_type": "code",
   "execution_count": 26,
   "id": "f77f19f4-bb1b-4ead-8ee8-be57588dc464",
   "metadata": {},
   "outputs": [
    {
     "name": "stdin",
     "output_type": "stream",
     "text": [
      "Enter rock, paper, or scissors:  1\n"
     ]
    },
    {
     "name": "stdout",
     "output_type": "stream",
     "text": [
      "computer played scissors \n",
      "\n"
     ]
    },
    {
     "name": "stdin",
     "output_type": "stream",
     "text": [
      "Enter rock, paper, or scissors:  rock\n"
     ]
    },
    {
     "name": "stdout",
     "output_type": "stream",
     "text": [
      "computer played rock \n",
      "\n",
      "It's a tie!\n",
      "\n"
     ]
    },
    {
     "name": "stdin",
     "output_type": "stream",
     "text": [
      "Enter rock, paper, or scissors:  paper\n"
     ]
    },
    {
     "name": "stdout",
     "output_type": "stream",
     "text": [
      "computer played scissors \n",
      "\n",
      "You lose. Scissors beats Paper. \n",
      "\n"
     ]
    }
   ],
   "source": [
    "import random                                                #Importing random module\n",
    "\n",
    "def main():                                                  #Defining 'main' function/added colon\n",
    "    tie = True                                               #Defining 'tie' value\n",
    "    \n",
    "    while tie:                                               #'while' statement for 'tie' value loop/removed underscore    \n",
    "        number = random.randint(1,3)                         #Get random number between 1-3\n",
    "    \n",
    "        computer = \"\"\n",
    "        if number == 1:\n",
    "            computer = \"rock\"\n",
    "        elif number == 2:                                            #Changed to 'elif' for easier reading\n",
    "            computer = \"paper\"\n",
    "        else:                                                        #added colon, fixed indentation for lines 4-13\n",
    "            computer = \"scissors\"                                    #Lines 7-13, defining each 'if' statment for numbers 1-3\n",
    "\n",
    "        player = input('Enter rock, paper, or scissors: ').lower()   #Defining player value, asking user to input play value\n",
    "        print(\"computer played\", computer, \"\\n\")                     #Message displaying what computer played\n",
    "\n",
    "        if computer == player:                                       #Begin game with computer, if computer and user played same they tie\n",
    "            print(\"It's a tie!\\n\")                                   #changed to elif statements\n",
    "        elif computer == \"rock\" and player == \"paper\":               #User wins\n",
    "            print(\"You win! Paper beats Rock.\", \"\\n\")        \n",
    "            tie = False                                              #If both play same, tie/end loop\n",
    "        elif computer == \"paper\" and player == \"rock\":                #Computer wins\n",
    "            print(\"You lose. Paper beats Rock!\", \"\\n\")\n",
    "            tie = False                                              #If both play same, tie/end loop\n",
    "        elif computer == \"paper\" and player == \"scissors\":            #User wins\n",
    "            print(\"You win! Scissors beats Paper.\", \"\\n\")\n",
    "            tie = False                                              #If both play same, tie/end loop\n",
    "        elif computer == \"scissors\" and player == \"paper\":            #Computer wins\n",
    "            print(\"You lose. Scissors beats Paper.\", \"\\n\")\n",
    "            tie = False                                              #If both play same, tie/end loop\n",
    "        elif computer == \"scissors\" and player == \"rock\":             #User wins\n",
    "            print(\"You win! Rock beats Scissors\", \"\\n\")\n",
    "            tie = False                                              #If both play same, tie/end loop\n",
    "        elif computer == \"rock\" and player == \"scissors\":             #Computer wins\n",
    "            print(\"You lose. Rock beats Scissors.\", \"\\n\")\n",
    "            tie = False\n",
    "main()                                                               #Call main function\n"
   ]
  },
  {
   "cell_type": "code",
   "execution_count": 24,
   "id": "48c6a668-58c2-4775-b8f0-b50d2b10d862",
   "metadata": {},
   "outputs": [
    {
     "name": "stdin",
     "output_type": "stream",
     "text": [
      "Enter rock, paper, or scissors:  scissors\n"
     ]
    },
    {
     "name": "stdout",
     "output_type": "stream",
     "text": [
      "computer played rock \n",
      "\n",
      "You lose. Rock beats Scissors. \n",
      "\n"
     ]
    }
   ],
   "source": [
    "main()"
   ]
  },
  {
   "cell_type": "code",
   "execution_count": 25,
   "id": "6b29a2f1-d099-409f-9897-0998161a4d47",
   "metadata": {},
   "outputs": [
    {
     "name": "stdin",
     "output_type": "stream",
     "text": [
      "Enter rock, paper, or scissors:  paper\n"
     ]
    },
    {
     "name": "stdout",
     "output_type": "stream",
     "text": [
      "computer played rock \n",
      "\n",
      "You win! Paper beats Rock. \n",
      "\n"
     ]
    }
   ],
   "source": [
    "main()"
   ]
  },
  {
   "cell_type": "code",
   "execution_count": null,
   "id": "b0ec4853-0de8-44b7-82c9-956818b45349",
   "metadata": {},
   "outputs": [],
   "source": []
  }
 ],
 "metadata": {
  "kernelspec": {
   "display_name": "Python 3 (ipykernel)",
   "language": "python",
   "name": "python3"
  },
  "language_info": {
   "codemirror_mode": {
    "name": "ipython",
    "version": 3
   },
   "file_extension": ".py",
   "mimetype": "text/x-python",
   "name": "python",
   "nbconvert_exporter": "python",
   "pygments_lexer": "ipython3",
   "version": "3.11.7"
  },
  "widgets": {
   "application/vnd.jupyter.widget-state+json": {
    "state": {},
    "version_major": 2,
    "version_minor": 0
   }
  }
 },
 "nbformat": 4,
 "nbformat_minor": 5
}

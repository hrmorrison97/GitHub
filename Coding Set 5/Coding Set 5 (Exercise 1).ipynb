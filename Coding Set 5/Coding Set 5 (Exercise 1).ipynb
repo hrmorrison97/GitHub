{
 "cells": [
  {
   "cell_type": "markdown",
   "id": "834d8b38-1b54-459c-a70f-2aa908bc47b1",
   "metadata": {},
   "source": [
    "# Exercise 1. Kilometer Converter\n",
    "#### The book uses a cups to ounces conversion example. I used that for my base code and then changed the information from the problem to fit and give the correct conversion for kilometers to miles. I had to add the print function for the first main, and the return function at the end where the book didn't have those. "
   ]
  },
  {
   "cell_type": "code",
   "execution_count": 21,
   "id": "59ad22f1-a667-49e1-a3e5-10067bf7ecda",
   "metadata": {},
   "outputs": [],
   "source": [
    "#This program will ask user to enter a distance in kilometers and convert that into miles. "
   ]
  },
  {
   "cell_type": "code",
   "execution_count": 22,
   "id": "a1c2c912-ac18-4eac-a06c-226a641db7dd",
   "metadata": {},
   "outputs": [
    {
     "name": "stdout",
     "output_type": "stream",
     "text": [
      "This program converts distances\n",
      "in kilometers to miles. For your\n",
      "reference the formula is:\n",
      "1 mile = 1 kilometer * 0.6214\n",
      "\n"
     ]
    },
    {
     "name": "stdin",
     "output_type": "stream",
     "text": [
      "Enter how many kilometers traveled: 7931\n"
     ]
    },
    {
     "name": "stdout",
     "output_type": "stream",
     "text": [
      "That converts to: 4928.323399999999 miles.\n"
     ]
    }
   ],
   "source": [
    "def main():                                                           #defines main function\n",
    "    intro()                                                           #display intro screen\n",
    "    kilometers = int(input('Enter how many kilometers traveled:'))    #ask user for Kilometers traveled\n",
    "    miles = kilometers_to_miles(kilometers)                           #define miles\n",
    "    print(f'That converts to: {miles} miles.')                        #message for miles conversion\n",
    "\n",
    "def intro():                                                          #defines intro messages, adds space before conversion\n",
    "    print('This program converts distances')\n",
    "    print('in kilometers to miles. For your')\n",
    "    print('reference the formula is:')\n",
    "    print('1 mile = 1 kilometer * 0.6214')\n",
    "    print()\n",
    "\n",
    "def kilometers_to_miles(kilometers):                                  #defines kilometers_to_miles function\n",
    "    miles = kilometers * 0.6214                                       #defines miles variable\n",
    "    return miles                                                      #return miles statement for final display of data\n",
    "\n",
    "main()"
   ]
  },
  {
   "cell_type": "code",
   "execution_count": null,
   "id": "92d6f745-0070-4345-b314-c81841b74500",
   "metadata": {},
   "outputs": [],
   "source": []
  }
 ],
 "metadata": {
  "kernelspec": {
   "display_name": "Python 3 (ipykernel)",
   "language": "python",
   "name": "python3"
  },
  "language_info": {
   "codemirror_mode": {
    "name": "ipython",
    "version": 3
   },
   "file_extension": ".py",
   "mimetype": "text/x-python",
   "name": "python",
   "nbconvert_exporter": "python",
   "pygments_lexer": "ipython3",
   "version": "3.11.7"
  },
  "widgets": {
   "application/vnd.jupyter.widget-state+json": {
    "state": {},
    "version_major": 2,
    "version_minor": 0
   }
  }
 },
 "nbformat": 4,
 "nbformat_minor": 5
}

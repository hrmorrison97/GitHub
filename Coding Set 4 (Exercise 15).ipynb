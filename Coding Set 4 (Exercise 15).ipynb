{
 "cells": [
  {
   "cell_type": "markdown",
   "id": "33f66afd-95c8-466e-bf3e-de4d750aec6e",
   "metadata": {},
   "source": [
    "# Exercise 15. Write a program that uses nexted loops to draw this pattern: #"
   ]
  },
  {
   "cell_type": "code",
   "execution_count": 11,
   "id": "d8e13cd8-fa97-4e05-adb1-db6720ff048c",
   "metadata": {},
   "outputs": [],
   "source": [
    "#This program will draw a pattern of # with 6 rows, one straight down and the second moving over by one space. "
   ]
  },
  {
   "cell_type": "code",
   "execution_count": null,
   "id": "c1c94ae2-8662-4c14-ac04-e085321e5f0c",
   "metadata": {},
   "outputs": [],
   "source": [
    "#This program displays a flat sided stair step pattern.\n",
    "#Setting base size.\n",
    "SIZE = 6\n",
    "\n",
    "#Defining output value.\n",
    "output = \"\\n\"\n"
   ]
  }
 ],
 "metadata": {
  "kernelspec": {
   "display_name": "Python 3 (ipykernel)",
   "language": "python",
   "name": "python3"
  },
  "language_info": {
   "codemirror_mode": {
    "name": "ipython",
    "version": 3
   },
   "file_extension": ".py",
   "mimetype": "text/x-python",
   "name": "python",
   "nbconvert_exporter": "python",
   "pygments_lexer": "ipython3",
   "version": "3.11.7"
  },
  "widgets": {
   "application/vnd.jupyter.widget-state+json": {
    "state": {},
    "version_major": 2,
    "version_minor": 0
   }
  }
 },
 "nbformat": 4,
 "nbformat_minor": 5
}

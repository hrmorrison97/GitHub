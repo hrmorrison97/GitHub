{
 "cells": [
  {
   "cell_type": "markdown",
   "id": "1f6a8495-5c1a-4043-83cc-e545ed69ccd2",
   "metadata": {},
   "source": [
    "# Exercise 15. Write a program that uses nexted loops to draw this pattern: \"#\"\n",
    "#### Chapter 4 goes through quite a few examples of how to do these patterns. I had to mesh together two of the examples to get this one to work."
   ]
  },
  {
   "cell_type": "code",
   "execution_count": 11,
   "id": "d8e13cd8-fa97-4e05-adb1-db6720ff048c",
   "metadata": {},
   "outputs": [],
   "source": [
    "#This program will draw a pattern of # with 6 rows, one straight down and the second moving over by one space. "
   ]
  },
  {
   "cell_type": "code",
   "execution_count": 12,
   "id": "c1c94ae2-8662-4c14-ac04-e085321e5f0c",
   "metadata": {},
   "outputs": [
    {
     "name": "stdout",
     "output_type": "stream",
     "text": [
      "\n",
      "##\n",
      "# #\n",
      "#  #\n",
      "#   #\n",
      "#    #\n",
      "#     #\n",
      "\n"
     ]
    }
   ],
   "source": [
    "#This program displays a flat sided stair step pattern.\n",
    "#Setting base size.\n",
    "SIZE = 6\n",
    "\n",
    "#Defining output value.\n",
    "output = \"\\n\"\n",
    "\n",
    "#Setting for loop to run 6 times for rows, and 6 times for columns. \n",
    "for row in range(SIZE):\n",
    "    output += \"#\"\n",
    "\n",
    "    for column in range(row):\n",
    "        output += \" \"\n",
    "\n",
    "    output += \"#\\n\"\n",
    "\n",
    "print(output"
   ]
  },
  {
   "cell_type": "code",
   "execution_count": null,
   "id": "fe33da0e-1198-416e-93a4-2d62c1794a18",
   "metadata": {},
   "outputs": [],
   "source": []
  }
 ],
 "metadata": {
  "kernelspec": {
   "display_name": "Python 3 (ipykernel)",
   "language": "python",
   "name": "python3"
  },
  "language_info": {
   "codemirror_mode": {
    "name": "ipython",
    "version": 3
   },
   "file_extension": ".py",
   "mimetype": "text/x-python",
   "name": "python",
   "nbconvert_exporter": "python",
   "pygments_lexer": "ipython3",
   "version": "3.11.7"
  },
  "widgets": {
   "application/vnd.jupyter.widget-state+json": {
    "state": {},
    "version_major": 2,
    "version_minor": 0
   }
  }
 },
 "nbformat": 4,
 "nbformat_minor": 5
}

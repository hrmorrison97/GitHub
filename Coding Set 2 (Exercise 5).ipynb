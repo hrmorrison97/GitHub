{
 "cells": [
  {
   "cell_type": "code",
   "execution_count": 5,
   "id": "ef69ea30-3ba0-4b1d-8f34-0d4da4f222f3",
   "metadata": {},
   "outputs": [],
   "source": [
    "#Programming Exercise 5 Distance Traveled\n",
    "#This program will show how far a car will travel going 70mph at various times of travel. \n",
    "#Starting with setting my variables."
   ]
  },
  {
   "cell_type": "code",
   "execution_count": 7,
   "id": "7e3d2214-484f-4683-98b8-98f3a0a05964",
   "metadata": {},
   "outputs": [],
   "source": [
    "speed = 70"
   ]
  },
  {
   "cell_type": "code",
   "execution_count": 9,
   "id": "ca3b9f33-ced6-450f-9406-e987e8794c41",
   "metadata": {},
   "outputs": [],
   "source": [
    "time_hours = 6"
   ]
  },
  {
   "cell_type": "code",
   "execution_count": 11,
   "id": "b07eadfa-cb2f-40f8-bc10-b0eace674fe4",
   "metadata": {},
   "outputs": [],
   "source": [
    "Distance_traveled = speed * time_hours"
   ]
  },
  {
   "cell_type": "code",
   "execution_count": 13,
   "id": "ea680e1c-ec39-448c-ae1f-b77f0e752ee5",
   "metadata": {},
   "outputs": [
    {
     "name": "stdout",
     "output_type": "stream",
     "text": [
      "Distance traveled in 6 hours is: 420 miles\n"
     ]
    }
   ],
   "source": [
    "print(\"Distance traveled in 6 hours is:\" ,Distance_traveled, \"miles\")"
   ]
  },
  {
   "cell_type": "code",
   "execution_count": 15,
   "id": "62ddfcc9-e27d-4019-abd4-aa6360d9d3be",
   "metadata": {},
   "outputs": [],
   "source": [
    "#Now I will calculate the next time of travel"
   ]
  },
  {
   "cell_type": "code",
   "execution_count": 17,
   "id": "3aed3b25-46b0-4a6d-9bc3-4f4ea78be565",
   "metadata": {},
   "outputs": [],
   "source": [
    "speed = 70"
   ]
  },
  {
   "cell_type": "code",
   "execution_count": 19,
   "id": "d1ba88c6-6388-402d-8cba-f9249fe6b767",
   "metadata": {},
   "outputs": [],
   "source": [
    "time_hours = 10"
   ]
  },
  {
   "cell_type": "code",
   "execution_count": 21,
   "id": "0e591ed5-8649-4d04-bc55-2aef0412ff11",
   "metadata": {},
   "outputs": [],
   "source": [
    "Distance_traveled = speed * time_hours"
   ]
  },
  {
   "cell_type": "code",
   "execution_count": 23,
   "id": "03e8f4e6-e6a6-4b27-976c-33b5bac4ba61",
   "metadata": {},
   "outputs": [
    {
     "name": "stdout",
     "output_type": "stream",
     "text": [
      "Distance traveled in 10 hours is: 700 miles\n"
     ]
    }
   ],
   "source": [
    "print(\"Distance traveled in 10 hours is:\" ,Distance_traveled, \"miles\")"
   ]
  },
  {
   "cell_type": "code",
   "execution_count": 25,
   "id": "c38c8164-e8b3-4678-b8d9-e0d584e6a279",
   "metadata": {},
   "outputs": [],
   "source": [
    "#and the final time of travel"
   ]
  },
  {
   "cell_type": "code",
   "execution_count": 27,
   "id": "cbefcdea-b014-4e10-9ffb-613993fbaf26",
   "metadata": {},
   "outputs": [],
   "source": [
    "speed = 70"
   ]
  },
  {
   "cell_type": "code",
   "execution_count": 29,
   "id": "5d2b9319-39c1-43a8-96ee-0e0b282c67ce",
   "metadata": {},
   "outputs": [],
   "source": [
    "time_hours = 15"
   ]
  },
  {
   "cell_type": "code",
   "execution_count": 31,
   "id": "dce9318f-807e-43bc-acc8-4a322dd415fa",
   "metadata": {},
   "outputs": [],
   "source": [
    "Distance_traveled = speed * time_hours"
   ]
  },
  {
   "cell_type": "code",
   "execution_count": 33,
   "id": "cceb61a6-67fe-4a53-a5d4-611bf17d4690",
   "metadata": {},
   "outputs": [
    {
     "name": "stdout",
     "output_type": "stream",
     "text": [
      "Distance traveled in 15 hours is: 1050 miles\n"
     ]
    }
   ],
   "source": [
    "print(\"Distance traveled in 15 hours is:\" ,Distance_traveled, \"miles\")"
   ]
  },
  {
   "cell_type": "code",
   "execution_count": null,
   "id": "9f5e535c-7f7b-40c2-bb7c-3ba75cc615e3",
   "metadata": {},
   "outputs": [],
   "source": [
    "#Now you know how far a car can travel going 70mph at different duraitions"
   ]
  }
 ],
 "metadata": {
  "kernelspec": {
   "display_name": "Python 3 (ipykernel)",
   "language": "python",
   "name": "python3"
  },
  "language_info": {
   "codemirror_mode": {
    "name": "ipython",
    "version": 3
   },
   "file_extension": ".py",
   "mimetype": "text/x-python",
   "name": "python",
   "nbconvert_exporter": "python",
   "pygments_lexer": "ipython3",
   "version": "3.11.7"
  }
 },
 "nbformat": 4,
 "nbformat_minor": 5
}

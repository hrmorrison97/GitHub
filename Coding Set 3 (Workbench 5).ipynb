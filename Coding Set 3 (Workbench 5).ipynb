{
 "cells": [
  {
   "cell_type": "markdown",
   "id": "9c7519fa-4fa0-45bb-a783-7ba11aa0e7fc",
   "metadata": {},
   "source": [
    "# Coding Set 3 (Workbench 5. Nested Decision Structures)\n",
    "### Had to go back through my notes and the book to figure this one out. I've always struggled with math of any sort (and I know the computer does all the hard work, but symbols break my brain). I ran this code with some random numbers to be sure it worked and it does. The first time I ran it, I had the wrong characters in places and had to fix that. "
   ]
  },
  {
   "cell_type": "code",
   "execution_count": 4,
   "id": "9fcff882-1bb9-42e0-9712-de9c1ac834ea",
   "metadata": {},
   "outputs": [],
   "source": [
    "#If amount1 is greater than 10 and amount2 is less than 100, display the greater of amount1 and amount2."
   ]
  },
  {
   "cell_type": "code",
   "execution_count": 18,
   "id": "e1ae30d5-6002-4599-b8ba-2cea0ca00f93",
   "metadata": {},
   "outputs": [
    {
     "name": "stdin",
     "output_type": "stream",
     "text": [
      "Enter amount1: 37\n",
      "Enter amount2: 101\n"
     ]
    },
    {
     "name": "stdout",
     "output_type": "stream",
     "text": [
      "Amounts not in valid range\n"
     ]
    }
   ],
   "source": [
    "amount1 = int(input('Enter amount1:'))\n",
    "amount2 = int(input('Enter amount2:'))\n",
    "if amount1 > 10 and amount2 < 100:\n",
    "    if amount1 > amount2:\n",
    "        print('amount1 is greater')\n",
    "    else: amount1 < amount2\n",
    "    print('amount2 is greater')\n",
    "else: \n",
    "    print('Amounts not in valid range')"
   ]
  },
  {
   "cell_type": "code",
   "execution_count": null,
   "id": "e9335f11-20a6-49ce-87ab-8120b811e245",
   "metadata": {},
   "outputs": [],
   "source": []
  }
 ],
 "metadata": {
  "kernelspec": {
   "display_name": "Python 3 (ipykernel)",
   "language": "python",
   "name": "python3"
  },
  "language_info": {
   "codemirror_mode": {
    "name": "ipython",
    "version": 3
   },
   "file_extension": ".py",
   "mimetype": "text/x-python",
   "name": "python",
   "nbconvert_exporter": "python",
   "pygments_lexer": "ipython3",
   "version": "3.11.7"
  }
 },
 "nbformat": 4,
 "nbformat_minor": 5
}

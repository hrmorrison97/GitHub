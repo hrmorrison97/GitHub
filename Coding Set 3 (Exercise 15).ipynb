{
 "cells": [
  {
   "cell_type": "markdown",
   "id": "492f2de2-4e3c-4f4c-9e3f-0d493f72f512",
   "metadata": {},
   "source": [
    "# Coding Set 3 (Exercise 15. Time Calculator)\n",
    "### To do this, I ended up again, using our book for the calculations. I had already done the Wi-Fi exercise and the resteraunt one was too similar of a program for me to be challenged. With the leap day problem, there was a youtube video for it as well and I wanted full brain work for this to try and get better. "
   ]
  },
  {
   "cell_type": "code",
   "execution_count": 6,
   "id": "bffd3d4c-0b96-439c-8183-f42737a709a2",
   "metadata": {},
   "outputs": [],
   "source": [
    "#This program will convert users input of seconds into seconds, minutes, hours, and days. "
   ]
  },
  {
   "cell_type": "code",
   "execution_count": 8,
   "id": "6ea63b63-7e75-4fa1-908b-ad77554b69d3",
   "metadata": {},
   "outputs": [],
   "source": [
    "#Starting with asking user to input their seconds.\n",
    "#Minute = 60 Seconds\n",
    "#Hour = 3600 Seconds\n",
    "#Day = 86400 Seconds"
   ]
  },
  {
   "cell_type": "code",
   "execution_count": 41,
   "id": "8ca9791a-20a3-4b24-bf80-761f964830c1",
   "metadata": {},
   "outputs": [
    {
     "name": "stdin",
     "output_type": "stream",
     "text": [
      "Enter number of seconds: 97315\n"
     ]
    },
    {
     "name": "stdout",
     "output_type": "stream",
     "text": [
      "Days = 1, Hours = 3, Minutes = 1, Seconds = 55 \n"
     ]
    }
   ],
   "source": [
    "#Starting with our value constant which I made 'time_in_seconds'\n",
    "time_in_seconds = int(input('Enter number of seconds:'))\n",
    "message = ''\n",
    "\n",
    "#This is to error the program if number entered is less than 0\n",
    "if time_in_seconds < 0:\n",
    "    message = \"Enter a number above 0\" \\\n",
    "              \"Rerun program to retry.\"\n",
    "    \n",
    "#First else is if the time given is less than 60 or more than 0\n",
    "else:\n",
    "    if time_in_seconds >= 0 and time_in_seconds < 60: \n",
    "        seconds = format(time_in_seconds % 60)\n",
    "        message = \"Seconds = \" + seconds\n",
    "        \n",
    "#This is for time given more than 60 or less than 3600\n",
    "    elif time_in_seconds >= 60 and time_in_seconds < 3600:\n",
    "        minutes = format(time_in_seconds // 60)\n",
    "        seconds = format(time_in_seconds % 60)\n",
    "        message = \"Minutes = \" + minutes + \", \" \\\n",
    "                  \"Seconds = \" + seconds\n",
    "        \n",
    "#Time given more than 3600 less than 86400 \n",
    "    elif time_in_seconds >= 3600 and time_in_seconds <86400:\n",
    "        hours = format(time_in_seconds // 3600)\n",
    "        minutes = format((time_in_seconds % 3600) // 60)\n",
    "        seconds = format((time_in_seconds % 3600) % 60)\n",
    "        message = \"Hours = \" + hours + \", \" + \\\n",
    "                  \"Minutes = \" + minutes + \", \" \\\n",
    "                  \"Seconds = \" + seconds + \" \"\n",
    "\n",
    "#Time given greater than 86400 to be put into days, hours, minutes, and seconds for result. \n",
    "    elif time_in_seconds >= 86400:\n",
    "        days = format(time_in_seconds // 86400)\n",
    "        hours = format((time_in_seconds % 86400) // 3600)\n",
    "        minutes = format(((time_in_seconds % 86400) % 3600) // 60)\n",
    "        seconds = format(((time_in_seconds % 86400) % 3600) % 60) \n",
    "        message = \"Days = \" + days + \", \" + \\\n",
    "                  \"Hours = \" + hours + \", \" + \\\n",
    "                  \"Minutes = \" + minutes + \", \" + \\\n",
    "                  \"Seconds = \" + seconds + \" \"\n",
    "\n",
    "#I kept my 'message' simple for ease of reading to the user. \n",
    "print(message)"
   ]
  }
 ],
 "metadata": {
  "kernelspec": {
   "display_name": "Python 3 (ipykernel)",
   "language": "python",
   "name": "python3"
  },
  "language_info": {
   "codemirror_mode": {
    "name": "ipython",
    "version": 3
   },
   "file_extension": ".py",
   "mimetype": "text/x-python",
   "name": "python",
   "nbconvert_exporter": "python",
   "pygments_lexer": "ipython3",
   "version": "3.11.7"
  },
  "widgets": {
   "application/vnd.jupyter.widget-state+json": {
    "state": {},
    "version_major": 2,
    "version_minor": 0
   }
  }
 },
 "nbformat": 4,
 "nbformat_minor": 5
}

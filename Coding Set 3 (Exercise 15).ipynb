{
 "cells": [
  {
   "cell_type": "markdown",
   "id": "492f2de2-4e3c-4f4c-9e3f-0d493f72f512",
   "metadata": {},
   "source": [
    "# Coding Set 3 (Exercise 15. Leap year)"
   ]
  },
  {
   "cell_type": "code",
   "execution_count": 4,
   "id": "bffd3d4c-0b96-439c-8183-f42737a709a2",
   "metadata": {},
   "outputs": [
    {
     "name": "stdout",
     "output_type": "stream",
     "text": [
      "hello world i'm struggling with simple computer stuff today\n"
     ]
    }
   ],
   "source": [
    "print(f\"hello world i'm struggling with simple computer stuff today\")"
   ]
  },
  {
   "cell_type": "code",
   "execution_count": null,
   "id": "6ea63b63-7e75-4fa1-908b-ad77554b69d3",
   "metadata": {},
   "outputs": [],
   "source": []
  }
 ],
 "metadata": {
  "kernelspec": {
   "display_name": "Python 3 (ipykernel)",
   "language": "python",
   "name": "python3"
  },
  "language_info": {
   "codemirror_mode": {
    "name": "ipython",
    "version": 3
   },
   "file_extension": ".py",
   "mimetype": "text/x-python",
   "name": "python",
   "nbconvert_exporter": "python",
   "pygments_lexer": "ipython3",
   "version": "3.11.7"
  },
  "widgets": {
   "application/vnd.jupyter.widget-state+json": {
    "state": {},
    "version_major": 2,
    "version_minor": 0
   }
  }
 },
 "nbformat": 4,
 "nbformat_minor": 5
}

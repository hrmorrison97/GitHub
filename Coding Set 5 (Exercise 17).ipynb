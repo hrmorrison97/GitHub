{
 "cells": [
  {
   "cell_type": "markdown",
   "id": "a2e60ad7-c3ab-456b-884f-487a38eab970",
   "metadata": {},
   "source": [
    "# Exercise 17. Prime Numbers"
   ]
  },
  {
   "cell_type": "code",
   "execution_count": 4,
   "id": "f0573333-3f12-46dd-bc72-d194c1710c51",
   "metadata": {},
   "outputs": [],
   "source": [
    "#This program will prompt the user to enter a number and display a message whether it's prime or not. "
   ]
  },
  {
   "cell_type": "code",
   "execution_count": 5,
   "id": "45f9e630-7c8e-4410-b876-01d76bafe41e",
   "metadata": {},
   "outputs": [
    {
     "ename": "SyntaxError",
     "evalue": "expected ':' (1019572484.py, line 2)",
     "output_type": "error",
     "traceback": [
      "\u001b[0;36m  Cell \u001b[0;32mIn[5], line 2\u001b[0;36m\u001b[0m\n\u001b[0;31m    def is_prime()\u001b[0m\n\u001b[0m                  ^\u001b[0m\n\u001b[0;31mSyntaxError\u001b[0m\u001b[0;31m:\u001b[0m expected ':'\n"
     ]
    }
   ],
   "source": [
    "#Testing def\n",
    "def is_prime()\n",
    "    pass"
   ]
  },
  {
   "cell_type": "code",
   "execution_count": null,
   "id": "ac13f92e-f183-4f0a-a496-fe05739ef5e7",
   "metadata": {},
   "outputs": [],
   "source": []
  }
 ],
 "metadata": {
  "kernelspec": {
   "display_name": "Python 3 (ipykernel)",
   "language": "python",
   "name": "python3"
  },
  "language_info": {
   "codemirror_mode": {
    "name": "ipython",
    "version": 3
   },
   "file_extension": ".py",
   "mimetype": "text/x-python",
   "name": "python",
   "nbconvert_exporter": "python",
   "pygments_lexer": "ipython3",
   "version": "3.11.7"
  },
  "widgets": {
   "application/vnd.jupyter.widget-state+json": {
    "state": {},
    "version_major": 2,
    "version_minor": 0
   }
  }
 },
 "nbformat": 4,
 "nbformat_minor": 5
}

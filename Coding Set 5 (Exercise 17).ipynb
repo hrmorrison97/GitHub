{
 "cells": [
  {
   "cell_type": "markdown",
   "id": "a2e60ad7-c3ab-456b-884f-487a38eab970",
   "metadata": {},
   "source": [
    "# Exercise 17. Prime Numbers"
   ]
  },
  {
   "cell_type": "code",
   "execution_count": 4,
   "id": "f0573333-3f12-46dd-bc72-d194c1710c51",
   "metadata": {},
   "outputs": [],
   "source": [
    "#This program will prompt the user to enter a number and display a message whether it's prime or not. "
   ]
  },
  {
   "cell_type": "code",
   "execution_count": 6,
   "id": "45f9e630-7c8e-4410-b876-01d76bafe41e",
   "metadata": {},
   "outputs": [],
   "source": [
    "#Testing def\n",
    "def is_prime(num):\n",
    "    pass"
   ]
  },
  {
   "cell_type": "code",
   "execution_count": 19,
   "id": "ac13f92e-f183-4f0a-a496-fe05739ef5e7",
   "metadata": {},
   "outputs": [],
   "source": [
    "import math                                           #Importing math functions from module\n",
    "\n",
    "def is_prime(num):                                    #Defining function\n",
    "    for i in range(2, math.floor(math.sqrt(num))):    #Didn't have colon for range statement/added math function\n",
    "        if num % i == 0:                              #Creating 'if' statement\n",
    "            return False                              #Displaying error message for non-prime numbers\n",
    "    return True"
   ]
  },
  {
   "cell_type": "code",
   "execution_count": 14,
   "id": "ce930abf-7b14-4312-8ef7-47cb9882c555",
   "metadata": {},
   "outputs": [
    {
     "data": {
      "text/plain": [
       "False"
      ]
     },
     "execution_count": 14,
     "metadata": {},
     "output_type": "execute_result"
    }
   ],
   "source": [
    "#Asking user for number to identify prime or not\n",
    "is_prime(9)"
   ]
  },
  {
   "cell_type": "code",
   "execution_count": 20,
   "id": "66e43557-bee6-4a7a-9670-fdbc601fcd0a",
   "metadata": {},
   "outputs": [
    {
     "ename": "TypeError",
     "evalue": "'float' object cannot be interpreted as an integer",
     "output_type": "error",
     "traceback": [
      "\u001b[0;31m---------------------------------------------------------------------------\u001b[0m",
      "\u001b[0;31mTypeError\u001b[0m                                 Traceback (most recent call last)",
      "Cell \u001b[0;32mIn[20], line 1\u001b[0m\n\u001b[0;32m----> 1\u001b[0m is_prime(\u001b[38;5;241m5\u001b[39m)\n",
      "Cell \u001b[0;32mIn[19], line 4\u001b[0m, in \u001b[0;36mis_prime\u001b[0;34m(num)\u001b[0m\n\u001b[1;32m      3\u001b[0m \u001b[38;5;28;01mdef\u001b[39;00m \u001b[38;5;21mis_prime\u001b[39m(num):                        \u001b[38;5;66;03m#Defining function\u001b[39;00m\n\u001b[0;32m----> 4\u001b[0m     \u001b[38;5;28;01mfor\u001b[39;00m i \u001b[38;5;129;01min\u001b[39;00m \u001b[38;5;28mrange\u001b[39m(\u001b[38;5;241m2\u001b[39m, math\u001b[38;5;241m.\u001b[39msqrt(num)):               \u001b[38;5;66;03m#Didn't have colon for range statemnt\u001b[39;00m\n\u001b[1;32m      5\u001b[0m         \u001b[38;5;28;01mif\u001b[39;00m num \u001b[38;5;241m%\u001b[39m i \u001b[38;5;241m==\u001b[39m \u001b[38;5;241m0\u001b[39m:                  \u001b[38;5;66;03m#Creating 'if' statement\u001b[39;00m\n\u001b[1;32m      6\u001b[0m             \u001b[38;5;28;01mreturn\u001b[39;00m \u001b[38;5;28;01mFalse\u001b[39;00m                  \u001b[38;5;66;03m#Displaying error message for non-prime numbers\u001b[39;00m\n",
      "\u001b[0;31mTypeError\u001b[0m: 'float' object cannot be interpreted as an integer"
     ]
    }
   ],
   "source": [
    "is_prime(5)"
   ]
  },
  {
   "cell_type": "code",
   "execution_count": null,
   "id": "82abd694-01cc-40b8-b7d8-fa9e33a8a83f",
   "metadata": {},
   "outputs": [],
   "source": []
  }
 ],
 "metadata": {
  "kernelspec": {
   "display_name": "Python 3 (ipykernel)",
   "language": "python",
   "name": "python3"
  },
  "language_info": {
   "codemirror_mode": {
    "name": "ipython",
    "version": 3
   },
   "file_extension": ".py",
   "mimetype": "text/x-python",
   "name": "python",
   "nbconvert_exporter": "python",
   "pygments_lexer": "ipython3",
   "version": "3.11.7"
  },
  "widgets": {
   "application/vnd.jupyter.widget-state+json": {
    "state": {},
    "version_major": 2,
    "version_minor": 0
   }
  }
 },
 "nbformat": 4,
 "nbformat_minor": 5
}

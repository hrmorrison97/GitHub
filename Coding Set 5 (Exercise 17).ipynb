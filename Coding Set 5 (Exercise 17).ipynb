{
 "cells": [
  {
   "cell_type": "markdown",
   "id": "a2e60ad7-c3ab-456b-884f-487a38eab970",
   "metadata": {},
   "source": [
    "# Exercise 17. Prime Numbers"
   ]
  },
  {
   "cell_type": "code",
   "execution_count": 4,
   "id": "f0573333-3f12-46dd-bc72-d194c1710c51",
   "metadata": {},
   "outputs": [],
   "source": [
    "#This program will prompt the user to enter a number and display a message whether it's prime or not. "
   ]
  },
  {
   "cell_type": "code",
   "execution_count": 6,
   "id": "45f9e630-7c8e-4410-b876-01d76bafe41e",
   "metadata": {},
   "outputs": [],
   "source": [
    "#Testing def\n",
    "def is_prime(num):\n",
    "    pass"
   ]
  },
  {
   "cell_type": "code",
   "execution_count": 42,
   "id": "ac13f92e-f183-4f0a-a496-fe05739ef5e7",
   "metadata": {},
   "outputs": [],
   "source": [
    "import math                                                                   #Importing math functions from module\n",
    "\n",
    "def main():\n",
    "    num = int(input(\"Please enter an integer to test for prime: \"))           #Asking user to enter integer for prime number test/added int\n",
    "\n",
    "    if is_prime(num):\n",
    "        print(\"Hooray, you found a prime number!\")                            #If statement for message with prime number\n",
    "    else:\n",
    "        print(\"Gross, that's just a normal number. Better luck next time.\")   #Else statement for message without prime number\n",
    "    \n",
    "def is_prime(num):                                                            #Defining function\n",
    "    for i in range(2, math.floor(math.sqrt(num)) + 1):                        #Didn't have colon for range statement/added math function\n",
    "        if num % i == 0:                                                      #Creating 'if' statement\n",
    "            return False                                                      #Displaying error message for non-prime numbers\n",
    "    return True"
   ]
  },
  {
   "cell_type": "code",
   "execution_count": 43,
   "id": "d0eeb79d-910e-4f12-aee7-3a2451422a28",
   "metadata": {},
   "outputs": [
    {
     "name": "stdin",
     "output_type": "stream",
     "text": [
      "Please enter an integer to test for prime:  4\n"
     ]
    },
    {
     "name": "stdout",
     "output_type": "stream",
     "text": [
      "Gross, that's just a normal number. Better luck next time.\n"
     ]
    }
   ],
   "source": [
    "#Testing main function\n",
    "main()"
   ]
  },
  {
   "cell_type": "code",
   "execution_count": 25,
   "id": "ce930abf-7b14-4312-8ef7-47cb9882c555",
   "metadata": {},
   "outputs": [
    {
     "data": {
      "text/plain": [
       "True"
      ]
     },
     "execution_count": 25,
     "metadata": {},
     "output_type": "execute_result"
    }
   ],
   "source": [
    "#Asking user for number to identify prime or not\n",
    "is_prime(7)"
   ]
  },
  {
   "cell_type": "code",
   "execution_count": 26,
   "id": "66e43557-bee6-4a7a-9670-fdbc601fcd0a",
   "metadata": {},
   "outputs": [
    {
     "data": {
      "text/plain": [
       "False"
      ]
     },
     "execution_count": 26,
     "metadata": {},
     "output_type": "execute_result"
    }
   ],
   "source": [
    "is_prime(4)"
   ]
  },
  {
   "cell_type": "code",
   "execution_count": 44,
   "id": "33170356-7b34-4e2d-a2ee-38130df59b4f",
   "metadata": {},
   "outputs": [
    {
     "name": "stdin",
     "output_type": "stream",
     "text": [
      "Please enter an integer to test for prime:  66\n"
     ]
    },
    {
     "name": "stdout",
     "output_type": "stream",
     "text": [
      "Gross, that's just a normal number. Better luck next time.\n"
     ]
    }
   ],
   "source": [
    "main()"
   ]
  },
  {
   "cell_type": "code",
   "execution_count": 45,
   "id": "378f24f7-a955-49e6-893c-b8109c138390",
   "metadata": {},
   "outputs": [
    {
     "name": "stdin",
     "output_type": "stream",
     "text": [
      "Please enter an integer to test for prime:  144\n"
     ]
    },
    {
     "name": "stdout",
     "output_type": "stream",
     "text": [
      "Gross, that's just a normal number. Better luck next time.\n"
     ]
    }
   ],
   "source": [
    "main()"
   ]
  },
  {
   "cell_type": "code",
   "execution_count": 46,
   "id": "b89bfe77-56e9-4fd5-8fc0-ae4382955f9c",
   "metadata": {},
   "outputs": [
    {
     "name": "stdin",
     "output_type": "stream",
     "text": [
      "Please enter an integer to test for prime:  3\n"
     ]
    },
    {
     "name": "stdout",
     "output_type": "stream",
     "text": [
      "Hooray, you found a prime number!\n"
     ]
    }
   ],
   "source": [
    "main()"
   ]
  },
  {
   "cell_type": "code",
   "execution_count": null,
   "id": "b3f12bf2-f006-441f-b122-a869a717ae2e",
   "metadata": {},
   "outputs": [],
   "source": []
  }
 ],
 "metadata": {
  "kernelspec": {
   "display_name": "Python 3 (ipykernel)",
   "language": "python",
   "name": "python3"
  },
  "language_info": {
   "codemirror_mode": {
    "name": "ipython",
    "version": 3
   },
   "file_extension": ".py",
   "mimetype": "text/x-python",
   "name": "python",
   "nbconvert_exporter": "python",
   "pygments_lexer": "ipython3",
   "version": "3.11.7"
  },
  "widgets": {
   "application/vnd.jupyter.widget-state+json": {
    "state": {},
    "version_major": 2,
    "version_minor": 0
   }
  }
 },
 "nbformat": 4,
 "nbformat_minor": 5
}

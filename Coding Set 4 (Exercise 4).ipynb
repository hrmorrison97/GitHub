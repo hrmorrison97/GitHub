{
 "cells": [
  {
   "cell_type": "markdown",
   "id": "ec2d2f39-8c0b-4062-b251-bff1b24c391f",
   "metadata": {},
   "source": [
    "# Exercise 4. Distance Traveled\n",
    "#### Using our previous chapters teachings, I figured out the first two parts of this problem. For the second half I used example 4-11 for the list of number and their squares. "
   ]
  },
  {
   "cell_type": "code",
   "execution_count": 1,
   "id": "f00cc4b0-561c-4092-b9eb-020cc6f7a262",
   "metadata": {},
   "outputs": [],
   "source": [
    "#This program will display the distance a vehicle has traveled at a speed for each hour user inputs."
   ]
  },
  {
   "cell_type": "code",
   "execution_count": null,
   "id": "89c0ee33-23ff-4400-b232-e154c18c067b",
   "metadata": {},
   "outputs": [],
   "source": [
    "#Define variables\n",
    "distance = 0\n",
    "speed = 0\n",
    "time = 0\n",
    "\n",
    "#Input speed of vehicle (mph) and hours traveled.\n",
    "speed = float(input('Enter speed of vehicle in MPH: '))\n",
    "time = int(float(input('Enter the number of hours traveled: ')))"
   ]
  }
 ],
 "metadata": {
  "kernelspec": {
   "display_name": "Python 3 (ipykernel)",
   "language": "python",
   "name": "python3"
  },
  "language_info": {
   "codemirror_mode": {
    "name": "ipython",
    "version": 3
   },
   "file_extension": ".py",
   "mimetype": "text/x-python",
   "name": "python",
   "nbconvert_exporter": "python",
   "pygments_lexer": "ipython3",
   "version": "3.11.7"
  },
  "widgets": {
   "application/vnd.jupyter.widget-state+json": {
    "state": {},
    "version_major": 2,
    "version_minor": 0
   }
  }
 },
 "nbformat": 4,
 "nbformat_minor": 5
}

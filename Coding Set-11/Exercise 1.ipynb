{
 "cells": [
  {
   "cell_type": "markdown",
   "id": "46ebe043-08f8-465b-b303-172e6db8709a",
   "metadata": {},
   "source": [
    "# Exercise 1. Employee and Production Worker Classes"
   ]
  },
  {
   "cell_type": "code",
   "execution_count": 1,
   "id": "994d73bf-2b7e-4153-9402-b478c987ecd5",
   "metadata": {},
   "outputs": [],
   "source": [
    "#This program will have two classes and create an object for user to enter data for. "
   ]
  },
  {
   "cell_type": "code",
   "execution_count": null,
   "id": "ff7c9277-ffa6-45fe-aacf-347d35f7153a",
   "metadata": {},
   "outputs": [],
   "source": []
  }
 ],
 "metadata": {
  "kernelspec": {
   "display_name": "Python 3 (ipykernel)",
   "language": "python",
   "name": "python3"
  },
  "language_info": {
   "codemirror_mode": {
    "name": "ipython",
    "version": 3
   },
   "file_extension": ".py",
   "mimetype": "text/x-python",
   "name": "python",
   "nbconvert_exporter": "python",
   "pygments_lexer": "ipython3",
   "version": "3.11.7"
  },
  "widgets": {
   "application/vnd.jupyter.widget-state+json": {
    "state": {},
    "version_major": 2,
    "version_minor": 0
   }
  }
 },
 "nbformat": 4,
 "nbformat_minor": 5
}

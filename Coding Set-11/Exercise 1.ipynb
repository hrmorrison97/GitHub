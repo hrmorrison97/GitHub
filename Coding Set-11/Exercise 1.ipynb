{
 "cells": [
  {
   "cell_type": "markdown",
   "id": "46ebe043-08f8-465b-b303-172e6db8709a",
   "metadata": {},
   "source": [
    "# Exercise 1. Employee and Production Worker Classes"
   ]
  },
  {
   "cell_type": "code",
   "execution_count": 2,
   "id": "994d73bf-2b7e-4153-9402-b478c987ecd5",
   "metadata": {},
   "outputs": [],
   "source": [
    "#This program will have two classes and create an object for user to enter data for. "
   ]
  },
  {
   "cell_type": "code",
   "execution_count": 6,
   "id": "ccfa7b84-264b-4082-8289-3a2a7c844253",
   "metadata": {},
   "outputs": [],
   "source": [
    "#Employee and ProductionWorker classes\n",
    "#__init__ method initializes data attributes for employee name & number\n",
    "\n",
    "class Employee:\n",
    "    def __init__ (self, emp_name, emp_num):\n",
    "        self.__employee_name = emp_name\n",
    "        self.__employee_number = emp_num\n",
    "\n",
    "#mutator methods for class data attributes\n",
    "\n",
    "    def set_employee_name(self, emp_name):\n",
    "        self.__employee_name = emp_name\n",
    "\n",
    "    def set_employee_number(self, emp_num):\n",
    "        self.__employee_number = emp_num\n",
    "\n",
    "#accessor methods for class data attributes\n",
    "\n",
    "    def get_employee_name(self):\n",
    "        return self.__employee_name\n",
    "\n",
    "    def get_employee_number(self):\n",
    "        return self.__employee_number\n",
    "\n",
    "#ProductionWorker class is subclass of Employee(superclass)\n",
    "\n",
    "class ProductionWorker(Employee):\n",
    "\n",
    "#__init__ method initializes superclass' __init__ method\n",
    "\n",
    "    def __init__ (self, emp_name, emp_num, shift_num, pay_rate):\n",
    "        Employee.__init__(self, emp_name, emp_num)\n",
    "\n",
    "#initialize new attributes\n",
    "\n",
    "        self.__shift_number = shift_num\n",
    "        self.__pay_rate = pay_rate\n",
    "\n",
    "#mutator methods for data attributes\n",
    "\n",
    "    def set_shift_number(self, shift_num):\n",
    "        self.__shift_number = shift_num\n",
    "\n",
    "    def set_pay_rate(self, pay_rate):\n",
    "        self.__pay_rate = pay_rate\n",
    "\n",
    "#accessor methods\n",
    "\n",
    "    def get_shift_number(self):\n",
    "        if self.__shift_number == 1:\n",
    "            return 'Day'\n",
    "        if self.__shift_number == 2:\n",
    "            return 'Night'\n",
    "\n",
    "    def get_pay_rate(self):\n",
    "        return self.__pay_rate\n",
    "\n",
    "#get data from user (define main)\n",
    "\n",
    "def main():\n",
    "    print('Please enter the following data.')\n",
    "\n",
    "    emp_name = input('Employee Name: ')\n",
    "    emp_num = int(input('Employee Number: '))\n",
    "    shift_num = int(input('Shift Number (1 for day 2 for night): '))\n",
    "    pay_rate = float(input('Enter hourly pay rate: '))\n",
    "    print()\n",
    "\n",
    "#create ProductionWorker object\n",
    "\n",
    "    employee = ProductionWorker(emp_name, emp_num, shift_num, pay_rate)\n",
    "\n",
    "#display data\n",
    "\n",
    "    print('Here is the data you entered.')\n",
    "    print('-----------------------------')\n",
    "    print('Name: ', employee.get_employee_name())\n",
    "    print('Employee Number: ', employee.get_employee_number())\n",
    "    print('Shift time: ', employee.get_shift_number())\n",
    "    print('Hourly pay rate: $ ', format(employee.get_pay_rate(), \",.2f\"), sep=\"\")\n",
    "\n",
    "#call main \n",
    "pass"
   ]
  },
  {
   "cell_type": "code",
   "execution_count": null,
   "id": "92a4c41b-32a8-4faa-ae9f-8a6b3e3a0848",
   "metadata": {},
   "outputs": [],
   "source": []
  }
 ],
 "metadata": {
  "kernelspec": {
   "display_name": "Python 3 (ipykernel)",
   "language": "python",
   "name": "python3"
  },
  "language_info": {
   "codemirror_mode": {
    "name": "ipython",
    "version": 3
   },
   "file_extension": ".py",
   "mimetype": "text/x-python",
   "name": "python",
   "nbconvert_exporter": "python",
   "pygments_lexer": "ipython3",
   "version": "3.11.7"
  },
  "widgets": {
   "application/vnd.jupyter.widget-state+json": {
    "state": {},
    "version_major": 2,
    "version_minor": 0
   }
  }
 },
 "nbformat": 4,
 "nbformat_minor": 5
}

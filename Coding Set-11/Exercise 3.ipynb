{
 "cells": [
  {
   "cell_type": "markdown",
   "id": "85623be6-3b31-4e31-b8b1-373fb73c519c",
   "metadata": {},
   "source": [
    "# Exercise 3. Person and Customer Classes"
   ]
  },
  {
   "cell_type": "code",
   "execution_count": 1,
   "id": "8a55574a-8343-4601-b6e3-97c5c3b93445",
   "metadata": {},
   "outputs": [],
   "source": [
    "#This program will have two classes, Person and Customer, with data atttrubutes and a mailing list attribute. "
   ]
  },
  {
   "cell_type": "code",
   "execution_count": null,
   "id": "149c53cb-742d-46ab-b388-ddcb3ffe5036",
   "metadata": {},
   "outputs": [],
   "source": []
  }
 ],
 "metadata": {
  "kernelspec": {
   "display_name": "Python 3 (ipykernel)",
   "language": "python",
   "name": "python3"
  },
  "language_info": {
   "codemirror_mode": {
    "name": "ipython",
    "version": 3
   },
   "file_extension": ".py",
   "mimetype": "text/x-python",
   "name": "python",
   "nbconvert_exporter": "python",
   "pygments_lexer": "ipython3",
   "version": "3.11.7"
  },
  "widgets": {
   "application/vnd.jupyter.widget-state+json": {
    "state": {},
    "version_major": 2,
    "version_minor": 0
   }
  }
 },
 "nbformat": 4,
 "nbformat_minor": 5
}

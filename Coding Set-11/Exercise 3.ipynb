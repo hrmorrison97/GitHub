{
 "cells": [
  {
   "cell_type": "markdown",
   "id": "85623be6-3b31-4e31-b8b1-373fb73c519c",
   "metadata": {},
   "source": [
    "# Exercise 3. Person and Customer Classes"
   ]
  },
  {
   "cell_type": "code",
   "execution_count": 8,
   "id": "8a55574a-8343-4601-b6e3-97c5c3b93445",
   "metadata": {},
   "outputs": [],
   "source": [
    "#This program will have two classes, Person and Customer, with data atttrubutes and a mailing list attribute. "
   ]
  },
  {
   "cell_type": "code",
   "execution_count": 9,
   "id": "4ef44fcb-532f-4466-ab84-1d09ab88c0c6",
   "metadata": {},
   "outputs": [],
   "source": [
    "#Person and Customer Classes\n",
    "\n",
    "class Person:\n",
    "    def __init__(self, name, address, phone_num):\n",
    "        self.__name = name\n",
    "        self.__address = address\n",
    "        self.__phone_num = phone_num\n",
    "\n",
    "#set accessor methods\n",
    "\n",
    "    def get_name(self):\n",
    "        return self.__name\n",
    "\n",
    "    def get_address(self):\n",
    "        return self.__address\n",
    "\n",
    "    def get_phone_num(self):\n",
    "        return self.__phone_num\n",
    "\n",
    "pass"
   ]
  }
 ],
 "metadata": {
  "kernelspec": {
   "display_name": "Python 3 (ipykernel)",
   "language": "python",
   "name": "python3"
  },
  "language_info": {
   "codemirror_mode": {
    "name": "ipython",
    "version": 3
   },
   "file_extension": ".py",
   "mimetype": "text/x-python",
   "name": "python",
   "nbconvert_exporter": "python",
   "pygments_lexer": "ipython3",
   "version": "3.11.7"
  },
  "widgets": {
   "application/vnd.jupyter.widget-state+json": {
    "state": {},
    "version_major": 2,
    "version_minor": 0
   }
  }
 },
 "nbformat": 4,
 "nbformat_minor": 5
}

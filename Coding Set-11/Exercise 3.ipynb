{
 "cells": [
  {
   "cell_type": "markdown",
   "id": "85623be6-3b31-4e31-b8b1-373fb73c519c",
   "metadata": {},
   "source": [
    "# Exercise 3. Person and Customer Classes"
   ]
  },
  {
   "cell_type": "code",
   "execution_count": 8,
   "id": "8a55574a-8343-4601-b6e3-97c5c3b93445",
   "metadata": {},
   "outputs": [],
   "source": [
    "#This program will have two classes, Person and Customer, with data atttrubutes and a mailing list attribute. "
   ]
  },
  {
   "cell_type": "code",
   "execution_count": 11,
   "id": "4ef44fcb-532f-4466-ab84-1d09ab88c0c6",
   "metadata": {},
   "outputs": [],
   "source": [
    "#Person and Customer Classes\n",
    "\n",
    "class Person:\n",
    "    def __init__(self, name, address, phone_num):\n",
    "        self.__name = name\n",
    "        self.__address = address\n",
    "        self.__phone_num = phone_num\n",
    "\n",
    "#set accessor methods\n",
    "\n",
    "    def get_name(self):\n",
    "        return self.__name\n",
    "\n",
    "    def get_address(self):\n",
    "        return self.__address\n",
    "\n",
    "    def get_phone_num(self):\n",
    "        return self.__phone_num\n",
    "\n",
    "#customer is subclass of person(superclass)\n",
    "\n",
    "class Customer(Person):\n",
    "    def __init__(self, name, address, phone_num, cust_num, mail_list):\n",
    "\n",
    "#pass superclass' __init__ method\n",
    "\n",
    "        Person.__init__(self, name, address, phone_num)\n",
    "\n",
    "#initilize the data attributs of subclass\n",
    "\n",
    "        self.__cust_num = cust_num\n",
    "        self.__mail_list = mail_list\n",
    "\n",
    "#set accessor methods\n",
    "\n",
    "    def get_cust_num(self):\n",
    "        return self.__cust_num\n",
    "\n",
    "    def get_mail_list(self):\n",
    "        if self.__mail_list == 1:\n",
    "            status = True\n",
    "            return \"Yes\"\n",
    "        else:\n",
    "            status = False\n",
    "            return \"No\"\n",
    "\n",
    "#get data from user (define main function)\n",
    "\n",
    "    def main():\n",
    "        print('Please enter the following data.')\n",
    "        name = input('Name:')\n",
    "        address = input('Address:')\n",
    "        phone_num = input('Phone Number:')\n",
    "        cust_num = int(input('Customer Number:'))\n",
    "        mail_list = int(input('Would you like to be on our mailing list? (0 = no 1 = yes):'))\n",
    "\n",
    "#create object with these data attributes\n",
    "\n",
    "        customer = Customer(name, address, phone_num, cust_num, mail_list)\n",
    "\n",
    "#display the data\n",
    "\n",
    "        print()\n",
    "        print('Here is the data you entered.')\n",
    "        print('-----------------------------')\n",
    "        print('Name:', customer.get_name())\n",
    "        print('Address:', customer.get_address())\n",
    "        print('Phone Number:', customer.get_phone_num())\n",
    "        print('Customer Number:', customer.get_cust_num())\n",
    "        print('Mailing List:', cusomter.get_mail_list())\n",
    "\n",
    "#call main\n",
    "pass"
   ]
  },
  {
   "cell_type": "code",
   "execution_count": null,
   "id": "b4ac4551-a373-485a-a3c6-3811bacdbe5e",
   "metadata": {},
   "outputs": [],
   "source": []
  }
 ],
 "metadata": {
  "kernelspec": {
   "display_name": "Python 3 (ipykernel)",
   "language": "python",
   "name": "python3"
  },
  "language_info": {
   "codemirror_mode": {
    "name": "ipython",
    "version": 3
   },
   "file_extension": ".py",
   "mimetype": "text/x-python",
   "name": "python",
   "nbconvert_exporter": "python",
   "pygments_lexer": "ipython3",
   "version": "3.11.7"
  },
  "widgets": {
   "application/vnd.jupyter.widget-state+json": {
    "state": {},
    "version_major": 2,
    "version_minor": 0
   }
  }
 },
 "nbformat": 4,
 "nbformat_minor": 5
}

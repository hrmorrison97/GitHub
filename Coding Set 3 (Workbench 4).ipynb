{
 "cells": [
  {
   "cell_type": "markdown",
   "id": "1fe88f31-b777-498d-aeac-96d6f3ff3ea2",
   "metadata": {},
   "source": [
    "# Coding Set 3 (Workbench 4. Broken if-else statements)\n",
    "### Some of this was just how it defaults to align and indent code lines. I ran it once and it didn't work and showed what lines were wrong. I fixed those lines by deleting spaces and pressing enter at the right time. It seemed to work out by doing that."
   ]
  },
  {
   "cell_type": "code",
   "execution_count": 4,
   "id": "610b1238-69ed-4dae-bb8b-0c201f0adb3f",
   "metadata": {},
   "outputs": [],
   "source": [
    "#The set of code given was written without proper alignment and indentation, I will be rewriting it to fix that. "
   ]
  },
  {
   "cell_type": "code",
   "execution_count": null,
   "id": "4a1fb8bd-04ec-4d7f-aa97-b9ea236634b7",
   "metadata": {},
   "outputs": [],
   "source": [
    "if score >= A_score: \n",
    "    print('Your grade is A.')\n",
    "else:\n",
    "    if score >= B_score:\n",
    "        print('Your grade is B.')\n",
    "    else: \n",
    "        if score >= C_score:\n",
    "            print('Your grade is C.')\n",
    "        else: \n",
    "            if score >= D_score:\n",
    "                print('Your grade is D.')\n",
    "            else:\n",
    "                print('Your grade is F.')"
   ]
  }
 ],
 "metadata": {
  "kernelspec": {
   "display_name": "Python 3 (ipykernel)",
   "language": "python",
   "name": "python3"
  },
  "language_info": {
   "codemirror_mode": {
    "name": "ipython",
    "version": 3
   },
   "file_extension": ".py",
   "mimetype": "text/x-python",
   "name": "python",
   "nbconvert_exporter": "python",
   "pygments_lexer": "ipython3",
   "version": "3.11.7"
  }
 },
 "nbformat": 4,
 "nbformat_minor": 5
}

{
 "cells": [
  {
   "cell_type": "markdown",
   "id": "ca33f15a-59cd-4d24-a193-c22bb1d68008",
   "metadata": {},
   "source": [
    "# Workbench 8. Write a code that prompts user to enter a positive nonzero number and validates the input."
   ]
  },
  {
   "cell_type": "code",
   "execution_count": 11,
   "id": "31cd2f46-e31b-49a5-82da-2f3665f80c29",
   "metadata": {},
   "outputs": [],
   "source": [
    "#This program will validate user for entering a nonzero positive number and give an error for any \n",
    "#other numbers entered."
   ]
  },
  {
   "cell_type": "code",
   "execution_count": null,
   "id": "9fedf75d-5372-40c5-8fc6-978381e76e32",
   "metadata": {},
   "outputs": [],
   "source": [
    "#Get user to input positive nonzero number\n",
    "number = int(input('Enter a positive nonzero number: '))\n",
    "\n",
    "#Make sure the number is not negative or zero\n",
    "while number <= 0:\n"
   ]
  }
 ],
 "metadata": {
  "kernelspec": {
   "display_name": "Python 3 (ipykernel)",
   "language": "python",
   "name": "python3"
  },
  "language_info": {
   "codemirror_mode": {
    "name": "ipython",
    "version": 3
   },
   "file_extension": ".py",
   "mimetype": "text/x-python",
   "name": "python",
   "nbconvert_exporter": "python",
   "pygments_lexer": "ipython3",
   "version": "3.11.7"
  },
  "widgets": {
   "application/vnd.jupyter.widget-state+json": {
    "state": {},
    "version_major": 2,
    "version_minor": 0
   }
  }
 },
 "nbformat": 4,
 "nbformat_minor": 5
}

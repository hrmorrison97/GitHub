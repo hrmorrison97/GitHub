{
 "cells": [
  {
   "cell_type": "markdown",
   "id": "ca33f15a-59cd-4d24-a193-c22bb1d68008",
   "metadata": {},
   "source": [
    "# Workbench 8. Write a code that prompts user to enter a positive nonzero number and validates the input.\n",
    "#### In the book, 4.6 Input Validation Loops, they give us an example using test scores. I then took the expressions from chapter three and our else statements to create this program. "
   ]
  },
  {
   "cell_type": "code",
   "execution_count": 11,
   "id": "31cd2f46-e31b-49a5-82da-2f3665f80c29",
   "metadata": {},
   "outputs": [],
   "source": [
    "#This program will validate user for entering a nonzero positive number and give an error for any \n",
    "#other numbers entered."
   ]
  },
  {
   "cell_type": "code",
   "execution_count": 12,
   "id": "9fedf75d-5372-40c5-8fc6-978381e76e32",
   "metadata": {},
   "outputs": [
    {
     "name": "stdin",
     "output_type": "stream",
     "text": [
      "Enter a positive nonzero number:  -37\n"
     ]
    },
    {
     "name": "stdout",
     "output_type": "stream",
     "text": [
      "ERROR: The number cannot be negative\n",
      "or zero.\n"
     ]
    },
    {
     "name": "stdin",
     "output_type": "stream",
     "text": [
      "Enter the correct number:  37\n"
     ]
    },
    {
     "name": "stdout",
     "output_type": "stream",
     "text": [
      "The number you have entered is Correct\n"
     ]
    }
   ],
   "source": [
    "#Get user to input positive nonzero number\n",
    "number = int(input('Enter a positive nonzero number: '))\n",
    "\n",
    "#Make sure the number is not negative or zero\n",
    "while number <= 0:\n",
    "    print('ERROR: The number cannot be negative')\n",
    "    print('or zero.')                                 #Code will show errorfor wrong number\n",
    "    number = int(input('Enter the correct number: ')) #and prompt user to try again\n",
    "\n",
    "#else statement for numbers entered above zero to give 'Correct' message.\n",
    "else: number > 0 \n",
    "print('The number you have entered is Correct')"
   ]
  },
  {
   "cell_type": "code",
   "execution_count": null,
   "id": "1fc0232b-60c2-4c8d-946e-57e5d699cc46",
   "metadata": {},
   "outputs": [],
   "source": []
  }
 ],
 "metadata": {
  "kernelspec": {
   "display_name": "Python 3 (ipykernel)",
   "language": "python",
   "name": "python3"
  },
  "language_info": {
   "codemirror_mode": {
    "name": "ipython",
    "version": 3
   },
   "file_extension": ".py",
   "mimetype": "text/x-python",
   "name": "python",
   "nbconvert_exporter": "python",
   "pygments_lexer": "ipython3",
   "version": "3.11.7"
  },
  "widgets": {
   "application/vnd.jupyter.widget-state+json": {
    "state": {},
    "version_major": 2,
    "version_minor": 0
   }
  }
 },
 "nbformat": 4,
 "nbformat_minor": 5
}

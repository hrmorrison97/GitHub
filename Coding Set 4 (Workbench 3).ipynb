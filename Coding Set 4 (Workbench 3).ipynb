{
 "cells": [
  {
   "cell_type": "markdown",
   "id": "4df54501-0950-45d0-93c4-a5d292b66ef2",
   "metadata": {},
   "source": [
    "# Workbench 3. Write a for loop displaying a set of numbers.\n",
    "#### Our book gives us a great example of this in 4.3 after the 4-7 example, the book continues to explain step values and how to change what the program will output. Their method is pretty basic, so I kept mine basic as well."
   ]
  },
  {
   "cell_type": "code",
   "execution_count": 1,
   "id": "1fbf9ed9-36c6-4d03-b95f-ffdc210b8db0",
   "metadata": {},
   "outputs": [],
   "source": [
    "#this program will display a loop for numbers ranging 0 - 1000 by ten's"
   ]
  },
  {
   "cell_type": "code",
   "execution_count": null,
   "id": "b2af19ea-02bd-4274-8882-00961b25cbcb",
   "metadata": {},
   "outputs": [],
   "source": [
    "#the for loop here states the starting value is 0 and the ending value is 1001 and the amount to display by is in 10's.\n",
    "for num in range(0, 1001, 10):\n",
    "    print(num)"
   ]
  }
 ],
 "metadata": {
  "kernelspec": {
   "display_name": "Python 3 (ipykernel)",
   "language": "python",
   "name": "python3"
  },
  "language_info": {
   "codemirror_mode": {
    "name": "ipython",
    "version": 3
   },
   "file_extension": ".py",
   "mimetype": "text/x-python",
   "name": "python",
   "nbconvert_exporter": "python",
   "pygments_lexer": "ipython3",
   "version": "3.11.7"
  },
  "widgets": {
   "application/vnd.jupyter.widget-state+json": {
    "state": {},
    "version_major": 2,
    "version_minor": 0
   }
  }
 },
 "nbformat": 4,
 "nbformat_minor": 5
}

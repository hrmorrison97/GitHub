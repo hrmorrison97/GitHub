{
 "cells": [
  {
   "cell_type": "markdown",
   "id": "3cd4042c-4cda-4400-83d2-b9e3bfe0e231",
   "metadata": {},
   "source": [
    "# Workbench 2. Open my_name file, read name from file, display name, close file. \n",
    "#### The 'Reading Data From a File' section in our books, page 110, has a perfect figure to explain how this program should work properly. They've added extra lines to ensure the program functions how user would like and created a nice program output layout. "
   ]
  },
  {
   "cell_type": "code",
   "execution_count": 1,
   "id": "a08b58d6-a432-4d6c-9c54-acbe1ff78e8f",
   "metadata": {},
   "outputs": [],
   "source": [
    "#This program will open 'my_name' file, read the name in the file, display the name as a message, and close the file."
   ]
  },
  {
   "cell_type": "code",
   "execution_count": null,
   "id": "5e4a1ec9-811d-45a6-afe7-c407f48f9cff",
   "metadata": {},
   "outputs": [],
   "source": [
    "def main():                                         #defining main function \n",
    "    infile = open('my_name.txt', 'r')               #enter the file \n",
    "\n",
    "    file_contents = infile.read()                   #read the file's insides \n",
    "\n",
    "    infile.close()                                  #exit the file\n",
    "\n",
    "    print(file_contents)                            #print data extracted into memory"
   ]
  }
 ],
 "metadata": {
  "kernelspec": {
   "display_name": "Python 3 (ipykernel)",
   "language": "python",
   "name": "python3"
  },
  "language_info": {
   "codemirror_mode": {
    "name": "ipython",
    "version": 3
   },
   "file_extension": ".py",
   "mimetype": "text/x-python",
   "name": "python",
   "nbconvert_exporter": "python",
   "pygments_lexer": "ipython3",
   "version": "3.11.7"
  },
  "widgets": {
   "application/vnd.jupyter.widget-state+json": {
    "state": {},
    "version_major": 2,
    "version_minor": 0
   }
  }
 },
 "nbformat": 4,
 "nbformat_minor": 5
}

{
 "cells": [
  {
   "cell_type": "markdown",
   "id": "9d54dc0d-a612-4a62-908a-c1876b370383",
   "metadata": {},
   "source": [
    "# Exercise 6. Average of Numbers\n",
    "#### Since numbers read from a file must be converted from strings before being used in math operations, our book also gave a great example for writing this program. Unfortunately the book adds the example numbers together without an average of them, so I had to add an extra step into my code. "
   ]
  },
  {
   "cell_type": "code",
   "execution_count": 1,
   "id": "3048b3d8-2767-48ed-b37c-336a6f8da3ba",
   "metadata": {},
   "outputs": [],
   "source": [
    "#this program will read numbers from a file and calculate the average of said numbers. "
   ]
  },
  {
   "cell_type": "code",
   "execution_count": null,
   "id": "1f9a118d-6372-46ba-bee9-d01832de3909",
   "metadata": {},
   "outputs": [],
   "source": [
    "def main():                                     #defining that main function to start\n",
    "    infile = open('numbers.txt', 'r')           #prepare for file prying\n",
    "\n",
    "    num1 = int(infile.readline())               #invade file for numbers\n",
    "    num2 = int(infile.readline())\n",
    "    num3 = int(infile.readline()) \n",
    "\n",
    "    infile.close                                #get out of file, mind business, continue with life\n",
    "\n",
    "    average = (num1 + num2 + num3)/3            #find that average"
   ]
  }
 ],
 "metadata": {
  "kernelspec": {
   "display_name": "Python 3 (ipykernel)",
   "language": "python",
   "name": "python3"
  },
  "language_info": {
   "codemirror_mode": {
    "name": "ipython",
    "version": 3
   },
   "file_extension": ".py",
   "mimetype": "text/x-python",
   "name": "python",
   "nbconvert_exporter": "python",
   "pygments_lexer": "ipython3",
   "version": "3.11.7"
  },
  "widgets": {
   "application/vnd.jupyter.widget-state+json": {
    "state": {},
    "version_major": 2,
    "version_minor": 0
   }
  }
 },
 "nbformat": 4,
 "nbformat_minor": 5
}

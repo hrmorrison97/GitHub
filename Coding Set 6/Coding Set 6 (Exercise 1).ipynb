{
 "cells": [
  {
   "cell_type": "markdown",
   "id": "a52f4930-23a8-4c05-845f-a15415e1125b",
   "metadata": {},
   "source": [
    "# Exercise 1. File Display\n",
    "#### The last workbench problem I did where I opened the my_name file and displayed the name within is how I wrote this code. I don't know if we were supposed to open AND close the file but it's probably safer to not leave that connection open, right?"
   ]
  },
  {
   "cell_type": "code",
   "execution_count": 1,
   "id": "b8aab2df-2b90-447b-9b4b-b9e98ca48d4e",
   "metadata": {},
   "outputs": [],
   "source": [
    "#This program will read a file with numbers, display the numbers, and close the file. "
   ]
  },
  {
   "cell_type": "code",
   "execution_count": null,
   "id": "faae6b66-187a-48b0-ba6e-4c5f20a786cd",
   "metadata": {},
   "outputs": [],
   "source": [
    "def main()                                   #defining main function\n",
    "    infile = open('numbers.txt', 'r')        #preparing extraction from numbers file\n",
    "\n",
    "    file_contents = infile.read()            #extracting data from file\n",
    "\n",
    "    infile.close()                           #terminate extraction from file\n",
    "\n",
    "    print(file.contents)                     #print extraction into memory"
   ]
  }
 ],
 "metadata": {
  "kernelspec": {
   "display_name": "Python 3 (ipykernel)",
   "language": "python",
   "name": "python3"
  },
  "language_info": {
   "codemirror_mode": {
    "name": "ipython",
    "version": 3
   },
   "file_extension": ".py",
   "mimetype": "text/x-python",
   "name": "python",
   "nbconvert_exporter": "python",
   "pygments_lexer": "ipython3",
   "version": "3.11.7"
  },
  "widgets": {
   "application/vnd.jupyter.widget-state+json": {
    "state": {},
    "version_major": 2,
    "version_minor": 0
   }
  }
 },
 "nbformat": 4,
 "nbformat_minor": 5
}

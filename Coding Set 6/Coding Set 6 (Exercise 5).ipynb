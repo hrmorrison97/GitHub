{
 "cells": [
  {
   "cell_type": "markdown",
   "id": "31a69195-da0f-4b2b-b530-ab00e86bafe0",
   "metadata": {},
   "source": [
    "# Exercise 5. Sum of Numbers\n",
    "#### I chose this one to continue working with my existing files and expand my use of different functions. This was a rough week for me and I admit I took it a little easier on myself by choosing this problem. "
   ]
  },
  {
   "cell_type": "code",
   "execution_count": 15,
   "id": "737d93a8-def9-4f11-a9ed-75fc229600ca",
   "metadata": {},
   "outputs": [],
   "source": [
    "#this program will take numbers from a file and add them together for a total. "
   ]
  },
  {
   "cell_type": "code",
   "execution_count": 18,
   "id": "99851e88-e006-48eb-9d24-467778e803f8",
   "metadata": {},
   "outputs": [
    {
     "name": "stdout",
     "output_type": "stream",
     "text": [
      "The numbers be: 22, 14, -99\n",
      "The total of them may be: -63\n"
     ]
    }
   ],
   "source": [
    "def main():                                              #defines the main\n",
    "    infile = open('numbers.txt', 'r')                     #opens the file\n",
    "\n",
    "    num1 = int(infile.readline())                        #reads the file\n",
    "    num2 = int(infile.readline())\n",
    "    num3 = int(infile.readline())\n",
    "\n",
    "    infile.close()                                       #closes the file\n",
    "\n",
    "    total = num1 + num2 + num3                           #adds the numbers\n",
    "\n",
    "    print(f'The numbers be: {num1}, {num2}, {num3}')     #prints the numbers\n",
    "    print(f'The total of them may be: {total}')          #prints the total\n",
    "\n",
    "main()                                                   #calls the main"
   ]
  },
  {
   "cell_type": "code",
   "execution_count": null,
   "id": "3ed8eb98-c2c7-4195-ba86-5a73c8160bc7",
   "metadata": {},
   "outputs": [],
   "source": []
  }
 ],
 "metadata": {
  "kernelspec": {
   "display_name": "Python 3 (ipykernel)",
   "language": "python",
   "name": "python3"
  },
  "language_info": {
   "codemirror_mode": {
    "name": "ipython",
    "version": 3
   },
   "file_extension": ".py",
   "mimetype": "text/x-python",
   "name": "python",
   "nbconvert_exporter": "python",
   "pygments_lexer": "ipython3",
   "version": "3.11.7"
  },
  "widgets": {
   "application/vnd.jupyter.widget-state+json": {
    "state": {},
    "version_major": 2,
    "version_minor": 0
   }
  }
 },
 "nbformat": 4,
 "nbformat_minor": 5
}

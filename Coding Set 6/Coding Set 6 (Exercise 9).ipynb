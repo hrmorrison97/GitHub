{
 "cells": [
  {
   "cell_type": "markdown",
   "id": "5f67d4e7-3b8c-419a-83be-90098ece14b9",
   "metadata": {},
   "source": [
    "# Exercise 9. Exception Handling\n",
    "#### This exercise was nice, I took what I coded in exercise 6 like it says and added the lines from the book for except errors. I don't know if they would do anything since the code file is straight from the book's website but heres my code for exceptions. "
   ]
  },
  {
   "cell_type": "code",
   "execution_count": 1,
   "id": "85fecaf0-fde3-4990-9889-ef547fd397a5",
   "metadata": {},
   "outputs": [],
   "source": [
    "#this code will handle an I0Error and ValueError exceptions"
   ]
  },
  {
   "cell_type": "code",
   "execution_count": null,
   "id": "a834aac2-450f-4061-ada6-050fe9f2650f",
   "metadata": {},
   "outputs": [],
   "source": [
    "def main():                                                                #defining that main function to start\n",
    "    infile = open('numbers.txt', 'r')                                      #prepare for file prying\n",
    "\n",
    "    try:                                                                   #creating lovely try suite & got code from exercise 6\n",
    "        num1 = int(infile.readline())                                      #invade file for numbers\n",
    "        num2 = int(infile.readline())\n",
    "        num3 = int(infile.readline()) \n",
    "\n",
    "        infile.close                                                       #get out of file, mind business, continue with life\n",
    "\n",
    "        average = (num1 + num2 + num3)/3                                   #find that average\n",
    "\n",
    "        print(f'The numbers to be averaged are: {num1}, {num2}, {num3}')   #print the stolen numbers\n",
    "        print(f'Their average is: {average}')                              #print average of stolen numbers"
   ]
  }
 ],
 "metadata": {
  "kernelspec": {
   "display_name": "Python 3 (ipykernel)",
   "language": "python",
   "name": "python3"
  },
  "language_info": {
   "codemirror_mode": {
    "name": "ipython",
    "version": 3
   },
   "file_extension": ".py",
   "mimetype": "text/x-python",
   "name": "python",
   "nbconvert_exporter": "python",
   "pygments_lexer": "ipython3",
   "version": "3.11.7"
  },
  "widgets": {
   "application/vnd.jupyter.widget-state+json": {
    "state": {},
    "version_major": 2,
    "version_minor": 0
   }
  }
 },
 "nbformat": 4,
 "nbformat_minor": 5
}

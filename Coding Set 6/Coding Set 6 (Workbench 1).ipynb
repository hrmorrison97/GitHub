{
 "cells": [
  {
   "cell_type": "markdown",
   "id": "0ca541d9-6bfd-4b8c-ab5c-e930fcbb9850",
   "metadata": {},
   "source": [
    "# Workbench 1. Open file my_name, write my name, close my_name file\n",
    "#### The beginning of chapter 6 gives a pretty good explination on how to write this code. Thankfully it's quite easy to just edit what's in the book into our own words for what we want it to say. Hopefully I've added this all together correctly. "
   ]
  },
  {
   "cell_type": "code",
   "execution_count": 1,
   "id": "66d9afb0-f570-4d41-b64b-ca776bc75e71",
   "metadata": {},
   "outputs": [],
   "source": [
    "#This program will open a file, I will enter my name into the file, and then close the file within the programs code. "
   ]
  },
  {
   "cell_type": "code",
   "execution_count": null,
   "id": "150e72db-7d51-4c40-91b3-10e1f43be9f8",
   "metadata": {},
   "outputs": [],
   "source": [
    "my_name = open(\"http://localhost:8889/tree/Coding%20Set%206/my_name.txt\", \"w\")     #opening/creating the file\n",
    "my_name.write(\"Hannah Renee Morrison\")                                             #writing my name in the file"
   ]
  }
 ],
 "metadata": {
  "kernelspec": {
   "display_name": "Python 3 (ipykernel)",
   "language": "python",
   "name": "python3"
  },
  "language_info": {
   "codemirror_mode": {
    "name": "ipython",
    "version": 3
   },
   "file_extension": ".py",
   "mimetype": "text/x-python",
   "name": "python",
   "nbconvert_exporter": "python",
   "pygments_lexer": "ipython3",
   "version": "3.11.7"
  },
  "widgets": {
   "application/vnd.jupyter.widget-state+json": {
    "state": {},
    "version_major": 2,
    "version_minor": 0
   }
  }
 },
 "nbformat": 4,
 "nbformat_minor": 5
}
